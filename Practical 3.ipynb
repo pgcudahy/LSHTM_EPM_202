{
 "cells": [
  {
   "cell_type": "markdown",
   "id": "9e204fe5",
   "metadata": {},
   "source": [
    "# Survival analysis"
   ]
  },
  {
   "cell_type": "markdown",
   "id": "a687dd6c",
   "metadata": {},
   "source": [
    "## Aim\n",
    "\n",
    "To learn how to compute Kaplan-Meier survival curves and test for a difference in the survival probabilities for different groups."
   ]
  },
  {
   "cell_type": "code",
   "execution_count": null,
   "id": "eb6ca4b6",
   "metadata": {
    "vscode": {
     "languageId": "r"
    }
   },
   "outputs": [],
   "source": [
    "library(tidyverse)"
   ]
  },
  {
   "cell_type": "markdown",
   "id": "5757237a",
   "metadata": {},
   "source": [
    "## Reading in the dataset and identifying relevant variables\n",
    "\n",
    "Throughout this session we will be analysing a dataset from a cohort study of 318 men carried out in Trinidad.\n",
    "To read in the dataset, type:"
   ]
  },
  {
   "cell_type": "code",
   "execution_count": null,
   "id": "c78086eb",
   "metadata": {
    "vscode": {
     "languageId": "r"
    }
   },
   "outputs": [],
   "source": [
    "library(haven)"
   ]
  },
  {
   "cell_type": "code",
   "execution_count": null,
   "id": "78b4c58a",
   "metadata": {
    "vscode": {
     "languageId": "r"
    }
   },
   "outputs": [],
   "source": [
    "trinidad_df <- read_dta(\"Data_files-20211113/Trinidad.dta\")"
   ]
  },
  {
   "cell_type": "code",
   "execution_count": null,
   "id": "6aabaf1b",
   "metadata": {
    "vscode": {
     "languageId": "r"
    }
   },
   "outputs": [],
   "source": [
    "head(trinidad_df)"
   ]
  },
  {
   "cell_type": "markdown",
   "id": "667437ca",
   "metadata": {},
   "source": [
    "To find out how many deaths from any cause occurred during the follow-up period, type:"
   ]
  },
  {
   "cell_type": "code",
   "execution_count": null,
   "id": "3bbf3f12",
   "metadata": {
    "vscode": {
     "languageId": "r"
    }
   },
   "outputs": [],
   "source": [
    "library(gmodels)\n",
    "CrossTable(trinidad_df$death)"
   ]
  },
  {
   "cell_type": "markdown",
   "id": "61b26792",
   "metadata": {},
   "source": [
    "There were a total of 88 deaths (28%) from any cause."
   ]
  },
  {
   "cell_type": "markdown",
   "id": "213c7f63",
   "metadata": {},
   "source": [
    "To find out how many men entered the study with CHD type:"
   ]
  },
  {
   "cell_type": "code",
   "execution_count": null,
   "id": "36743b7d",
   "metadata": {
    "vscode": {
     "languageId": "r"
    }
   },
   "outputs": [],
   "source": [
    "CrossTable(trinidad_df$chdstart)"
   ]
  },
  {
   "cell_type": "markdown",
   "id": "578946ed",
   "metadata": {},
   "source": [
    "38 men entered the study with CHD. Note: chdstart was recorded for only 290/318 men, i.e. there are 28 missing values.\n",
    "\n",
    "#### To analyse data from cohort studies focussing on the time to an event we will use the Kaplan-Meier method. This method can give a graphical description of the survival pattern of the cohort based on the individual data when an event or censoring occurs."
   ]
  },
  {
   "cell_type": "markdown",
   "id": "dd83e1fc",
   "metadata": {},
   "source": [
    "## Kaplan-Meier survival probabilities"
   ]
  },
  {
   "cell_type": "markdown",
   "id": "9cfd9a8f",
   "metadata": {},
   "source": [
    "To obtain Kaplan-Meier estimates of these survival probabilities we must first define the follow-up information. We must be careful to specify when individuals first became at risk. Type:"
   ]
  },
  {
   "cell_type": "code",
   "execution_count": null,
   "id": "7f58d6cb",
   "metadata": {
    "vscode": {
     "languageId": "r"
    }
   },
   "outputs": [],
   "source": [
    "trinidad_df_2 <- trinidad_df %>%\n",
    "    mutate(followup_time = as.numeric(difftime(trinidad_df$timeout, \n",
    "                                               trinidad_df$timein, \n",
    "                                               units = \"days\")) / 365.25)"
   ]
  },
  {
   "cell_type": "markdown",
   "id": "1049be18",
   "metadata": {},
   "source": [
    "To produce a Kaplan-Meier plot for the survival of men with heart disease at entry to the study, type:"
   ]
  },
  {
   "cell_type": "code",
   "execution_count": null,
   "id": "6b45fb82",
   "metadata": {
    "vscode": {
     "languageId": "r"
    }
   },
   "outputs": [],
   "source": [
    "library(survival)"
   ]
  },
  {
   "cell_type": "code",
   "execution_count": null,
   "id": "76004892",
   "metadata": {
    "vscode": {
     "languageId": "r"
    }
   },
   "outputs": [],
   "source": [
    "library(survminer)"
   ]
  },
  {
   "cell_type": "code",
   "execution_count": null,
   "id": "dd0827dd",
   "metadata": {
    "vscode": {
     "languageId": "r"
    }
   },
   "outputs": [],
   "source": [
    "survfit(Surv(time = followup_time, \n",
    "             event = death) ~ chdstart, \n",
    "        data = trinidad_df_2 %>% \n",
    "            #Filter to keep only those with heart\n",
    "            #disease at entry\n",
    "            filter(chdstart == 1)) %>%\n",
    "    ggsurvplot(conf.int = FALSE)"
   ]
  },
  {
   "cell_type": "markdown",
   "id": "b5837626",
   "metadata": {},
   "source": [
    "Notice this plot is a step function because it is calculated at every time point when an event or censoring occurs. Approximately, what is the survival probability at 10 years for men who enter the study with heart disease?"
   ]
  },
  {
   "cell_type": "markdown",
   "id": "23b2f26f",
   "metadata": {},
   "source": [
    "##### From the plot we can see this is about 0.55."
   ]
  },
  {
   "cell_type": "markdown",
   "id": "4d14ad5f",
   "metadata": {},
   "source": [
    "To produce the Kaplan-Meier survival curves for men with and without heart disease at entry to the study we must specify chdstart as the stratifying variable. Type:"
   ]
  },
  {
   "cell_type": "code",
   "execution_count": null,
   "id": "869baef9",
   "metadata": {
    "vscode": {
     "languageId": "r"
    }
   },
   "outputs": [],
   "source": [
    "survfit(Surv(time = followup_time, \n",
    "             event = death) ~ chdstart, \n",
    "        data = trinidad_df_2) %>%\n",
    "    ggsurvplot(conf.int = FALSE)"
   ]
  },
  {
   "cell_type": "markdown",
   "id": "97bc42f7",
   "metadata": {},
   "source": [
    "The two survival curves are presented on the same plot and show that the men who entered the study without heart disease had higher cumulative survival probabilities. A formal statistical test of the difference between these curves is the **log-rank test**."
   ]
  },
  {
   "cell_type": "markdown",
   "id": "5b60415e",
   "metadata": {},
   "source": [
    "## Log-rank test"
   ]
  },
  {
   "cell_type": "markdown",
   "id": "37453bbf",
   "metadata": {},
   "source": [
    "The log-rank test is used to test the null hypothesis of no difference between two survival curves. In `R` we use the command `survdiff` and specify the variable with the groups we want to compare. So, to compare the survival probabilities of men with and without heart disease at entry to the study, type:"
   ]
  },
  {
   "cell_type": "code",
   "execution_count": null,
   "id": "ed22f6af",
   "metadata": {
    "vscode": {
     "languageId": "r"
    }
   },
   "outputs": [],
   "source": [
    "survdiff(Surv(time = followup_time, \n",
    "             event = death) ~ chdstart, \n",
    "        data = trinidad_df_2)"
   ]
  },
  {
   "cell_type": "markdown",
   "id": "6c05d536",
   "metadata": {},
   "source": [
    "The log-rank test provides strong evidence against the null hypothesis (P=0.01) and we can conclude that cumulative survival differs between the two groups of men. However, the log-rank test does not enable us to quantify the difference in survival probabilities."
   ]
  },
  {
   "cell_type": "markdown",
   "id": "66db829c",
   "metadata": {},
   "source": [
    "# Review exercise"
   ]
  },
  {
   "cell_type": "markdown",
   "id": "8c473d55",
   "metadata": {},
   "source": [
    "#### 1) Obtain Kaplan-Meier survival curves for current smokers and current non-smokers. Is the survival probability for current smokers always less than that for current non- smokers?"
   ]
  },
  {
   "cell_type": "code",
   "execution_count": null,
   "id": "978f3be4",
   "metadata": {
    "vscode": {
     "languageId": "r"
    }
   },
   "outputs": [],
   "source": [
    "survfit(Surv(time = followup_time, \n",
    "             event = death) ~ current, \n",
    "        data = trinidad_df_2) %>%\n",
    "    ggsurvplot(conf.int = FALSE)"
   ]
  },
  {
   "cell_type": "markdown",
   "id": "1b8d8b13",
   "metadata": {},
   "source": [
    "Survival probabilities are similar for the first 4 years and then afterwards are higher for current non-smokers"
   ]
  },
  {
   "cell_type": "markdown",
   "id": "155bd881",
   "metadata": {},
   "source": [
    "#### 2) Use a log-rank test to test the difference in the survival curves you produced in 1. Interpret your output."
   ]
  },
  {
   "cell_type": "code",
   "execution_count": null,
   "id": "4253378f",
   "metadata": {
    "vscode": {
     "languageId": "r"
    }
   },
   "outputs": [],
   "source": [
    "survdiff(Surv(time = followup_time, \n",
    "             event = death) ~ current, \n",
    "        data = trinidad_df_2)"
   ]
  },
  {
   "cell_type": "markdown",
   "id": "476912e0",
   "metadata": {},
   "source": [
    "There is moderate evidence for a difference in the two groups"
   ]
  }
 ],
 "metadata": {
  "kernelspec": {
   "display_name": "R",
   "language": "R",
   "name": "ir"
  },
  "language_info": {
   "codemirror_mode": "r",
   "file_extension": ".r",
   "mimetype": "text/x-r-source",
   "name": "R",
   "pygments_lexer": "r",
   "version": "4.1.3"
  }
 },
 "nbformat": 4,
 "nbformat_minor": 5
}
