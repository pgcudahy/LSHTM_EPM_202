{
 "cells": [
  {
   "cell_type": "markdown",
   "metadata": {},
   "source": [
    "# Practical 8"
   ]
  },
  {
   "cell_type": "markdown",
   "metadata": {},
   "source": [
    "## Aim\n",
    "\n",
    "To learn how to examine and interpret interaction between two variables in a logistic model. "
   ]
  },
  {
   "cell_type": "code",
   "execution_count": null,
   "metadata": {},
   "outputs": [],
   "source": [
    "library(tidyverse)"
   ]
  },
  {
   "cell_type": "markdown",
   "metadata": {},
   "source": [
    "## Reading in the dataset and identifying relevant variables\n",
    "\n",
    "In this practical session we will use a dataset from the study of helminths in Uganda.\n",
    "\n",
    "To read in the dataset, type:"
   ]
  },
  {
   "cell_type": "code",
   "execution_count": null,
   "metadata": {},
   "outputs": [],
   "source": [
    "library(haven)"
   ]
  },
  {
   "cell_type": "code",
   "execution_count": null,
   "metadata": {},
   "outputs": [],
   "source": [
    "helminths_df <- read_dta(\"Data_files-20211113/helminths.dta\")"
   ]
  },
  {
   "cell_type": "markdown",
   "metadata": {},
   "source": [
    "In this session we will focus again on hookworm infection as the main exposure and severe anaemia as the outcome. If you are starting this practical, you may need to make sure it is called hookworm. If it is currently called hk_bin. type:"
   ]
  },
  {
   "cell_type": "code",
   "execution_count": null,
   "metadata": {},
   "outputs": [],
   "source": [
    "helminths_df_2 <- helminths_df %>%\n",
    "    mutate(hookworm = hk_bin)"
   ]
  },
  {
   "cell_type": "markdown",
   "metadata": {},
   "source": [
    "This has now renamed the variable describing hookworm infection status to hookworm. We will examine whether the effect of hookworm on severe anaemia is modified by age. The aim of all statistical modelling exercises is to obtain the best measure of effect for the exposure of interest. There is no point in having a complex model which is difficult to interpret if a simpler one is statistically almost as good. So our strategy will be to test a model with interaction between hookworm and agegrp.  If it does not significantly improve the model, tested via the likelihood ratio test (LRT), then a simpler model with no interaction will be chosen.   \n",
    " \n",
    "First a recap of the variables of interest:\n",
    "\n",
    "**anaemic_sev**  \n",
    "    coded: 0=no, 1=yes \n",
    " \n",
    "**hookworm** is the variable name for hookworm infection status  \n",
    "    coded:  0=uninfected, 1=infected \n",
    "\n",
    "**agegrp** is the variable name for age-group \n",
    "    coded: 0=<20, 1=20-24, 2=25-29, 3=30+ \n",
    "\n",
    "**malaria** \n",
    "    coded: 0=uninfected, 1=infected "
   ]
  },
  {
   "cell_type": "markdown",
   "metadata": {},
   "source": [
    "\n",
    "To illustrate with a less complex model, use recode with age to create a binary variable. This is only less complex in that there will be fewer parameters in the model. (It is possible to test interactions with more than two categories in a variable, but we are trying here to keep things simpler at first.) To create a new variable where age takes 2  levels, type: "
   ]
  },
  {
   "cell_type": "code",
   "execution_count": null,
   "metadata": {},
   "outputs": [],
   "source": [
    "helminths_df_3 <- helminths_df_2 %>%\n",
    "    mutate(agebin = as.factor(if_else(agegrp < 2, 0, 1)))"
   ]
  },
  {
   "cell_type": "markdown",
   "metadata": {},
   "source": [
    "Check the recoding of the new variable agebin by tabulating it against the original \n",
    "variable agegrp.  Type:"
   ]
  },
  {
   "cell_type": "code",
   "execution_count": null,
   "metadata": {},
   "outputs": [],
   "source": [
    "table(helminths_df_3$agegrp, helminths_df_3$agebin)"
   ]
  },
  {
   "cell_type": "markdown",
   "metadata": {},
   "source": [
    "## Specifying a logistic model with an interaction term\n",
    "\n",
    "In Practical 7 we produced a logistic model that assumed proportional odds. This assumed that the effect of hookworm infection on severe anaemia is the same for all levels of age. If the effect of hookworm is modified by age, i.e. there is interaction between the two variables, we should include the interaction in our model."
   ]
  },
  {
   "cell_type": "markdown",
   "metadata": {},
   "source": [
    "To produce a model with interaction in `glm` insert `*` between the two variables for which the interaction parameter(s) are required. Type:"
   ]
  },
  {
   "cell_type": "code",
   "execution_count": null,
   "metadata": {},
   "outputs": [],
   "source": [
    "anaemia_agebin_interaction_glm <-\n",
    "glm(anaemic_sev ~ agebin * hookworm,\n",
    "    data = helminths_df_3,\n",
    "    family = binomial)"
   ]
  },
  {
   "cell_type": "code",
   "execution_count": null,
   "metadata": {},
   "outputs": [],
   "source": [
    "summary(anaemia_agebin_interaction_glm)"
   ]
  },
  {
   "cell_type": "code",
   "execution_count": null,
   "metadata": {},
   "outputs": [],
   "source": [
    "exp(cbind(OR = coef(anaemia_agebin_interaction_glm), confint(anaemia_agebin_interaction_glm)))"
   ]
  },
  {
   "cell_type": "markdown",
   "metadata": {},
   "source": [
    "We will return to the interpretation of this output shortly."
   ]
  },
  {
   "cell_type": "markdown",
   "metadata": {},
   "source": [
    "## Likelihood ratio test for interaction  \n",
    "\n",
    "Before attempting to interpret interaction terms let’s test this interaction formally using a likelihood ratio test.  Type the following commands: "
   ]
  },
  {
   "cell_type": "code",
   "execution_count": null,
   "metadata": {},
   "outputs": [],
   "source": [
    "anaemia_agebin_glm <-\n",
    "glm(anaemic_sev ~ agebin + hookworm,\n",
    "    data = helminths_df_3,\n",
    "    family = binomial)"
   ]
  },
  {
   "cell_type": "code",
   "execution_count": null,
   "metadata": {},
   "outputs": [],
   "source": [
    "library(lmtest)"
   ]
  },
  {
   "cell_type": "code",
   "execution_count": null,
   "metadata": {},
   "outputs": [],
   "source": [
    "lrtest(anaemia_agebin_interaction_glm, anaemia_agebin_glm)"
   ]
  },
  {
   "cell_type": "markdown",
   "metadata": {},
   "source": [
    "The LRT tests the null hypothesis that the model with the interaction term does not improve the model fit when compared to the model without the interaction term, or, put another way, that the two models fit equally well. There is no strong evidence (P=0.672) against this null hypothesis, therefore it would be reasonable to assume that there is no strong evidence for interaction and to accept the simpler model.  "
   ]
  },
  {
   "cell_type": "code",
   "execution_count": null,
   "metadata": {},
   "outputs": [],
   "source": [
    "summary(anaemia_agebin_glm)"
   ]
  },
  {
   "cell_type": "code",
   "execution_count": null,
   "metadata": {},
   "outputs": [],
   "source": [
    "exp(cbind(OR = coef(anaemia_agebin_glm), confint(anaemia_agebin_glm)))"
   ]
  },
  {
   "cell_type": "markdown",
   "metadata": {},
   "source": [
    "From this model we would conclude that the odds of severe anaemia in hookworm infected women are 2.8 times the odds of severe anaemia in hookworm uninfected women irrespective of age, and that the odds of severe anaemia in those aged 25+ years are 0.7 times the odds of severe anaemia in those aged <25 years regardless of hookworm infection status. "
   ]
  },
  {
   "cell_type": "markdown",
   "metadata": {},
   "source": [
    "## Interpreting an interaction model \n",
    "\n",
    "There is very little evidence against the null hypothesis of no interaction in this example and we would therefore usually choose to assume that the proportional odds model is reasonable. However, for the purpose of demonstrating how to analyse and interpret interactions we will proceed with the interaction model. \n",
    "\n",
    "Let’s now return to the output of the interaction model from page 59.  "
   ]
  },
  {
   "cell_type": "code",
   "execution_count": null,
   "metadata": {},
   "outputs": [],
   "source": [
    "summary(anaemia_agebin_interaction_glm)"
   ]
  },
  {
   "cell_type": "code",
   "execution_count": null,
   "metadata": {},
   "outputs": [],
   "source": [
    "exp(cbind(OR = coef(anaemia_agebin_interaction_glm), confint(anaemia_agebin_interaction_glm)))"
   ]
  },
  {
   "cell_type": "markdown",
   "metadata": {},
   "source": [
    "This model contains an interaction between age and hookworm infection status. This means that there is no longer an overall age effect regardless of hookworm infection status because the effect of age differs according to hookworm infection status (and vice versa, the hookworm effect depends on age group). \n",
    "\n",
    "The coefficients for the main effects are interpreted as the effect of the exposure when all other exposures involved in the interaction in the model are equal to their baseline categories. The two exposures involved in the interaction in this model are age group and hookworm infection. \n",
    "\n",
    "As an aside, note that if we had also included a third variable in this model (say, maternal education), as a main effect only, we would interpret the coefficients for the main effect of agebin as the effect of agebin when hookworm infection was equal to its baseline category, but now adjusted for maternal education. Similarly, the coefficient for the main effect of hookworm infection would be interpreted as the effect of hookworm infection, adjusted for maternal education, and when agebin is equal to its baseline category. \n",
    "\n",
    "The coefficient for `agebin` is 0.75 which represents the effect of age group in the baseline category for hookworm. Therefore, the odds of severe anaemia in those aged 25+ are 0.75 times the odds of severe anaemia in those aged <25 years who are uninfected with hookworm. \n",
    "\n",
    "Similarly the odds of severe anaemia in hookworm infected women are 2.95 times the odds of severe anaemia in hookworm uninfected women in the <25 year age-group. These are known as stratum-specific effects: they are the effects within specific strata (meaning groups or combinations of groups). Let’s divide the age and hookworm categories into four strata: \n",
    "\n",
    "[A] = [age <25, hookworm uninfected] \n",
    "\n",
    "[B] = [age 25+, hookworm uninfected] \n",
    "\n",
    "[C] = [age <25, hookworm infected] \n",
    "\n",
    "[D] = [age 25+, hookworm infected] \n",
    "\n",
    "Here [A] corresponds to the strata where both exposures equal their baseline categories, and the coefficient for `agebin` represents the comparison [B vs A] and the coefficient for hookworm represents the comparison [C vs A].\n",
    "\n",
    "The 3rd row of the output table corresponds to the interaction parameter (which `R` refers to as `agebin1:hookworm`). The interaction coefficient is the additional effect, over and above the main effects, that occurs when both exposures are “present”. \n",
    " \n",
    "For example, the odds ratio for the comparison [D vs A] is obtained as: \n",
    "\n",
    "OR = 0.75 × 2.95 × 0.88 = 1.95.  \n",
    " \n",
    "There are still some stratum-specific estimates that we have not yet evaluated. For example we know the odds ratio in hookworm infected compared to uninfected women is 2.95 in the <25 years age group but what is it in the 25+ age group? To determine this we must multiply the appropriate coefficients from the model. This particular estimate corresponds to the comparison [D vs B]. Age is the same in both of these strata therefore we do not need to include a main effect for age. We are comparing hookworm infection vs “no infection” so we do require the main effect of hookworm. Both exposures are \n",
    "“present” in strata [D] so we also need to include the interaction parameter. Therefore the odds ratio is calculated as OR = 2.95 × 0.88 = 2.60, i.e. in the 25+ age group, the odds of severe anaemia in hookworm infected women are 2.60 times the odds of severe anaemia in women without hookworm infection. \n",
    " \n",
    "Following similar logic, in hookworm infected women the odds of severe anaemia in those aged 25+ are 0.75 × 0.88 = 0.66 times the odds of severe anaemia in those aged <25 years (This corresponds to the comparison [D vs C]. \n",
    " \n",
    "Let’s just review the results from the models with and without the interaction. The simpler model (the proportional odds model, since it assumes the odds of severe anaemia are the same regardless of the categories of the other exposure) gives the overall age effect as OR = 0.70. On the other hand the interaction model gives the stratum-specific (i.e. hookworm infection-specific) age effects as OR = 0.75 for hookworm uninfected and OR = 0.66 for hookworm infected women. \n",
    " \n",
    "Notes: \n",
    "\n",
    "1. The formal test for interaction suggested very little evidence against the null hypothesis, however the actual stratum-specific estimates are somewhat \n",
    "different to each other. It is important to take away from this that the size of the p-value for the test for interaction does not indicate the magnitude of the interaction effect. \n",
    "2. The overall effect lies somewhere between the two stratum-specific effects; it is essentially a weighted average of the two. \n",
    "3. While the two stratum specific odds ratios appear somewhat different, they both point in the same direction (i.e. are <1).  \n",
    "4. Also, we have not calculated confidence intervals. If the confidence intervals overlap, or include the other stratum specific value, we might reconsider how different we feel the two stratum specific values are.  \n",
    "5. Both the model with and without interaction estimates the underlying ‘true’ effects in the population, and there is no strong evidence that one model is better than the other.  \n",
    "6. Generally speaking, the stronger the evidence of interaction, the more helpful it is to present stratum-specific estimates rather than an overall estimate of effect. However, there is no absolute cut-off, and it is up to us to decide when the interaction is so important to your main question of interest that you cannot present an overall estimate of effect. We cover these choices in more detail in Session SM12 – Strategies of Analysis. \n",
    " "
   ]
  },
  {
   "cell_type": "markdown",
   "metadata": {},
   "source": [
    "## Obtaining stratum–specific estimates using Stata"
   ]
  },
  {
   "cell_type": "markdown",
   "metadata": {},
   "source": [
    "We have now seen how to calculate stratum-specific effects using the coefficients from \n",
    "the logistic regression model. Stata can produce stratum-specific results in the following \n",
    "ways: \n",
    " \n",
    "1. `R` can obtain stratum-specific estimates by producing a logistic model for each level of the stratifying variable. For example, to produce estimates for each level of agebin, type:"
   ]
  },
  {
   "cell_type": "code",
   "execution_count": null,
   "metadata": {},
   "outputs": [],
   "source": [
    "anaemia_hookworm_agebin_stratum0_glm <-\n",
    "glm(anaemic_sev ~ hookworm,\n",
    "    data = helminths_df_3 %>% subset(agebin == 0),\n",
    "    family = binomial)"
   ]
  },
  {
   "cell_type": "code",
   "execution_count": null,
   "metadata": {},
   "outputs": [],
   "source": [
    "summary(anaemia_hookworm_agebin_stratum0_glm)"
   ]
  },
  {
   "cell_type": "code",
   "execution_count": null,
   "metadata": {},
   "outputs": [],
   "source": [
    "exp(cbind(OR = coef(anaemia_hookworm_agebin_stratum0_glm), \n",
    "    confint(anaemia_hookworm_agebin_stratum0_glm)))"
   ]
  },
  {
   "cell_type": "code",
   "execution_count": null,
   "metadata": {},
   "outputs": [],
   "source": [
    "anaemia_hookworm_agebin_stratum1_glm <-\n",
    "glm(anaemic_sev ~ hookworm,\n",
    "    data = helminths_df_3 %>% subset(agebin == 1),\n",
    "    family = binomial)"
   ]
  },
  {
   "cell_type": "code",
   "execution_count": null,
   "metadata": {},
   "outputs": [],
   "source": [
    "summary(anaemia_hookworm_agebin_stratum1_glm)"
   ]
  },
  {
   "cell_type": "code",
   "execution_count": null,
   "metadata": {},
   "outputs": [],
   "source": [
    "exp(cbind(OR = coef(anaemia_hookworm_agebin_stratum1_glm), \n",
    "    confint(anaemia_hookworm_agebin_stratum1_glm)))"
   ]
  },
  {
   "cell_type": "markdown",
   "metadata": {},
   "source": [
    "The disadvantage of this approach is that each model has a smaller sample size hence, less power, than a single model. The next two methods allow the full dataset to be used. "
   ]
  },
  {
   "cell_type": "markdown",
   "metadata": {},
   "source": [
    "2) The recommended approach when using the full dataset is to use linear combinations. There are readymade packages in `R` such as `lincom` from `biostat3` that compute point estimates, standard errors, t or z statistics,  p-values, and confidence intervals for linear combinations of coefficients of any regression model. We'll try and recreate these outputs using the function `glht` from the package `multcomp`.\n",
    "\n",
    "Once again, let’s look at the output from our interaction model:"
   ]
  },
  {
   "cell_type": "code",
   "execution_count": null,
   "metadata": {},
   "outputs": [],
   "source": [
    "summary(anaemia_agebin_interaction_glm)"
   ]
  },
  {
   "cell_type": "code",
   "execution_count": null,
   "metadata": {},
   "outputs": [],
   "source": [
    "exp(cbind(OR = coef(anaemia_agebin_interaction_glm), \n",
    "    confint(anaemia_agebin_interaction_glm)))"
   ]
  },
  {
   "cell_type": "markdown",
   "metadata": {},
   "source": [
    "We have already calculated the odds ratio for hookworm infection vs no infection in the 25+ age group as OR = 2.95 × 0.88 = 2.60, i.e. by combining the main effects of hookworm and the interaction between agebin and hookworm. \n",
    "\n",
    "`R` can do this, but with the additional benefit of computing 95% confidence intervals: "
   ]
  },
  {
   "cell_type": "code",
   "execution_count": null,
   "metadata": {},
   "outputs": [],
   "source": [
    "library(multcomp)"
   ]
  },
  {
   "cell_type": "code",
   "execution_count": null,
   "metadata": {},
   "outputs": [],
   "source": [
    "anaemia_agebin_interaction_lincom <-\n",
    "    glht(anaemia_agebin_interaction_glm,\n",
    "    linfct = c(\"hookworm + agebin1:hookworm = 1\"))"
   ]
  },
  {
   "cell_type": "code",
   "execution_count": null,
   "metadata": {},
   "outputs": [],
   "source": [
    "summary(anaemia_agebin_interaction_lincom)"
   ]
  },
  {
   "cell_type": "code",
   "execution_count": null,
   "metadata": {},
   "outputs": [],
   "source": [
    "exp(cbind(OR = coef(anaemia_agebin_interaction_lincom),\n",
    "    confint.default(anaemia_agebin_interaction_lincom)))"
   ]
  },
  {
   "cell_type": "markdown",
   "metadata": {},
   "source": [
    "In this example, both `hookworm` and `agebin` are coded as binary variables. Suppose instead we modelled an interaction between `hookworm` and `agegrp`, where `agegrp` was coded 1, 2 or 3, then `R` would create the interaction terms `agebin2:hookworm` and `agebin3:hookworm`. Any of these could be combined using `glht` to compute stratum-specific odds ratios for the multiple strata. "
   ]
  },
  {
   "cell_type": "markdown",
   "metadata": {},
   "source": [
    "3) There is a third possible approach, which is to create new indicator variables using a method called ‘re-parameterisation’ and so obtain the stratum-specific estimates directly from the Stata output:\n"
   ]
  },
  {
   "cell_type": "code",
   "execution_count": null,
   "metadata": {},
   "outputs": [],
   "source": [
    "helminths_df_4 <-\n",
    "helminths_df_3 %>%\n",
    "    mutate(hookwormage0 = if_else(agebin == 0 & hookworm == 1, 1, 0))"
   ]
  },
  {
   "cell_type": "markdown",
   "metadata": {},
   "source": [
    "This will take the value 1 when hookworm = 1 and agebin = 0, otherwise it takes the value 0 (i.e. this corresponds to our stratum [C]). Similarly, "
   ]
  },
  {
   "cell_type": "code",
   "execution_count": null,
   "metadata": {},
   "outputs": [],
   "source": [
    "helminths_df_5 <-\n",
    "helminths_df_4 %>%\n",
    "    mutate(hookwormage1 = if_else(agebin == 1 & hookworm == 1, 1, 0))"
   ]
  },
  {
   "cell_type": "markdown",
   "metadata": {},
   "source": [
    "This will take the value 1 when hookworm=1 & agebin=1, otherwise it takes the value 0 (i.e. this corresponds to our stratum [D])."
   ]
  },
  {
   "cell_type": "markdown",
   "metadata": {},
   "source": [
    "We can obtain age-group-specific effects for hookworm by fitting the model:"
   ]
  },
  {
   "cell_type": "code",
   "execution_count": null,
   "metadata": {},
   "outputs": [],
   "source": [
    "anaemia_agebin_hookwormage_glm <-\n",
    "glm(anaemic_sev ~ agebin + hookwormage0 + hookwormage1,\n",
    "    data = helminths_df_5,\n",
    "    family = binomial)"
   ]
  },
  {
   "cell_type": "code",
   "execution_count": null,
   "metadata": {},
   "outputs": [],
   "source": [
    "summary(anaemia_agebin_hookwormage_glm)"
   ]
  },
  {
   "cell_type": "code",
   "execution_count": null,
   "metadata": {},
   "outputs": [],
   "source": [
    "exp(cbind(OR = coef(anaemia_agebin_hookwormage_glm), confint(anaemia_agebin_hookwormage_glm)))"
   ]
  },
  {
   "cell_type": "markdown",
   "metadata": {},
   "source": [
    "To compare these results with the model including interaction you produced earlier, type:"
   ]
  },
  {
   "cell_type": "code",
   "execution_count": null,
   "metadata": {},
   "outputs": [],
   "source": [
    "summary(anaemia_agebin_interaction_glm)"
   ]
  },
  {
   "cell_type": "code",
   "execution_count": null,
   "metadata": {},
   "outputs": [],
   "source": [
    "exp(cbind(OR = coef(anaemia_agebin_interaction_glm), confint(anaemia_agebin_interaction_glm)))"
   ]
  },
  {
   "cell_type": "code",
   "execution_count": null,
   "metadata": {},
   "outputs": [],
   "source": [
    "logLik(anaemia_agebin_hookwormage_glm)\n",
    "logLik(anaemia_agebin_interaction_glm)"
   ]
  },
  {
   "cell_type": "markdown",
   "metadata": {},
   "source": [
    "Note that the models are identical, the log-likelihoods are equal (-818.24).  In using the new variable `hookwormage` we produced a model that directly gives the stratum-specific odds ratios for hookworm infection by each age-group <25 years and 25+ years, as well as the 95% confidence intervals for these odds ratios.  \n",
    "\n",
    "Re-parameterising the model in this way can be useful if there is evidence of interaction (using a likelihood ratio test) and we want to obtain stratum-specific estimates. However it is probably more straightforward just to use the original interaction model followed by `glht` as described previously. "
   ]
  },
  {
   "cell_type": "markdown",
   "metadata": {},
   "source": [
    "## Presenting stratum–specific estimates\n",
    "\n",
    "When there is evidence of interaction we may decide that it is more informative to present stratum-specific estimates for the effects of exposure on outcome, rather than an overall estimate of effect. \n",
    "\n",
    "However, as a result the interpretation and presentation of results from an interaction model is much less straightforward. We will now fit a single model that includes an interaction term for agebin and hookworm, plus two other variables (malaria and education), and then use Stata’s lincom command to compute stratum-specific odds \n",
    "ratios:"
   ]
  },
  {
   "cell_type": "code",
   "execution_count": null,
   "metadata": {},
   "outputs": [],
   "source": [
    "anaemia_hookworm_agebin_malaria_edu_glm <-\n",
    "glm(anaemic_sev ~ agebin*hookworm + malaria + as.factor(edu_cat),\n",
    "    data = helminths_df_5,\n",
    "    family = binomial)"
   ]
  },
  {
   "cell_type": "code",
   "execution_count": null,
   "metadata": {},
   "outputs": [],
   "source": [
    "summary(anaemia_hookworm_agebin_malaria_edu_glm)"
   ]
  },
  {
   "cell_type": "code",
   "execution_count": null,
   "metadata": {},
   "outputs": [],
   "source": [
    "exp(cbind(OR = coef(anaemia_hookworm_agebin_malaria_edu_glm), \n",
    "    confint(anaemia_hookworm_agebin_malaria_edu_glm)))"
   ]
  },
  {
   "cell_type": "code",
   "execution_count": null,
   "metadata": {},
   "outputs": [],
   "source": [
    "anaemia_hookworm_agebin_malaria_edu_lincom <-\n",
    "    glht(anaemia_hookworm_agebin_malaria_edu_glm,\n",
    "    linfct = c(\"hookworm + agebin1:hookworm = 1\"))"
   ]
  },
  {
   "cell_type": "code",
   "execution_count": null,
   "metadata": {},
   "outputs": [],
   "source": [
    "summary(anaemia_hookworm_agebin_malaria_edu_lincom)"
   ]
  },
  {
   "cell_type": "code",
   "execution_count": null,
   "metadata": {},
   "outputs": [],
   "source": [
    "exp(cbind(OR = coef(anaemia_hookworm_agebin_malaria_edu_lincom),\n",
    "    confint.default(anaemia_hookworm_agebin_malaria_edu_lincom)))"
   ]
  },
  {
   "cell_type": "code",
   "execution_count": null,
   "metadata": {},
   "outputs": [],
   "source": [
    "anaemia_hookworm_agebin_malaria_edu_lincom_2 <-\n",
    "    glht(anaemia_hookworm_agebin_malaria_edu_glm,\n",
    "    linfct = c(\"agebin1 + agebin1:hookworm = 1\"))"
   ]
  },
  {
   "cell_type": "code",
   "execution_count": null,
   "metadata": {},
   "outputs": [],
   "source": [
    "summary(anaemia_hookworm_agebin_malaria_edu_lincom_2)"
   ]
  },
  {
   "cell_type": "code",
   "execution_count": null,
   "metadata": {},
   "outputs": [],
   "source": [
    "exp(cbind(OR = coef(anaemia_hookworm_agebin_malaria_edu_lincom_2),\n",
    "    confint.default(anaemia_hookworm_agebin_malaria_edu_lincom_2)))"
   ]
  },
  {
   "cell_type": "markdown",
   "metadata": {},
   "source": [
    "All of these logistic regression results can be presented in a single table as follows: \n"
   ]
  },
  {
   "cell_type": "markdown",
   "metadata": {},
   "source": [
    "|                                                        |                      | Adjusted odds ratio  (95% confidence interval) | P-value |\n",
    "|--------------------------------------------------------|----------------------|------------------------------------------------|---------|\n",
    "| Effect of hookworm in women  aged <25 years            | Hookworm  uninfected | 1.00                                           |         |\n",
    "|                                                        | Hookworm  infected   | 2.89 (2.08, 4.02)                              | <0.001  |\n",
    "| Effect of hookworm in women  aged 25+ years            | Hookworm  uninfected | 1.00                                           |         |\n",
    "|                                                        | Hookworm  infected   | 2.33 (1.43, 3.78)                              | 0.001   |\n",
    "| Effect of age in hookworm uninfected women             | <25 years            | 1.00                                           |         |\n",
    "|                                                        | 25+ years            | 0.87 (0.56, 1.36)                              | 0.547   |\n",
    "| Effect of age in hookworm infected women               | <25 years            | 1.00                                           |         |\n",
    "|                                                        | 25+ years            | 0.70 (0.48, 1.04)                              | 0.076   |\n",
    "| Effect on severe anaemia for other variables in model: |                      |                                                |         |\n",
    "| Malaria                                                | Malaria  uninfected  | 1.00                                           |         |\n",
    "|                                                        | Malaria infected     | 2.98 (2.16, 4.12)                              | <0.001  |\n",
    "| Education                                              | None                 | 1.00                                           | 0.610*  |\n",
    "|                                                        | Primary              | 1.01 (0.52, 1.97)                              |         |\n",
    "|                                                        | Secondary            | 0.99 (0.50, 1.94)                              |         |\n",
    "|                                                        | Tertiary             | 0.68 (0.29, 1.61)                              |         |"
   ]
  },
  {
   "cell_type": "markdown",
   "metadata": {},
   "source": [
    "## Key points "
   ]
  },
  {
   "cell_type": "markdown",
   "metadata": {},
   "source": [
    "1) Interaction terms should be examined and tested using the likelihood ratio test. \n",
    " \n",
    "2) Stratum-specific estimates can be obtained by multiplying the relevant parameter estimates (`R`'s `ghlt` command can do this for you), by restricting the analysis to one stratum (category), or by creating new indicator variables which directly give stratum-specific estimates (‘re-parameterisation’).\n",
    " \n",
    "3) To include an interaction term in a logistic model you should place a `*` between the two interacting variables."
   ]
  },
  {
   "cell_type": "markdown",
   "metadata": {},
   "source": [
    "## Review exercise "
   ]
  },
  {
   "cell_type": "markdown",
   "metadata": {},
   "source": [
    "Now try to carry out the same analyses on your own.  For this exercise you should use the mwanza dataset, a case-control study of HIV infection.  The solutions are given in Section 4.   \n",
    " \n",
    "### 1) Using the mwanza data, investigate whether there is interaction between the effects of education and age. (You may need to combine categories for each variable.)"
   ]
  },
  {
   "cell_type": "code",
   "execution_count": null,
   "metadata": {},
   "outputs": [],
   "source": [
    "mwanza_df <- read_dta(\"Data_files-20211113/MWANZA.dta\")"
   ]
  },
  {
   "cell_type": "code",
   "execution_count": null,
   "metadata": {},
   "outputs": [],
   "source": [
    "colnames(mwanza_df)"
   ]
  },
  {
   "cell_type": "code",
   "execution_count": null,
   "metadata": {},
   "outputs": [],
   "source": [
    "mwanza_df_2 <- mwanza_df %>%\n",
    "    mutate(ed = as.factor(ed)) %>%\n",
    "    mutate(age1 = as.factor(age1))"
   ]
  },
  {
   "cell_type": "code",
   "execution_count": null,
   "metadata": {},
   "outputs": [],
   "source": [
    "case_education_age1_interaction_glm <-\n",
    "glm(case ~ ed * age1,\n",
    "    data = mwanza_df_2,\n",
    "    family = binomial)"
   ]
  },
  {
   "cell_type": "code",
   "execution_count": null,
   "metadata": {},
   "outputs": [],
   "source": [
    "summary(case_education_age1_interaction_glm)"
   ]
  },
  {
   "cell_type": "code",
   "execution_count": null,
   "metadata": {},
   "outputs": [],
   "source": [
    "exp(cbind(OR = coef(case_education_age1_interaction_glm), confint(case_education_age1_interaction_glm)))"
   ]
  },
  {
   "cell_type": "markdown",
   "metadata": {},
   "source": [
    "#### Too many categories with some groups too small, so need to combine some "
   ]
  },
  {
   "cell_type": "code",
   "execution_count": null,
   "metadata": {},
   "outputs": [],
   "source": [
    "mwanza_df_3 <- mwanza_df_2 %>%\n",
    "    mutate(ed = as.factor(case_when(ed ==1 ~ 1,\n",
    "                                    ed !=1 ~ 2))) %>%\n",
    "    mutate(age1 = as.factor(case_when(age1 == 1 ~ 1,\n",
    "                                      age1 == 2 ~ 2,\n",
    "                                      age1 == 3 ~ 2,\n",
    "                                      age1 == 4 ~ 3,\n",
    "                                      age1 == 5 ~ 3,\n",
    "                                      age1 == 6 ~ 4)))"
   ]
  },
  {
   "cell_type": "code",
   "execution_count": null,
   "metadata": {},
   "outputs": [],
   "source": [
    "case_education_age1_interaction_glm_2 <-\n",
    "glm(case ~ ed * age1,\n",
    "    data = mwanza_df_3,\n",
    "    family = binomial)"
   ]
  },
  {
   "cell_type": "code",
   "execution_count": null,
   "metadata": {},
   "outputs": [],
   "source": [
    "summary(case_education_age1_interaction_glm_2)"
   ]
  },
  {
   "cell_type": "code",
   "execution_count": null,
   "metadata": {},
   "outputs": [],
   "source": [
    "exp(cbind(OR = coef(case_education_age1_interaction_glm_2), confint(case_education_age1_interaction_glm_2)))"
   ]
  },
  {
   "cell_type": "code",
   "execution_count": null,
   "metadata": {},
   "outputs": [],
   "source": [
    "case_education_age1_glm <-\n",
    "glm(case ~ ed + age1,\n",
    "    data = mwanza_df_3,\n",
    "    family = binomial)"
   ]
  },
  {
   "cell_type": "code",
   "execution_count": null,
   "metadata": {},
   "outputs": [],
   "source": [
    "lrtest(case_education_age1_glm, case_education_age1_interaction_glm_2)"
   ]
  },
  {
   "cell_type": "markdown",
   "metadata": {},
   "source": [
    "#### The model with the interaction term does not significantly improve the model"
   ]
  },
  {
   "cell_type": "markdown",
   "metadata": {},
   "source": [
    "### 2) Assume there is interaction, and derive the appropriate age-specific odd ratios. "
   ]
  },
  {
   "cell_type": "code",
   "execution_count": null,
   "metadata": {},
   "outputs": [],
   "source": [
    "case_education_age1_lincom <-\n",
    "    glht(case_education_age1_interaction_glm_2,\n",
    "    linfct = c(\"ed2 + ed2:age12 = 1\"))"
   ]
  },
  {
   "cell_type": "code",
   "execution_count": null,
   "metadata": {},
   "outputs": [],
   "source": [
    "summary(case_education_age1_lincom)"
   ]
  },
  {
   "cell_type": "code",
   "execution_count": null,
   "metadata": {},
   "outputs": [],
   "source": [
    "exp(cbind(OR = coef(case_education_age1_lincom),\n",
    "    confint.default(case_education_age1_lincom)))"
   ]
  },
  {
   "cell_type": "code",
   "execution_count": null,
   "metadata": {},
   "outputs": [],
   "source": [
    "case_education_age1_lincom2 <-\n",
    "    glht(case_education_age1_interaction_glm_2,\n",
    "    linfct = c(\"ed2 + ed2:age13 = 1\"))"
   ]
  },
  {
   "cell_type": "code",
   "execution_count": null,
   "metadata": {},
   "outputs": [],
   "source": [
    "summary(case_education_age1_lincom2)"
   ]
  },
  {
   "cell_type": "code",
   "execution_count": null,
   "metadata": {},
   "outputs": [],
   "source": [
    "exp(cbind(OR = coef(case_education_age1_lincom2),\n",
    "    confint.default(case_education_age1_lincom2)))"
   ]
  },
  {
   "cell_type": "code",
   "execution_count": null,
   "metadata": {},
   "outputs": [],
   "source": [
    "case_education_age1_lincom3 <-\n",
    "    glht(case_education_age1_interaction_glm_2,\n",
    "    linfct = c(\"ed2 + ed2:age14 = 1\"))"
   ]
  },
  {
   "cell_type": "code",
   "execution_count": null,
   "metadata": {},
   "outputs": [],
   "source": [
    "summary(case_education_age1_lincom3)"
   ]
  },
  {
   "cell_type": "code",
   "execution_count": null,
   "metadata": {},
   "outputs": [],
   "source": [
    "exp(cbind(OR = coef(case_education_age1_lincom3),\n",
    "    confint.default(case_education_age1_lincom3)))"
   ]
  },
  {
   "cell_type": "markdown",
   "metadata": {},
   "source": [
    "Adjusted OR for:\n",
    "\n",
    "Age group 1, Education level 1 = 0.519\n",
    "\n",
    "Age group 2,  Education level 1 = 1.952\n",
    "\n",
    "Age group 3,  Education level 1 = 3.459\n",
    "\n",
    "Age group 4,  Education level 1 = 2.847"
   ]
  },
  {
   "cell_type": "markdown",
   "metadata": {},
   "source": []
  }
 ],
 "metadata": {
  "kernelspec": {
   "display_name": "R",
   "language": "R",
   "name": "ir"
  },
  "language_info": {
   "codemirror_mode": "r",
   "file_extension": ".r",
   "mimetype": "text/x-r-source",
   "name": "R",
   "pygments_lexer": "r",
   "version": "4.1.2"
  }
 },
 "nbformat": 4,
 "nbformat_minor": 2
}
