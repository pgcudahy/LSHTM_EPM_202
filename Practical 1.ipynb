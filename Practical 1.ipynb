{
 "cells": [
  {
   "cell_type": "code",
   "execution_count": 1,
   "id": "70acca1a",
   "metadata": {},
   "outputs": [
    {
     "name": "stderr",
     "output_type": "stream",
     "text": [
      "── \u001b[1mAttaching packages\u001b[22m ───────────────────────────────────────────────────────────────────────────────────────────────────────────────────────────────────────────────────── tidyverse 1.3.1 ──\n",
      "\n",
      "\u001b[32m✔\u001b[39m \u001b[34mggplot2\u001b[39m 3.3.5     \u001b[32m✔\u001b[39m \u001b[34mpurrr  \u001b[39m 0.3.4\n",
      "\u001b[32m✔\u001b[39m \u001b[34mtibble \u001b[39m 3.1.6     \u001b[32m✔\u001b[39m \u001b[34mdplyr  \u001b[39m 1.0.7\n",
      "\u001b[32m✔\u001b[39m \u001b[34mtidyr  \u001b[39m 1.1.4     \u001b[32m✔\u001b[39m \u001b[34mstringr\u001b[39m 1.4.0\n",
      "\u001b[32m✔\u001b[39m \u001b[34mreadr  \u001b[39m 2.1.0     \u001b[32m✔\u001b[39m \u001b[34mforcats\u001b[39m 0.5.1\n",
      "\n",
      "── \u001b[1mConflicts\u001b[22m ──────────────────────────────────────────────────────────────────────────────────────────────────────────────────────────────────────────────────────── tidyverse_conflicts() ──\n",
      "\u001b[31m✖\u001b[39m \u001b[34mdplyr\u001b[39m::\u001b[32mfilter()\u001b[39m masks \u001b[34mstats\u001b[39m::filter()\n",
      "\u001b[31m✖\u001b[39m \u001b[34mdplyr\u001b[39m::\u001b[32mlag()\u001b[39m    masks \u001b[34mstats\u001b[39m::lag()\n",
      "\n"
     ]
    }
   ],
   "source": [
    "library(tidyverse)\n",
    "library(gmodels)"
   ]
  },
  {
   "cell_type": "markdown",
   "id": "b26b4253",
   "metadata": {},
   "source": [
    "# Reading in the data and initial examination"
   ]
  },
  {
   "cell_type": "markdown",
   "id": "a72d4b51",
   "metadata": {},
   "source": [
    "For the first part of this practical session we will use data from the Whitehall study (whitehall.dta).\n",
    "\n",
    "To read in the dataset type:"
   ]
  },
  {
   "cell_type": "code",
   "execution_count": 2,
   "id": "8bdc7aa1",
   "metadata": {},
   "outputs": [],
   "source": [
    "library(haven)"
   ]
  },
  {
   "cell_type": "code",
   "execution_count": 3,
   "id": "5a70f4f1",
   "metadata": {},
   "outputs": [],
   "source": [
    "whitehall_df <- read_dta(\"Data_files-20211113/WHITEHALL.dta\")"
   ]
  },
  {
   "cell_type": "code",
   "execution_count": 4,
   "id": "4e520ee7",
   "metadata": {},
   "outputs": [
    {
     "data": {
      "text/html": [
       "<table class=\"dataframe\">\n",
       "<caption>A tibble: 6 × 14</caption>\n",
       "<thead>\n",
       "\t<tr><th scope=col>id</th><th scope=col>all</th><th scope=col>chd</th><th scope=col>sbp</th><th scope=col>chol</th><th scope=col>grade4</th><th scope=col>smok</th><th scope=col>agein</th><th scope=col>grade</th><th scope=col>cholgrp</th><th scope=col>sbpgrp</th><th scope=col>timein</th><th scope=col>timeout</th><th scope=col>timebth</th></tr>\n",
       "\t<tr><th scope=col>&lt;dbl&gt;</th><th scope=col>&lt;dbl&gt;</th><th scope=col>&lt;dbl&gt;</th><th scope=col>&lt;dbl&gt;</th><th scope=col>&lt;dbl&gt;</th><th scope=col>&lt;dbl&gt;</th><th scope=col>&lt;dbl&gt;</th><th scope=col>&lt;dbl&gt;</th><th scope=col>&lt;dbl&gt;</th><th scope=col>&lt;dbl&gt;</th><th scope=col>&lt;dbl&gt;</th><th scope=col>&lt;date&gt;</th><th scope=col>&lt;date&gt;</th><th scope=col>&lt;date&gt;</th></tr>\n",
       "</thead>\n",
       "<tbody>\n",
       "\t<tr><td>5001</td><td>0</td><td>0</td><td>120</td><td>273</td><td>3</td><td>4</td><td>47.48255</td><td>2</td><td>4</td><td>2</td><td>1967-09-13</td><td>1987-01-30</td><td>1920-03-20</td></tr>\n",
       "\t<tr><td>5019</td><td>0</td><td>0</td><td>118</td><td>234</td><td>1</td><td>3</td><td>56.10678</td><td>1</td><td>3</td><td>1</td><td>1967-09-13</td><td>1987-01-30</td><td>1911-08-06</td></tr>\n",
       "\t<tr><td>5038</td><td>0</td><td>0</td><td>147</td><td>295</td><td>2</td><td>3</td><td>51.44422</td><td>1</td><td>4</td><td>3</td><td>1967-09-13</td><td>1987-01-30</td><td>1916-04-03</td></tr>\n",
       "\t<tr><td>5039</td><td>0</td><td>0</td><td> 92</td><td>210</td><td>2</td><td>1</td><td>51.11567</td><td>1</td><td>3</td><td>1</td><td>1967-09-13</td><td>1987-01-30</td><td>1916-08-02</td></tr>\n",
       "\t<tr><td>5042</td><td>1</td><td>0</td><td>128</td><td>287</td><td>2</td><td>2</td><td>55.48528</td><td>1</td><td>4</td><td>2</td><td>1967-09-13</td><td>1983-04-12</td><td>1912-03-20</td></tr>\n",
       "\t<tr><td>5052</td><td>1</td><td>0</td><td>109</td><td>209</td><td>2</td><td>2</td><td>54.43669</td><td>1</td><td>3</td><td>1</td><td>1967-09-13</td><td>1984-07-10</td><td>1913-04-07</td></tr>\n",
       "</tbody>\n",
       "</table>\n"
      ],
      "text/latex": [
       "A tibble: 6 × 14\n",
       "\\begin{tabular}{llllllllllllll}\n",
       " id & all & chd & sbp & chol & grade4 & smok & agein & grade & cholgrp & sbpgrp & timein & timeout & timebth\\\\\n",
       " <dbl> & <dbl> & <dbl> & <dbl> & <dbl> & <dbl> & <dbl> & <dbl> & <dbl> & <dbl> & <dbl> & <date> & <date> & <date>\\\\\n",
       "\\hline\n",
       "\t 5001 & 0 & 0 & 120 & 273 & 3 & 4 & 47.48255 & 2 & 4 & 2 & 1967-09-13 & 1987-01-30 & 1920-03-20\\\\\n",
       "\t 5019 & 0 & 0 & 118 & 234 & 1 & 3 & 56.10678 & 1 & 3 & 1 & 1967-09-13 & 1987-01-30 & 1911-08-06\\\\\n",
       "\t 5038 & 0 & 0 & 147 & 295 & 2 & 3 & 51.44422 & 1 & 4 & 3 & 1967-09-13 & 1987-01-30 & 1916-04-03\\\\\n",
       "\t 5039 & 0 & 0 &  92 & 210 & 2 & 1 & 51.11567 & 1 & 3 & 1 & 1967-09-13 & 1987-01-30 & 1916-08-02\\\\\n",
       "\t 5042 & 1 & 0 & 128 & 287 & 2 & 2 & 55.48528 & 1 & 4 & 2 & 1967-09-13 & 1983-04-12 & 1912-03-20\\\\\n",
       "\t 5052 & 1 & 0 & 109 & 209 & 2 & 2 & 54.43669 & 1 & 3 & 1 & 1967-09-13 & 1984-07-10 & 1913-04-07\\\\\n",
       "\\end{tabular}\n"
      ],
      "text/markdown": [
       "\n",
       "A tibble: 6 × 14\n",
       "\n",
       "| id &lt;dbl&gt; | all &lt;dbl&gt; | chd &lt;dbl&gt; | sbp &lt;dbl&gt; | chol &lt;dbl&gt; | grade4 &lt;dbl&gt; | smok &lt;dbl&gt; | agein &lt;dbl&gt; | grade &lt;dbl&gt; | cholgrp &lt;dbl&gt; | sbpgrp &lt;dbl&gt; | timein &lt;date&gt; | timeout &lt;date&gt; | timebth &lt;date&gt; |\n",
       "|---|---|---|---|---|---|---|---|---|---|---|---|---|---|\n",
       "| 5001 | 0 | 0 | 120 | 273 | 3 | 4 | 47.48255 | 2 | 4 | 2 | 1967-09-13 | 1987-01-30 | 1920-03-20 |\n",
       "| 5019 | 0 | 0 | 118 | 234 | 1 | 3 | 56.10678 | 1 | 3 | 1 | 1967-09-13 | 1987-01-30 | 1911-08-06 |\n",
       "| 5038 | 0 | 0 | 147 | 295 | 2 | 3 | 51.44422 | 1 | 4 | 3 | 1967-09-13 | 1987-01-30 | 1916-04-03 |\n",
       "| 5039 | 0 | 0 |  92 | 210 | 2 | 1 | 51.11567 | 1 | 3 | 1 | 1967-09-13 | 1987-01-30 | 1916-08-02 |\n",
       "| 5042 | 1 | 0 | 128 | 287 | 2 | 2 | 55.48528 | 1 | 4 | 2 | 1967-09-13 | 1983-04-12 | 1912-03-20 |\n",
       "| 5052 | 1 | 0 | 109 | 209 | 2 | 2 | 54.43669 | 1 | 3 | 1 | 1967-09-13 | 1984-07-10 | 1913-04-07 |\n",
       "\n"
      ],
      "text/plain": [
       "  id   all chd sbp chol grade4 smok agein    grade cholgrp sbpgrp timein    \n",
       "1 5001 0   0   120 273  3      4    47.48255 2     4       2      1967-09-13\n",
       "2 5019 0   0   118 234  1      3    56.10678 1     3       1      1967-09-13\n",
       "3 5038 0   0   147 295  2      3    51.44422 1     4       3      1967-09-13\n",
       "4 5039 0   0    92 210  2      1    51.11567 1     3       1      1967-09-13\n",
       "5 5042 1   0   128 287  2      2    55.48528 1     4       2      1967-09-13\n",
       "6 5052 1   0   109 209  2      2    54.43669 1     3       1      1967-09-13\n",
       "  timeout    timebth   \n",
       "1 1987-01-30 1920-03-20\n",
       "2 1987-01-30 1911-08-06\n",
       "3 1987-01-30 1916-04-03\n",
       "4 1987-01-30 1916-08-02\n",
       "5 1983-04-12 1912-03-20\n",
       "6 1984-07-10 1913-04-07"
      ]
     },
     "metadata": {},
     "output_type": "display_data"
    }
   ],
   "source": [
    "head(whitehall_df)"
   ]
  },
  {
   "cell_type": "markdown",
   "id": "eb665d9a",
   "metadata": {},
   "source": [
    "### We are going to examine the effect of smoking on mortality from any cause. all is the variable name for all cause mortality\n",
    "\n",
    "**all**\n",
    "\n",
    "coded: 1=death from any cause; 0=alive smok is the variable name for smoking category\n",
    "\n",
    "**smok** \n",
    "\n",
    "coded: 1=never smoked; 2=ex-smoker; 3=1-14 cigarettes per day; 4=15-24 cigarettes per day; 5=25+ cigarettes per day\n",
    "\n",
    "To find out how many deaths from all causes there were, type:"
   ]
  },
  {
   "cell_type": "code",
   "execution_count": 5,
   "id": "e37f0db6",
   "metadata": {},
   "outputs": [
    {
     "name": "stdout",
     "output_type": "stream",
     "text": [
      "\n",
      " \n",
      "   Cell Contents\n",
      "|-------------------------|\n",
      "|                       N |\n",
      "|         N / Table Total |\n",
      "|-------------------------|\n",
      "\n",
      " \n",
      "Total Observations in Table:  1677 \n",
      "\n",
      " \n",
      "          |         0 |         1 | \n",
      "          |-----------|-----------|\n",
      "          |      1274 |       403 | \n",
      "          |     0.760 |     0.240 | \n",
      "          |-----------|-----------|\n",
      "\n",
      "\n",
      "\n",
      " \n"
     ]
    }
   ],
   "source": [
    "CrossTable(whitehall_df$all)"
   ]
  },
  {
   "cell_type": "markdown",
   "id": "c12ce295",
   "metadata": {},
   "source": [
    "There were 403 deaths from all causes (24.03%).\n",
    "\n",
    "Similarly to see the distribution of the cohort for smoking categories, type:"
   ]
  },
  {
   "cell_type": "code",
   "execution_count": 6,
   "id": "1957a7ad",
   "metadata": {},
   "outputs": [
    {
     "name": "stdout",
     "output_type": "stream",
     "text": [
      "\n",
      " \n",
      "   Cell Contents\n",
      "|-------------------------|\n",
      "|                       N |\n",
      "|         N / Table Total |\n",
      "|-------------------------|\n",
      "\n",
      " \n",
      "Total Observations in Table:  1677 \n",
      "\n",
      " \n",
      "          |         1 |         2 |         3 |         4 |         5 | \n",
      "          |-----------|-----------|-----------|-----------|-----------|\n",
      "          |       317 |       646 |       310 |       279 |       125 | \n",
      "          |     0.189 |     0.385 |     0.185 |     0.166 |     0.075 | \n",
      "          |-----------|-----------|-----------|-----------|-----------|\n",
      "\n",
      "\n",
      "\n",
      " \n"
     ]
    }
   ],
   "source": [
    "CrossTable(whitehall_df$smok)"
   ]
  },
  {
   "cell_type": "markdown",
   "id": "8583e63f",
   "metadata": {},
   "source": [
    "So, there were 317 men who had never smoked, 646 ex-smokers, etc.\n",
    "\n",
    "To split the cohort into current smokers and non-smokers we must create a new variable that takes the values 0 for never or ex-smokers and 1 for smokers. To do this use the following commands:"
   ]
  },
  {
   "cell_type": "code",
   "execution_count": 7,
   "id": "76c97157",
   "metadata": {},
   "outputs": [],
   "source": [
    "whitehall_df_2 <- whitehall_df %>%\n",
    "    mutate(smok2 = case_when(smok == 1 ~ 0,\n",
    "                             smok == 2 ~ 0,\n",
    "                             smok == 3 ~ 1,\n",
    "                             smok == 4 ~ 1,\n",
    "                             smok == 5 ~ 1))"
   ]
  },
  {
   "cell_type": "code",
   "execution_count": 8,
   "id": "127aca7e",
   "metadata": {},
   "outputs": [
    {
     "data": {
      "text/html": [
       "<table class=\"dataframe\">\n",
       "<caption>A tibble: 6 × 15</caption>\n",
       "<thead>\n",
       "\t<tr><th scope=col>id</th><th scope=col>all</th><th scope=col>chd</th><th scope=col>sbp</th><th scope=col>chol</th><th scope=col>grade4</th><th scope=col>smok</th><th scope=col>agein</th><th scope=col>grade</th><th scope=col>cholgrp</th><th scope=col>sbpgrp</th><th scope=col>timein</th><th scope=col>timeout</th><th scope=col>timebth</th><th scope=col>smok2</th></tr>\n",
       "\t<tr><th scope=col>&lt;dbl&gt;</th><th scope=col>&lt;dbl&gt;</th><th scope=col>&lt;dbl&gt;</th><th scope=col>&lt;dbl&gt;</th><th scope=col>&lt;dbl&gt;</th><th scope=col>&lt;dbl&gt;</th><th scope=col>&lt;dbl&gt;</th><th scope=col>&lt;dbl&gt;</th><th scope=col>&lt;dbl&gt;</th><th scope=col>&lt;dbl&gt;</th><th scope=col>&lt;dbl&gt;</th><th scope=col>&lt;date&gt;</th><th scope=col>&lt;date&gt;</th><th scope=col>&lt;date&gt;</th><th scope=col>&lt;dbl&gt;</th></tr>\n",
       "</thead>\n",
       "<tbody>\n",
       "\t<tr><td>5001</td><td>0</td><td>0</td><td>120</td><td>273</td><td>3</td><td>4</td><td>47.48255</td><td>2</td><td>4</td><td>2</td><td>1967-09-13</td><td>1987-01-30</td><td>1920-03-20</td><td>1</td></tr>\n",
       "\t<tr><td>5019</td><td>0</td><td>0</td><td>118</td><td>234</td><td>1</td><td>3</td><td>56.10678</td><td>1</td><td>3</td><td>1</td><td>1967-09-13</td><td>1987-01-30</td><td>1911-08-06</td><td>1</td></tr>\n",
       "\t<tr><td>5038</td><td>0</td><td>0</td><td>147</td><td>295</td><td>2</td><td>3</td><td>51.44422</td><td>1</td><td>4</td><td>3</td><td>1967-09-13</td><td>1987-01-30</td><td>1916-04-03</td><td>1</td></tr>\n",
       "\t<tr><td>5039</td><td>0</td><td>0</td><td> 92</td><td>210</td><td>2</td><td>1</td><td>51.11567</td><td>1</td><td>3</td><td>1</td><td>1967-09-13</td><td>1987-01-30</td><td>1916-08-02</td><td>0</td></tr>\n",
       "\t<tr><td>5042</td><td>1</td><td>0</td><td>128</td><td>287</td><td>2</td><td>2</td><td>55.48528</td><td>1</td><td>4</td><td>2</td><td>1967-09-13</td><td>1983-04-12</td><td>1912-03-20</td><td>0</td></tr>\n",
       "\t<tr><td>5052</td><td>1</td><td>0</td><td>109</td><td>209</td><td>2</td><td>2</td><td>54.43669</td><td>1</td><td>3</td><td>1</td><td>1967-09-13</td><td>1984-07-10</td><td>1913-04-07</td><td>0</td></tr>\n",
       "</tbody>\n",
       "</table>\n"
      ],
      "text/latex": [
       "A tibble: 6 × 15\n",
       "\\begin{tabular}{lllllllllllllll}\n",
       " id & all & chd & sbp & chol & grade4 & smok & agein & grade & cholgrp & sbpgrp & timein & timeout & timebth & smok2\\\\\n",
       " <dbl> & <dbl> & <dbl> & <dbl> & <dbl> & <dbl> & <dbl> & <dbl> & <dbl> & <dbl> & <dbl> & <date> & <date> & <date> & <dbl>\\\\\n",
       "\\hline\n",
       "\t 5001 & 0 & 0 & 120 & 273 & 3 & 4 & 47.48255 & 2 & 4 & 2 & 1967-09-13 & 1987-01-30 & 1920-03-20 & 1\\\\\n",
       "\t 5019 & 0 & 0 & 118 & 234 & 1 & 3 & 56.10678 & 1 & 3 & 1 & 1967-09-13 & 1987-01-30 & 1911-08-06 & 1\\\\\n",
       "\t 5038 & 0 & 0 & 147 & 295 & 2 & 3 & 51.44422 & 1 & 4 & 3 & 1967-09-13 & 1987-01-30 & 1916-04-03 & 1\\\\\n",
       "\t 5039 & 0 & 0 &  92 & 210 & 2 & 1 & 51.11567 & 1 & 3 & 1 & 1967-09-13 & 1987-01-30 & 1916-08-02 & 0\\\\\n",
       "\t 5042 & 1 & 0 & 128 & 287 & 2 & 2 & 55.48528 & 1 & 4 & 2 & 1967-09-13 & 1983-04-12 & 1912-03-20 & 0\\\\\n",
       "\t 5052 & 1 & 0 & 109 & 209 & 2 & 2 & 54.43669 & 1 & 3 & 1 & 1967-09-13 & 1984-07-10 & 1913-04-07 & 0\\\\\n",
       "\\end{tabular}\n"
      ],
      "text/markdown": [
       "\n",
       "A tibble: 6 × 15\n",
       "\n",
       "| id &lt;dbl&gt; | all &lt;dbl&gt; | chd &lt;dbl&gt; | sbp &lt;dbl&gt; | chol &lt;dbl&gt; | grade4 &lt;dbl&gt; | smok &lt;dbl&gt; | agein &lt;dbl&gt; | grade &lt;dbl&gt; | cholgrp &lt;dbl&gt; | sbpgrp &lt;dbl&gt; | timein &lt;date&gt; | timeout &lt;date&gt; | timebth &lt;date&gt; | smok2 &lt;dbl&gt; |\n",
       "|---|---|---|---|---|---|---|---|---|---|---|---|---|---|---|\n",
       "| 5001 | 0 | 0 | 120 | 273 | 3 | 4 | 47.48255 | 2 | 4 | 2 | 1967-09-13 | 1987-01-30 | 1920-03-20 | 1 |\n",
       "| 5019 | 0 | 0 | 118 | 234 | 1 | 3 | 56.10678 | 1 | 3 | 1 | 1967-09-13 | 1987-01-30 | 1911-08-06 | 1 |\n",
       "| 5038 | 0 | 0 | 147 | 295 | 2 | 3 | 51.44422 | 1 | 4 | 3 | 1967-09-13 | 1987-01-30 | 1916-04-03 | 1 |\n",
       "| 5039 | 0 | 0 |  92 | 210 | 2 | 1 | 51.11567 | 1 | 3 | 1 | 1967-09-13 | 1987-01-30 | 1916-08-02 | 0 |\n",
       "| 5042 | 1 | 0 | 128 | 287 | 2 | 2 | 55.48528 | 1 | 4 | 2 | 1967-09-13 | 1983-04-12 | 1912-03-20 | 0 |\n",
       "| 5052 | 1 | 0 | 109 | 209 | 2 | 2 | 54.43669 | 1 | 3 | 1 | 1967-09-13 | 1984-07-10 | 1913-04-07 | 0 |\n",
       "\n"
      ],
      "text/plain": [
       "  id   all chd sbp chol grade4 smok agein    grade cholgrp sbpgrp timein    \n",
       "1 5001 0   0   120 273  3      4    47.48255 2     4       2      1967-09-13\n",
       "2 5019 0   0   118 234  1      3    56.10678 1     3       1      1967-09-13\n",
       "3 5038 0   0   147 295  2      3    51.44422 1     4       3      1967-09-13\n",
       "4 5039 0   0    92 210  2      1    51.11567 1     3       1      1967-09-13\n",
       "5 5042 1   0   128 287  2      2    55.48528 1     4       2      1967-09-13\n",
       "6 5052 1   0   109 209  2      2    54.43669 1     3       1      1967-09-13\n",
       "  timeout    timebth    smok2\n",
       "1 1987-01-30 1920-03-20 1    \n",
       "2 1987-01-30 1911-08-06 1    \n",
       "3 1987-01-30 1916-04-03 1    \n",
       "4 1987-01-30 1916-08-02 0    \n",
       "5 1983-04-12 1912-03-20 0    \n",
       "6 1984-07-10 1913-04-07 0    "
      ]
     },
     "metadata": {},
     "output_type": "display_data"
    }
   ],
   "source": [
    "head(whitehall_df_2)"
   ]
  },
  {
   "cell_type": "markdown",
   "id": "b6329675",
   "metadata": {},
   "source": [
    "It is good practice always to check that the new variable has been coded correctly. We can do this by tabulating it against the old one. \n",
    "\n",
    "Type:"
   ]
  },
  {
   "cell_type": "code",
   "execution_count": 9,
   "id": "92192e60",
   "metadata": {},
   "outputs": [
    {
     "name": "stdout",
     "output_type": "stream",
     "text": [
      "\n",
      " \n",
      "   Cell Contents\n",
      "|-------------------------|\n",
      "|                       N |\n",
      "| Chi-square contribution |\n",
      "|           N / Row Total |\n",
      "|           N / Col Total |\n",
      "|         N / Table Total |\n",
      "|-------------------------|\n",
      "\n",
      " \n",
      "Total Observations in Table:  1677 \n",
      "\n",
      " \n",
      "                    | whitehall_df_2$smok2 \n",
      "whitehall_df_2$smok |         0 |         1 | Row Total | \n",
      "--------------------|-----------|-----------|-----------|\n",
      "                  1 |       317 |         0 |       317 | \n",
      "                    |   100.068 |   134.966 |           | \n",
      "                    |     1.000 |     0.000 |     0.189 | \n",
      "                    |     0.329 |     0.000 |           | \n",
      "                    |     0.189 |     0.000 |           | \n",
      "--------------------|-----------|-----------|-----------|\n",
      "                  2 |       646 |         0 |       646 | \n",
      "                    |   203.925 |   275.041 |           | \n",
      "                    |     1.000 |     0.000 |     0.385 | \n",
      "                    |     0.671 |     0.000 |           | \n",
      "                    |     0.385 |     0.000 |           | \n",
      "--------------------|-----------|-----------|-----------|\n",
      "                  3 |         0 |       310 |       310 | \n",
      "                    |   178.014 |   240.095 |           | \n",
      "                    |     0.000 |     1.000 |     0.185 | \n",
      "                    |     0.000 |     0.434 |           | \n",
      "                    |     0.000 |     0.185 |           | \n",
      "--------------------|-----------|-----------|-----------|\n",
      "                  4 |         0 |       279 |       279 | \n",
      "                    |   160.213 |   216.085 |           | \n",
      "                    |     0.000 |     1.000 |     0.166 | \n",
      "                    |     0.000 |     0.391 |           | \n",
      "                    |     0.000 |     0.166 |           | \n",
      "--------------------|-----------|-----------|-----------|\n",
      "                  5 |         0 |       125 |       125 | \n",
      "                    |    71.780 |    96.812 |           | \n",
      "                    |     0.000 |     1.000 |     0.075 | \n",
      "                    |     0.000 |     0.175 |           | \n",
      "                    |     0.000 |     0.075 |           | \n",
      "--------------------|-----------|-----------|-----------|\n",
      "       Column Total |       963 |       714 |      1677 | \n",
      "                    |     0.574 |     0.426 |           | \n",
      "--------------------|-----------|-----------|-----------|\n",
      "\n",
      " \n"
     ]
    }
   ],
   "source": [
    "CrossTable(whitehall_df_2$smok, whitehall_df_2$smok2)"
   ]
  },
  {
   "cell_type": "markdown",
   "id": "2cd633d0",
   "metadata": {},
   "source": [
    "So those who never smoked and the ex- smokers are coded as 0 in smok2 and anyone who smokes at least one cigarette is coded as 1."
   ]
  },
  {
   "cell_type": "markdown",
   "id": "1671a070",
   "metadata": {},
   "source": [
    "# Calculation of risks and risk ratios\n",
    "\n",
    "There are 2 ways we can obtain risks, the third also gives risk ratios automatically.\n",
    "\n",
    "▪ To examine the risk of death according to smoking status we can simply use the\n",
    "CrossTable command. It is easy to obtain risks using this command. Type:"
   ]
  },
  {
   "cell_type": "code",
   "execution_count": 10,
   "id": "b21f9443",
   "metadata": {},
   "outputs": [
    {
     "name": "stdout",
     "output_type": "stream",
     "text": [
      "\n",
      " \n",
      "   Cell Contents\n",
      "|-------------------------|\n",
      "|                       N |\n",
      "| Chi-square contribution |\n",
      "|           N / Row Total |\n",
      "|           N / Col Total |\n",
      "|         N / Table Total |\n",
      "|-------------------------|\n",
      "\n",
      " \n",
      "Total Observations in Table:  1677 \n",
      "\n",
      " \n",
      "                     | whitehall_df_2$all \n",
      "whitehall_df_2$smok2 |         0 |         1 | Row Total | \n",
      "---------------------|-----------|-----------|-----------|\n",
      "                   0 |       795 |       168 |       963 | \n",
      "                     |     5.498 |    17.379 |           | \n",
      "                     |     0.826 |     0.174 |     0.574 | \n",
      "                     |     0.624 |     0.417 |           | \n",
      "                     |     0.474 |     0.100 |           | \n",
      "---------------------|-----------|-----------|-----------|\n",
      "                   1 |       479 |       235 |       714 | \n",
      "                     |     7.415 |    23.440 |           | \n",
      "                     |     0.671 |     0.329 |     0.426 | \n",
      "                     |     0.376 |     0.583 |           | \n",
      "                     |     0.286 |     0.140 |           | \n",
      "---------------------|-----------|-----------|-----------|\n",
      "        Column Total |      1274 |       403 |      1677 | \n",
      "                     |     0.760 |     0.240 |           | \n",
      "---------------------|-----------|-----------|-----------|\n",
      "\n",
      " \n"
     ]
    }
   ],
   "source": [
    "CrossTable(whitehall_df_2$smok2, whitehall_df_2$all)"
   ]
  },
  {
   "cell_type": "markdown",
   "id": "9deddba1",
   "metadata": {},
   "source": [
    "The row percentages give the risk\n",
    "\n",
    "Another way to derive the risk of death is to use the summarise command."
   ]
  },
  {
   "cell_type": "code",
   "execution_count": 11,
   "id": "41df2feb",
   "metadata": {},
   "outputs": [
    {
     "data": {
      "text/html": [
       "<table class=\"dataframe\">\n",
       "<caption>A tibble: 2 × 4</caption>\n",
       "<thead>\n",
       "\t<tr><th scope=col>smok2</th><th scope=col>mean</th><th scope=col>std</th><th scope=col>freq</th></tr>\n",
       "\t<tr><th scope=col>&lt;dbl&gt;</th><th scope=col>&lt;dbl&gt;</th><th scope=col>&lt;dbl&gt;</th><th scope=col>&lt;int&gt;</th></tr>\n",
       "</thead>\n",
       "<tbody>\n",
       "\t<tr><td>0</td><td>0.1744548</td><td>0.3796973</td><td>963</td></tr>\n",
       "\t<tr><td>1</td><td>0.3291317</td><td>0.4702273</td><td>714</td></tr>\n",
       "</tbody>\n",
       "</table>\n"
      ],
      "text/latex": [
       "A tibble: 2 × 4\n",
       "\\begin{tabular}{llll}\n",
       " smok2 & mean & std & freq\\\\\n",
       " <dbl> & <dbl> & <dbl> & <int>\\\\\n",
       "\\hline\n",
       "\t 0 & 0.1744548 & 0.3796973 & 963\\\\\n",
       "\t 1 & 0.3291317 & 0.4702273 & 714\\\\\n",
       "\\end{tabular}\n"
      ],
      "text/markdown": [
       "\n",
       "A tibble: 2 × 4\n",
       "\n",
       "| smok2 &lt;dbl&gt; | mean &lt;dbl&gt; | std &lt;dbl&gt; | freq &lt;int&gt; |\n",
       "|---|---|---|---|\n",
       "| 0 | 0.1744548 | 0.3796973 | 963 |\n",
       "| 1 | 0.3291317 | 0.4702273 | 714 |\n",
       "\n"
      ],
      "text/plain": [
       "  smok2 mean      std       freq\n",
       "1 0     0.1744548 0.3796973 963 \n",
       "2 1     0.3291317 0.4702273 714 "
      ]
     },
     "metadata": {},
     "output_type": "display_data"
    }
   ],
   "source": [
    "whitehall_df_2 %>% \n",
    "    group_by(smok2) %>% # our variable of interest\n",
    "    summarise( # summarise operation by group\n",
    "        mean = mean(all),\n",
    "        std = sd(all),\n",
    "        freq = length(all)\n",
    "    )"
   ]
  },
  {
   "cell_type": "markdown",
   "id": "cf55090d",
   "metadata": {},
   "source": [
    "The risk for non-smokers is the same as before = 0.1745 (17.45%)"
   ]
  },
  {
   "cell_type": "markdown",
   "id": "381f2d0e",
   "metadata": {},
   "source": [
    "We can also produce a table of risk measures and effect measures using the epi.2by2 command from epiR specifically designed for risks. Type:"
   ]
  },
  {
   "cell_type": "code",
   "execution_count": 12,
   "id": "d5eb1700",
   "metadata": {},
   "outputs": [
    {
     "name": "stderr",
     "output_type": "stream",
     "text": [
      "Loading required package: survival\n",
      "\n",
      "Package epiR 2.0.39 is loaded\n",
      "\n",
      "Type help(epi.about) for summary information\n",
      "\n",
      "Type browseVignettes(package = 'epiR') to learn how to use epiR for applied epidemiological analyses\n",
      "\n",
      "\n",
      "\n",
      "\n"
     ]
    }
   ],
   "source": [
    "library(\"epiR\")"
   ]
  },
  {
   "cell_type": "code",
   "execution_count": 13,
   "id": "1b90c39a",
   "metadata": {},
   "outputs": [
    {
     "data": {
      "text/plain": [
       "             Outcome +    Outcome -      Total        Inc risk *        Odds\n",
       "Exposed +          235          479        714              32.9       0.491\n",
       "Exposed -          168          795        963              17.4       0.211\n",
       "Total              403         1274       1677              24.0       0.316\n",
       "\n",
       "Point estimates and 95% CIs:\n",
       "-------------------------------------------------------------------\n",
       "Inc risk ratio                                 1.8866 (1.5873, 2.2424)\n",
       "Odds ratio                                     2.3216 (1.8480, 2.9167)\n",
       "Attrib risk in the exposed *                   15.4677 (11.2695, 19.6659)\n",
       "Attrib fraction in the exposed (%)            46.9954 (37.0003, 55.4048)\n",
       "Attrib risk in the population *                6.5855 (3.4348, 9.7362)\n",
       "Attrib fraction in the population (%)         27.4043 (19.6182, 34.4361)\n",
       "-------------------------------------------------------------------\n",
       "Uncorrected chi2 test that OR = 1: chi2(1) = 53.732 Pr>chi2 = <0.001\n",
       "Fisher exact test that OR = 1: Pr>chi2 = <0.001\n",
       " Wald confidence limits\n",
       " CI: confidence interval\n",
       " * Outcomes per 100 population units "
      ]
     },
     "metadata": {},
     "output_type": "display_data"
    }
   ],
   "source": [
    "epi.2by2(table(factor(whitehall_df_2$smok2, levels = c(1,0)), \n",
    "               factor(whitehall_df_2$all, levels = c(1,0))), \n",
    "         method = \"cohort.count\", digits=4)"
   ]
  },
  {
   "cell_type": "markdown",
   "id": "84c03626",
   "metadata": {},
   "source": [
    "The risks are 0.329 and 0.174 for smokers and non-smokers respectively and we also have the risk ratio = 1.89 (95% CI 1.59 to 2.24)"
   ]
  },
  {
   "cell_type": "markdown",
   "id": "fd6ebf1c",
   "metadata": {},
   "source": [
    "The output gives a two-by-two table as the CrossTable command, and below that the risk estimates. Then it gives the risk difference (i.e. risk among exposed minus risk among unexposed), followed by the risk ratio. The final two parameters apply if smoking really is causal. They are the percentage of outcomes among the exposed attributable to the exposure (current smoking) and the percentage of outcomes among the population attributable to the exposure, assuming that our sample accurately represents the percentage of smokers in the population."
   ]
  },
  {
   "cell_type": "markdown",
   "id": "c418126f",
   "metadata": {},
   "source": [
    "## Defining follow-up information"
   ]
  },
  {
   "cell_type": "markdown",
   "id": "b3782429",
   "metadata": {},
   "source": [
    "Before we are able to use most of the R commands appropriate for the analysis of follow-up data, we must first define the dates of entry and exit into the study and the outcome (or ‘failure’) variable. This is done with the command stset. This command takes the general form below (do not be put off! take each item one at a time)."
   ]
  },
  {
   "cell_type": "markdown",
   "id": "04d6e0bb",
   "metadata": {},
   "source": [
    "## Calculation of rates"
   ]
  },
  {
   "cell_type": "code",
   "execution_count": 14,
   "id": "0352a74f",
   "metadata": {},
   "outputs": [
    {
     "name": "stderr",
     "output_type": "stream",
     "text": [
      "Loading required package: MASS\n",
      "\n",
      "\n",
      "Attaching package: ‘MASS’\n",
      "\n",
      "\n",
      "The following object is masked from ‘package:dplyr’:\n",
      "\n",
      "    select\n",
      "\n",
      "\n",
      "\n",
      "Attaching package: ‘biostat3’\n",
      "\n",
      "\n",
      "The following object is masked from ‘package:survival’:\n",
      "\n",
      "    colon\n",
      "\n",
      "\n"
     ]
    }
   ],
   "source": [
    "library(survival)\n",
    "library(biostat3)"
   ]
  },
  {
   "cell_type": "code",
   "execution_count": 15,
   "id": "4b2eaf38",
   "metadata": {},
   "outputs": [],
   "source": [
    "whitehall_df_3 <- whitehall_df_2 %>%\n",
    "    mutate(followup_time = as.numeric(difftime(whitehall_df_2$timeout, \n",
    "                                               whitehall_df_2$timein, \n",
    "                                               units = \"days\")) / 365.25)"
   ]
  },
  {
   "cell_type": "markdown",
   "id": "1b42ef40",
   "metadata": {},
   "source": [
    "To obtain all-cause mortality rates for smokers and non-smokers, type:"
   ]
  },
  {
   "cell_type": "code",
   "execution_count": 16,
   "id": "73ca15cd",
   "metadata": {},
   "outputs": [
    {
     "data": {
      "text/html": [
       "<table class=\"dataframe\">\n",
       "<caption>A data.frame: 2 × 6</caption>\n",
       "<thead>\n",
       "\t<tr><th></th><th scope=col>smok2</th><th scope=col>tstop</th><th scope=col>event</th><th scope=col>rate</th><th scope=col>lower</th><th scope=col>upper</th></tr>\n",
       "\t<tr><th></th><th scope=col>&lt;dbl&gt;</th><th scope=col>&lt;dbl&gt;</th><th scope=col>&lt;dbl&gt;</th><th scope=col>&lt;dbl&gt;</th><th scope=col>&lt;dbl&gt;</th><th scope=col>&lt;dbl&gt;</th></tr>\n",
       "</thead>\n",
       "<tbody>\n",
       "\t<tr><th scope=row>smok2=0</th><td>0</td><td>16362.62</td><td>168</td><td>0.01026730</td><td>0.008773407</td><td>0.01194265</td></tr>\n",
       "\t<tr><th scope=row>smok2=1</th><td>1</td><td>11242.75</td><td>235</td><td>0.02090237</td><td>0.018315132</td><td>0.02375267</td></tr>\n",
       "</tbody>\n",
       "</table>\n"
      ],
      "text/latex": [
       "A data.frame: 2 × 6\n",
       "\\begin{tabular}{r|llllll}\n",
       "  & smok2 & tstop & event & rate & lower & upper\\\\\n",
       "  & <dbl> & <dbl> & <dbl> & <dbl> & <dbl> & <dbl>\\\\\n",
       "\\hline\n",
       "\tsmok2=0 & 0 & 16362.62 & 168 & 0.01026730 & 0.008773407 & 0.01194265\\\\\n",
       "\tsmok2=1 & 1 & 11242.75 & 235 & 0.02090237 & 0.018315132 & 0.02375267\\\\\n",
       "\\end{tabular}\n"
      ],
      "text/markdown": [
       "\n",
       "A data.frame: 2 × 6\n",
       "\n",
       "| <!--/--> | smok2 &lt;dbl&gt; | tstop &lt;dbl&gt; | event &lt;dbl&gt; | rate &lt;dbl&gt; | lower &lt;dbl&gt; | upper &lt;dbl&gt; |\n",
       "|---|---|---|---|---|---|---|\n",
       "| smok2=0 | 0 | 16362.62 | 168 | 0.01026730 | 0.008773407 | 0.01194265 |\n",
       "| smok2=1 | 1 | 11242.75 | 235 | 0.02090237 | 0.018315132 | 0.02375267 |\n",
       "\n"
      ],
      "text/plain": [
       "        smok2 tstop    event rate       lower       upper     \n",
       "smok2=0 0     16362.62 168   0.01026730 0.008773407 0.01194265\n",
       "smok2=1 1     11242.75 235   0.02090237 0.018315132 0.02375267"
      ]
     },
     "metadata": {},
     "output_type": "display_data"
    }
   ],
   "source": [
    "survRate(Surv(followup_time, all) ~ smok2, data=whitehall_df_3)"
   ]
  },
  {
   "cell_type": "markdown",
   "id": "578a984e",
   "metadata": {},
   "source": [
    "To obtain the rate per 1000 person-years, type:"
   ]
  },
  {
   "cell_type": "code",
   "execution_count": 17,
   "id": "6fb859f6",
   "metadata": {},
   "outputs": [
    {
     "data": {
      "text/html": [
       "<table class=\"dataframe\">\n",
       "<caption>A data.frame: 2 × 6</caption>\n",
       "<thead>\n",
       "\t<tr><th></th><th scope=col>smok2</th><th scope=col>tstop</th><th scope=col>event</th><th scope=col>rate</th><th scope=col>lower</th><th scope=col>upper</th></tr>\n",
       "\t<tr><th></th><th scope=col>&lt;dbl&gt;</th><th scope=col>&lt;dbl&gt;</th><th scope=col>&lt;dbl&gt;</th><th scope=col>&lt;dbl&gt;</th><th scope=col>&lt;dbl&gt;</th><th scope=col>&lt;dbl&gt;</th></tr>\n",
       "</thead>\n",
       "<tbody>\n",
       "\t<tr><th scope=row>smok2=0</th><td>0</td><td>16.36262</td><td>168</td><td>10.26730</td><td> 8.773407</td><td>11.94265</td></tr>\n",
       "\t<tr><th scope=row>smok2=1</th><td>1</td><td>11.24275</td><td>235</td><td>20.90237</td><td>18.315132</td><td>23.75267</td></tr>\n",
       "</tbody>\n",
       "</table>\n"
      ],
      "text/latex": [
       "A data.frame: 2 × 6\n",
       "\\begin{tabular}{r|llllll}\n",
       "  & smok2 & tstop & event & rate & lower & upper\\\\\n",
       "  & <dbl> & <dbl> & <dbl> & <dbl> & <dbl> & <dbl>\\\\\n",
       "\\hline\n",
       "\tsmok2=0 & 0 & 16.36262 & 168 & 10.26730 &  8.773407 & 11.94265\\\\\n",
       "\tsmok2=1 & 1 & 11.24275 & 235 & 20.90237 & 18.315132 & 23.75267\\\\\n",
       "\\end{tabular}\n"
      ],
      "text/markdown": [
       "\n",
       "A data.frame: 2 × 6\n",
       "\n",
       "| <!--/--> | smok2 &lt;dbl&gt; | tstop &lt;dbl&gt; | event &lt;dbl&gt; | rate &lt;dbl&gt; | lower &lt;dbl&gt; | upper &lt;dbl&gt; |\n",
       "|---|---|---|---|---|---|---|\n",
       "| smok2=0 | 0 | 16.36262 | 168 | 10.26730 |  8.773407 | 11.94265 |\n",
       "| smok2=1 | 1 | 11.24275 | 235 | 20.90237 | 18.315132 | 23.75267 |\n",
       "\n"
      ],
      "text/plain": [
       "        smok2 tstop    event rate     lower     upper   \n",
       "smok2=0 0     16.36262 168   10.26730  8.773407 11.94265\n",
       "smok2=1 1     11.24275 235   20.90237 18.315132 23.75267"
      ]
     },
     "metadata": {},
     "output_type": "display_data"
    }
   ],
   "source": [
    "survRate(Surv(followup_time/1000, all) ~ smok2, data=whitehall_df_3)"
   ]
  },
  {
   "cell_type": "markdown",
   "id": "f5356de6",
   "metadata": {},
   "source": [
    "To obtain all-cause mortality rates for the finer categories of smoking using the original variable for smoking, type:"
   ]
  },
  {
   "cell_type": "code",
   "execution_count": 18,
   "id": "6e80db5c",
   "metadata": {},
   "outputs": [
    {
     "data": {
      "text/html": [
       "<table class=\"dataframe\">\n",
       "<caption>A data.frame: 5 × 6</caption>\n",
       "<thead>\n",
       "\t<tr><th></th><th scope=col>smok</th><th scope=col>tstop</th><th scope=col>event</th><th scope=col>rate</th><th scope=col>lower</th><th scope=col>upper</th></tr>\n",
       "\t<tr><th></th><th scope=col>&lt;dbl&gt;</th><th scope=col>&lt;dbl&gt;</th><th scope=col>&lt;dbl&gt;</th><th scope=col>&lt;dbl&gt;</th><th scope=col>&lt;dbl&gt;</th><th scope=col>&lt;dbl&gt;</th></tr>\n",
       "</thead>\n",
       "<tbody>\n",
       "\t<tr><th scope=row>smok=1</th><td>1</td><td> 5.592070</td><td> 33</td><td> 5.901214</td><td> 4.062124</td><td> 8.287498</td></tr>\n",
       "\t<tr><th scope=row>smok=2</th><td>2</td><td>10.770554</td><td>135</td><td>12.534174</td><td>10.509088</td><td>14.835712</td></tr>\n",
       "\t<tr><th scope=row>smok=3</th><td>3</td><td> 5.014847</td><td> 89</td><td>17.747300</td><td>14.252539</td><td>21.839579</td></tr>\n",
       "\t<tr><th scope=row>smok=4</th><td>4</td><td> 4.291054</td><td> 98</td><td>22.838210</td><td>18.541163</td><td>27.832463</td></tr>\n",
       "\t<tr><th scope=row>smok=5</th><td>5</td><td> 1.936845</td><td> 48</td><td>24.782570</td><td>18.272711</td><td>32.858093</td></tr>\n",
       "</tbody>\n",
       "</table>\n"
      ],
      "text/latex": [
       "A data.frame: 5 × 6\n",
       "\\begin{tabular}{r|llllll}\n",
       "  & smok & tstop & event & rate & lower & upper\\\\\n",
       "  & <dbl> & <dbl> & <dbl> & <dbl> & <dbl> & <dbl>\\\\\n",
       "\\hline\n",
       "\tsmok=1 & 1 &  5.592070 &  33 &  5.901214 &  4.062124 &  8.287498\\\\\n",
       "\tsmok=2 & 2 & 10.770554 & 135 & 12.534174 & 10.509088 & 14.835712\\\\\n",
       "\tsmok=3 & 3 &  5.014847 &  89 & 17.747300 & 14.252539 & 21.839579\\\\\n",
       "\tsmok=4 & 4 &  4.291054 &  98 & 22.838210 & 18.541163 & 27.832463\\\\\n",
       "\tsmok=5 & 5 &  1.936845 &  48 & 24.782570 & 18.272711 & 32.858093\\\\\n",
       "\\end{tabular}\n"
      ],
      "text/markdown": [
       "\n",
       "A data.frame: 5 × 6\n",
       "\n",
       "| <!--/--> | smok &lt;dbl&gt; | tstop &lt;dbl&gt; | event &lt;dbl&gt; | rate &lt;dbl&gt; | lower &lt;dbl&gt; | upper &lt;dbl&gt; |\n",
       "|---|---|---|---|---|---|---|\n",
       "| smok=1 | 1 |  5.592070 |  33 |  5.901214 |  4.062124 |  8.287498 |\n",
       "| smok=2 | 2 | 10.770554 | 135 | 12.534174 | 10.509088 | 14.835712 |\n",
       "| smok=3 | 3 |  5.014847 |  89 | 17.747300 | 14.252539 | 21.839579 |\n",
       "| smok=4 | 4 |  4.291054 |  98 | 22.838210 | 18.541163 | 27.832463 |\n",
       "| smok=5 | 5 |  1.936845 |  48 | 24.782570 | 18.272711 | 32.858093 |\n",
       "\n"
      ],
      "text/plain": [
       "       smok tstop     event rate      lower     upper    \n",
       "smok=1 1     5.592070  33    5.901214  4.062124  8.287498\n",
       "smok=2 2    10.770554 135   12.534174 10.509088 14.835712\n",
       "smok=3 3     5.014847  89   17.747300 14.252539 21.839579\n",
       "smok=4 4     4.291054  98   22.838210 18.541163 27.832463\n",
       "smok=5 5     1.936845  48   24.782570 18.272711 32.858093"
      ]
     },
     "metadata": {},
     "output_type": "display_data"
    }
   ],
   "source": [
    "survRate(Surv(followup_time/1000, all) ~ smok, data=whitehall_df_3)"
   ]
  },
  {
   "cell_type": "markdown",
   "id": "d68c7ca6",
   "metadata": {},
   "source": [
    "Death rates increase in ex-smokers compared to non-smokers, and with increasing quantities smoked."
   ]
  },
  {
   "cell_type": "markdown",
   "id": "ada1779c",
   "metadata": {},
   "source": [
    "We can plot a graph of deaths by smoking status:"
   ]
  },
  {
   "cell_type": "code",
   "execution_count": 19,
   "id": "3fded34e",
   "metadata": {},
   "outputs": [
    {
     "data": {
      "image/png": "[encoded data removed]",
      "text/plain": [
       "plot without title"
      ]
     },
     "metadata": {
      "image/png": {
       "height": 420,
       "width": 420
      }
     },
     "output_type": "display_data"
    }
   ],
   "source": [
    "survRate(Surv(followup_time/1000, all) ~ smok, data=whitehall_df_3) %>%\n",
    "    ggplot(aes(x = smok, y = rate)) +\n",
    "    #Plot the points\n",
    "    geom_point() +\n",
    "    #Add in error bars\n",
    "    geom_errorbar(aes(ymin=lower, ymax=upper))"
   ]
  },
  {
   "cell_type": "markdown",
   "id": "40a6f03d",
   "metadata": {},
   "source": [
    "## Calculation of rate ratios"
   ]
  },
  {
   "cell_type": "code",
   "execution_count": 20,
   "id": "b878122a",
   "metadata": {},
   "outputs": [
    {
     "data": {
      "text/html": [
       "2.0358186647823"
      ],
      "text/latex": [
       "2.0358186647823"
      ],
      "text/markdown": [
       "2.0358186647823"
      ],
      "text/plain": [
       "[1] 2.035819"
      ]
     },
     "metadata": {},
     "output_type": "display_data"
    }
   ],
   "source": [
    "#Get the rate for non-smokers\n",
    "smok_0 <- survRate(Surv(followup_time/1000, all) ~ smok2, data=whitehall_df_3) %>%\n",
    "    filter(smok2 == 0) %>%\n",
    "    purrr::pluck(\"rate\")\n",
    "\n",
    "#Get the rate for smokers\n",
    "smok_1 <- survRate(Surv(followup_time/1000, all) ~ smok2, data=whitehall_df_3) %>%\n",
    "    filter(smok2 == 1) %>%\n",
    "    purrr::pluck(\"rate\")\n",
    "\n",
    "#Get the ratio\n",
    "smok_1 / smok_0"
   ]
  },
  {
   "cell_type": "markdown",
   "id": "c268fae7",
   "metadata": {},
   "source": [
    "This does not include 95% CIs like the equivalent STATA code"
   ]
  },
  {
   "cell_type": "markdown",
   "id": "06ca2b44",
   "metadata": {},
   "source": [
    "## Calculation of odds ratios"
   ]
  },
  {
   "cell_type": "code",
   "execution_count": 21,
   "id": "e5d2ad5a",
   "metadata": {},
   "outputs": [],
   "source": [
    "mwanza_df <- read_dta(\"Data_files-20211113/MWANZA.dta\")"
   ]
  },
  {
   "cell_type": "code",
   "execution_count": 22,
   "id": "743c767e",
   "metadata": {},
   "outputs": [
    {
     "data": {
      "text/html": [
       "<table class=\"dataframe\">\n",
       "<caption>A tibble: 6 × 18</caption>\n",
       "<thead>\n",
       "\t<tr><th scope=col>idno</th><th scope=col>comp</th><th scope=col>case</th><th scope=col>age1</th><th scope=col>ed</th><th scope=col>eth</th><th scope=col>rel</th><th scope=col>msta</th><th scope=col>bld</th><th scope=col>inj</th><th scope=col>skin</th><th scope=col>fsex</th><th scope=col>npa</th><th scope=col>pa1</th><th scope=col>usedc</th><th scope=col>ud</th><th scope=col>ark</th><th scope=col>srk</th></tr>\n",
       "\t<tr><th scope=col>&lt;dbl&gt;</th><th scope=col>&lt;dbl&gt;</th><th scope=col>&lt;dbl&gt;</th><th scope=col>&lt;dbl&gt;</th><th scope=col>&lt;dbl&gt;</th><th scope=col>&lt;dbl&gt;</th><th scope=col>&lt;dbl&gt;</th><th scope=col>&lt;dbl&gt;</th><th scope=col>&lt;dbl&gt;</th><th scope=col>&lt;dbl&gt;</th><th scope=col>&lt;dbl&gt;</th><th scope=col>&lt;dbl&gt;</th><th scope=col>&lt;dbl&gt;</th><th scope=col>&lt;dbl&gt;</th><th scope=col>&lt;dbl&gt;</th><th scope=col>&lt;dbl&gt;</th><th scope=col>&lt;dbl&gt;</th><th scope=col>&lt;dbl&gt;</th></tr>\n",
       "</thead>\n",
       "<tbody>\n",
       "\t<tr><td>112041</td><td>1</td><td>0</td><td>2</td><td>3</td><td>1</td><td>2</td><td>3</td><td>1</td><td>1</td><td>1</td><td>2</td><td>1</td><td>1</td><td>1</td><td>1</td><td>2</td><td>4</td></tr>\n",
       "\t<tr><td>114002</td><td>1</td><td>0</td><td>6</td><td>1</td><td>1</td><td>4</td><td>1</td><td>1</td><td>1</td><td>1</td><td>1</td><td>2</td><td>2</td><td>1</td><td>1</td><td>4</td><td>4</td></tr>\n",
       "\t<tr><td>114006</td><td>1</td><td>1</td><td>4</td><td>3</td><td>3</td><td>3</td><td>1</td><td>1</td><td>5</td><td>2</td><td>2</td><td>3</td><td>2</td><td>2</td><td>1</td><td>3</td><td>3</td></tr>\n",
       "\t<tr><td>114020</td><td>1</td><td>1</td><td>3</td><td>3</td><td>3</td><td>3</td><td>1</td><td>1</td><td>1</td><td>2</td><td>2</td><td>3</td><td>2</td><td>1</td><td>2</td><td>2</td><td>2</td></tr>\n",
       "\t<tr><td>114025</td><td>1</td><td>1</td><td>1</td><td>3</td><td>1</td><td>3</td><td>1</td><td>1</td><td>2</td><td>2</td><td>1</td><td>1</td><td>2</td><td>1</td><td>1</td><td>2</td><td>4</td></tr>\n",
       "\t<tr><td>121006</td><td>1</td><td>0</td><td>2</td><td>1</td><td>1</td><td>2</td><td>1</td><td>1</td><td>1</td><td>1</td><td>2</td><td>1</td><td>2</td><td>1</td><td>1</td><td>1</td><td>4</td></tr>\n",
       "</tbody>\n",
       "</table>\n"
      ],
      "text/latex": [
       "A tibble: 6 × 18\n",
       "\\begin{tabular}{llllllllllllllllll}\n",
       " idno & comp & case & age1 & ed & eth & rel & msta & bld & inj & skin & fsex & npa & pa1 & usedc & ud & ark & srk\\\\\n",
       " <dbl> & <dbl> & <dbl> & <dbl> & <dbl> & <dbl> & <dbl> & <dbl> & <dbl> & <dbl> & <dbl> & <dbl> & <dbl> & <dbl> & <dbl> & <dbl> & <dbl> & <dbl>\\\\\n",
       "\\hline\n",
       "\t 112041 & 1 & 0 & 2 & 3 & 1 & 2 & 3 & 1 & 1 & 1 & 2 & 1 & 1 & 1 & 1 & 2 & 4\\\\\n",
       "\t 114002 & 1 & 0 & 6 & 1 & 1 & 4 & 1 & 1 & 1 & 1 & 1 & 2 & 2 & 1 & 1 & 4 & 4\\\\\n",
       "\t 114006 & 1 & 1 & 4 & 3 & 3 & 3 & 1 & 1 & 5 & 2 & 2 & 3 & 2 & 2 & 1 & 3 & 3\\\\\n",
       "\t 114020 & 1 & 1 & 3 & 3 & 3 & 3 & 1 & 1 & 1 & 2 & 2 & 3 & 2 & 1 & 2 & 2 & 2\\\\\n",
       "\t 114025 & 1 & 1 & 1 & 3 & 1 & 3 & 1 & 1 & 2 & 2 & 1 & 1 & 2 & 1 & 1 & 2 & 4\\\\\n",
       "\t 121006 & 1 & 0 & 2 & 1 & 1 & 2 & 1 & 1 & 1 & 1 & 2 & 1 & 2 & 1 & 1 & 1 & 4\\\\\n",
       "\\end{tabular}\n"
      ],
      "text/markdown": [
       "\n",
       "A tibble: 6 × 18\n",
       "\n",
       "| idno &lt;dbl&gt; | comp &lt;dbl&gt; | case &lt;dbl&gt; | age1 &lt;dbl&gt; | ed &lt;dbl&gt; | eth &lt;dbl&gt; | rel &lt;dbl&gt; | msta &lt;dbl&gt; | bld &lt;dbl&gt; | inj &lt;dbl&gt; | skin &lt;dbl&gt; | fsex &lt;dbl&gt; | npa &lt;dbl&gt; | pa1 &lt;dbl&gt; | usedc &lt;dbl&gt; | ud &lt;dbl&gt; | ark &lt;dbl&gt; | srk &lt;dbl&gt; |\n",
       "|---|---|---|---|---|---|---|---|---|---|---|---|---|---|---|---|---|---|\n",
       "| 112041 | 1 | 0 | 2 | 3 | 1 | 2 | 3 | 1 | 1 | 1 | 2 | 1 | 1 | 1 | 1 | 2 | 4 |\n",
       "| 114002 | 1 | 0 | 6 | 1 | 1 | 4 | 1 | 1 | 1 | 1 | 1 | 2 | 2 | 1 | 1 | 4 | 4 |\n",
       "| 114006 | 1 | 1 | 4 | 3 | 3 | 3 | 1 | 1 | 5 | 2 | 2 | 3 | 2 | 2 | 1 | 3 | 3 |\n",
       "| 114020 | 1 | 1 | 3 | 3 | 3 | 3 | 1 | 1 | 1 | 2 | 2 | 3 | 2 | 1 | 2 | 2 | 2 |\n",
       "| 114025 | 1 | 1 | 1 | 3 | 1 | 3 | 1 | 1 | 2 | 2 | 1 | 1 | 2 | 1 | 1 | 2 | 4 |\n",
       "| 121006 | 1 | 0 | 2 | 1 | 1 | 2 | 1 | 1 | 1 | 1 | 2 | 1 | 2 | 1 | 1 | 1 | 4 |\n",
       "\n"
      ],
      "text/plain": [
       "  idno   comp case age1 ed eth rel msta bld inj skin fsex npa pa1 usedc ud ark\n",
       "1 112041 1    0    2    3  1   2   3    1   1   1    2    1   1   1     1  2  \n",
       "2 114002 1    0    6    1  1   4   1    1   1   1    1    2   2   1     1  4  \n",
       "3 114006 1    1    4    3  3   3   1    1   5   2    2    3   2   2     1  3  \n",
       "4 114020 1    1    3    3  3   3   1    1   1   2    2    3   2   1     2  2  \n",
       "5 114025 1    1    1    3  1   3   1    1   2   2    1    1   2   1     1  2  \n",
       "6 121006 1    0    2    1  1   2   1    1   1   1    2    1   2   1     1  1  \n",
       "  srk\n",
       "1 4  \n",
       "2 4  \n",
       "3 3  \n",
       "4 2  \n",
       "5 4  \n",
       "6 4  "
      ]
     },
     "metadata": {},
     "output_type": "display_data"
    }
   ],
   "source": [
    "head(mwanza_df)"
   ]
  },
  {
   "cell_type": "code",
   "execution_count": 23,
   "id": "dee6f322",
   "metadata": {},
   "outputs": [
    {
     "name": "stdout",
     "output_type": "stream",
     "text": [
      "\n",
      " \n",
      "   Cell Contents\n",
      "|-------------------------|\n",
      "|                       N |\n",
      "|         N / Table Total |\n",
      "|-------------------------|\n",
      "\n",
      " \n",
      "Total Observations in Table:  763 \n",
      "\n",
      " \n",
      "          |         0 |         1 | \n",
      "          |-----------|-----------|\n",
      "          |       574 |       189 | \n",
      "          |     0.752 |     0.248 | \n",
      "          |-----------|-----------|\n",
      "\n",
      "\n",
      "\n",
      " \n"
     ]
    }
   ],
   "source": [
    "CrossTable(mwanza_df$case)"
   ]
  },
  {
   "cell_type": "code",
   "execution_count": 24,
   "id": "68f026c2",
   "metadata": {},
   "outputs": [
    {
     "name": "stdout",
     "output_type": "stream",
     "text": [
      "\n",
      " \n",
      "   Cell Contents\n",
      "|-------------------------|\n",
      "|                       N |\n",
      "|         N / Table Total |\n",
      "|-------------------------|\n",
      "\n",
      " \n",
      "Total Observations in Table:  763 \n",
      "\n",
      " \n",
      "          |         1 |         2 |         3 |         4 | \n",
      "          |-----------|-----------|-----------|-----------|\n",
      "          |       312 |        75 |       365 |        11 | \n",
      "          |     0.409 |     0.098 |     0.478 |     0.014 | \n",
      "          |-----------|-----------|-----------|-----------|\n",
      "\n",
      "\n",
      "\n",
      " \n"
     ]
    }
   ],
   "source": [
    "CrossTable(mwanza_df$ed)"
   ]
  },
  {
   "cell_type": "code",
   "execution_count": 25,
   "id": "40c849da",
   "metadata": {},
   "outputs": [
    {
     "name": "stderr",
     "output_type": "stream",
     "text": [
      "Warning message in chisq.test(t, correct = FALSE, ...):\n",
      "“Chi-squared approximation may be incorrect”\n"
     ]
    },
    {
     "name": "stdout",
     "output_type": "stream",
     "text": [
      "\n",
      " \n",
      "   Cell Contents\n",
      "|-------------------------|\n",
      "|                       N |\n",
      "| Chi-square contribution |\n",
      "|           N / Row Total |\n",
      "|           N / Col Total |\n",
      "|         N / Table Total |\n",
      "|-------------------------|\n",
      "\n",
      " \n",
      "Total Observations in Table:  763 \n",
      "\n",
      " \n",
      "               | mwanza_df$ed \n",
      "mwanza_df$case |         1 |         2 |         3 |         4 | Row Total | \n",
      "---------------|-----------|-----------|-----------|-----------|-----------|\n",
      "             0 |       263 |        51 |       255 |         5 |       574 | \n",
      "               |     3.408 |     0.521 |     1.397 |     1.296 |           | \n",
      "               |     0.458 |     0.089 |     0.444 |     0.009 |     0.752 | \n",
      "               |     0.843 |     0.680 |     0.699 |     0.455 |           | \n",
      "               |     0.345 |     0.067 |     0.334 |     0.007 |           | \n",
      "---------------|-----------|-----------|-----------|-----------|-----------|\n",
      "             1 |        49 |        24 |       110 |         6 |       189 | \n",
      "               |    10.351 |     1.582 |     4.243 |     3.937 |           | \n",
      "               |     0.259 |     0.127 |     0.582 |     0.032 |     0.248 | \n",
      "               |     0.157 |     0.320 |     0.301 |     0.545 |           | \n",
      "               |     0.064 |     0.031 |     0.144 |     0.008 |           | \n",
      "---------------|-----------|-----------|-----------|-----------|-----------|\n",
      "  Column Total |       312 |        75 |       365 |        11 |       763 | \n",
      "               |     0.409 |     0.098 |     0.478 |     0.014 |           | \n",
      "---------------|-----------|-----------|-----------|-----------|-----------|\n",
      "\n",
      " \n",
      "Statistics for All Table Factors\n",
      "\n",
      "\n",
      "Pearson's Chi-squared test \n",
      "------------------------------------------------------------\n",
      "Chi^2 =  26.73714     d.f. =  3     p =  6.683716e-06 \n",
      "\n",
      "\n",
      " \n"
     ]
    }
   ],
   "source": [
    "CrossTable(mwanza_df$case, mwanza_df$ed, chisq=TRUE)"
   ]
  },
  {
   "cell_type": "markdown",
   "id": "b0658108",
   "metadata": {},
   "source": [
    "The `chisq=TRUE` option tests the null hypothesis that the two distributions of education level are the same."
   ]
  },
  {
   "cell_type": "markdown",
   "id": "47a9cc40",
   "metadata": {},
   "source": [
    "#### Create a new variable ed2 which takes the value 1 for women with no formal education and value 2 for those with some education (codes 2-4 of ed)."
   ]
  },
  {
   "cell_type": "code",
   "execution_count": 26,
   "id": "a1f251f4",
   "metadata": {},
   "outputs": [],
   "source": [
    "mwanza_df <- mwanza_df %>%\n",
    "    mutate(ed2 = case_when(ed == 1 ~ 1,\n",
    "                           ed > 1 ~ 2))"
   ]
  },
  {
   "cell_type": "markdown",
   "id": "a03ec4b8",
   "metadata": {},
   "source": [
    "To check that the new variable has been coded correctly, tabulate it against the original variable:"
   ]
  },
  {
   "cell_type": "code",
   "execution_count": 27,
   "id": "ebd697df",
   "metadata": {},
   "outputs": [
    {
     "name": "stdout",
     "output_type": "stream",
     "text": [
      "\n",
      " \n",
      "   Cell Contents\n",
      "|-------------------------|\n",
      "|                       N |\n",
      "| Chi-square contribution |\n",
      "|           N / Row Total |\n",
      "|           N / Col Total |\n",
      "|         N / Table Total |\n",
      "|-------------------------|\n",
      "\n",
      " \n",
      "Total Observations in Table:  763 \n",
      "\n",
      " \n",
      "             | mwanza_df$ed2 \n",
      "mwanza_df$ed |         1 |         2 | Row Total | \n",
      "-------------|-----------|-----------|-----------|\n",
      "           1 |       312 |         0 |       312 | \n",
      "             |   266.581 |   184.419 |           | \n",
      "             |     1.000 |     0.000 |     0.409 | \n",
      "             |     1.000 |     0.000 |           | \n",
      "             |     0.409 |     0.000 |           | \n",
      "-------------|-----------|-----------|-----------|\n",
      "           2 |         0 |        75 |        75 | \n",
      "             |    30.668 |    21.216 |           | \n",
      "             |     0.000 |     1.000 |     0.098 | \n",
      "             |     0.000 |     0.166 |           | \n",
      "             |     0.000 |     0.098 |           | \n",
      "-------------|-----------|-----------|-----------|\n",
      "           3 |         0 |       365 |       365 | \n",
      "             |   149.253 |   103.253 |           | \n",
      "             |     0.000 |     1.000 |     0.478 | \n",
      "             |     0.000 |     0.809 |           | \n",
      "             |     0.000 |     0.478 |           | \n",
      "-------------|-----------|-----------|-----------|\n",
      "           4 |         0 |        11 |        11 | \n",
      "             |     4.498 |     3.112 |           | \n",
      "             |     0.000 |     1.000 |     0.014 | \n",
      "             |     0.000 |     0.024 |           | \n",
      "             |     0.000 |     0.014 |           | \n",
      "-------------|-----------|-----------|-----------|\n",
      "Column Total |       312 |       451 |       763 | \n",
      "             |     0.409 |     0.591 |           | \n",
      "-------------|-----------|-----------|-----------|\n",
      "\n",
      " \n"
     ]
    }
   ],
   "source": [
    "CrossTable(mwanza_df$ed, mwanza_df$ed2)"
   ]
  },
  {
   "cell_type": "markdown",
   "id": "cde5beb1",
   "metadata": {},
   "source": [
    "To derive the odds ratio we use the `oddsratio.wald` command from package `epitools`:"
   ]
  },
  {
   "cell_type": "code",
   "execution_count": 28,
   "id": "e8331aed",
   "metadata": {},
   "outputs": [
    {
     "name": "stderr",
     "output_type": "stream",
     "text": [
      "\n",
      "Attaching package: ‘epitools’\n",
      "\n",
      "\n",
      "The following object is masked from ‘package:survival’:\n",
      "\n",
      "    ratetable\n",
      "\n",
      "\n"
     ]
    }
   ],
   "source": [
    "library(epitools)"
   ]
  },
  {
   "cell_type": "code",
   "execution_count": 29,
   "id": "6e13f5e5",
   "metadata": {},
   "outputs": [
    {
     "data": {
      "text/html": [
       "<dl>\n",
       "\t<dt>$data</dt>\n",
       "\t\t<dd><table class=\"dataframe\">\n",
       "<caption>A matrix: 3 × 3 of type int</caption>\n",
       "<thead>\n",
       "\t<tr><th></th><th scope=col>1</th><th scope=col>2</th><th scope=col>Total</th></tr>\n",
       "</thead>\n",
       "<tbody>\n",
       "\t<tr><th scope=row>0</th><td>263</td><td>311</td><td>574</td></tr>\n",
       "\t<tr><th scope=row>1</th><td> 49</td><td>140</td><td>189</td></tr>\n",
       "\t<tr><th scope=row>Total</th><td>312</td><td>451</td><td>763</td></tr>\n",
       "</tbody>\n",
       "</table>\n",
       "</dd>\n",
       "\t<dt>$measure</dt>\n",
       "\t\t<dd><table class=\"dataframe\">\n",
       "<caption>A matrix: 2 × 3 of type dbl</caption>\n",
       "<thead>\n",
       "\t<tr><th></th><th scope=col>estimate</th><th scope=col>lower</th><th scope=col>upper</th></tr>\n",
       "</thead>\n",
       "<tbody>\n",
       "\t<tr><th scope=row>0</th><td>1.000000</td><td>      NA</td><td>      NA</td></tr>\n",
       "\t<tr><th scope=row>1</th><td>2.416169</td><td>1.678287</td><td>3.478471</td></tr>\n",
       "</tbody>\n",
       "</table>\n",
       "</dd>\n",
       "\t<dt>$p.value</dt>\n",
       "\t\t<dd><table class=\"dataframe\">\n",
       "<caption>A matrix: 2 × 3 of type dbl</caption>\n",
       "<thead>\n",
       "\t<tr><th></th><th scope=col>midp.exact</th><th scope=col>fisher.exact</th><th scope=col>chi.square</th></tr>\n",
       "</thead>\n",
       "<tbody>\n",
       "\t<tr><th scope=row>0</th><td>          NA</td><td>          NA</td><td>          NA</td></tr>\n",
       "\t<tr><th scope=row>1</th><td>9.562924e-07</td><td>1.047735e-06</td><td>1.401274e-06</td></tr>\n",
       "</tbody>\n",
       "</table>\n",
       "</dd>\n",
       "\t<dt>$correction</dt>\n",
       "\t\t<dd>FALSE</dd>\n",
       "</dl>\n"
      ],
      "text/latex": [
       "\\begin{description}\n",
       "\\item[\\$data] A matrix: 3 × 3 of type int\n",
       "\\begin{tabular}{r|lll}\n",
       "  & 1 & 2 & Total\\\\\n",
       "\\hline\n",
       "\t0 & 263 & 311 & 574\\\\\n",
       "\t1 &  49 & 140 & 189\\\\\n",
       "\tTotal & 312 & 451 & 763\\\\\n",
       "\\end{tabular}\n",
       "\n",
       "\\item[\\$measure] A matrix: 2 × 3 of type dbl\n",
       "\\begin{tabular}{r|lll}\n",
       "  & estimate & lower & upper\\\\\n",
       "\\hline\n",
       "\t0 & 1.000000 &       NA &       NA\\\\\n",
       "\t1 & 2.416169 & 1.678287 & 3.478471\\\\\n",
       "\\end{tabular}\n",
       "\n",
       "\\item[\\$p.value] A matrix: 2 × 3 of type dbl\n",
       "\\begin{tabular}{r|lll}\n",
       "  & midp.exact & fisher.exact & chi.square\\\\\n",
       "\\hline\n",
       "\t0 &           NA &           NA &           NA\\\\\n",
       "\t1 & 9.562924e-07 & 1.047735e-06 & 1.401274e-06\\\\\n",
       "\\end{tabular}\n",
       "\n",
       "\\item[\\$correction] FALSE\n",
       "\\end{description}\n"
      ],
      "text/markdown": [
       "$data\n",
       ":   \n",
       "A matrix: 3 × 3 of type int\n",
       "\n",
       "| <!--/--> | 1 | 2 | Total |\n",
       "|---|---|---|---|\n",
       "| 0 | 263 | 311 | 574 |\n",
       "| 1 |  49 | 140 | 189 |\n",
       "| Total | 312 | 451 | 763 |\n",
       "\n",
       "\n",
       "$measure\n",
       ":   \n",
       "A matrix: 2 × 3 of type dbl\n",
       "\n",
       "| <!--/--> | estimate | lower | upper |\n",
       "|---|---|---|---|\n",
       "| 0 | 1.000000 |       NA |       NA |\n",
       "| 1 | 2.416169 | 1.678287 | 3.478471 |\n",
       "\n",
       "\n",
       "$p.value\n",
       ":   \n",
       "A matrix: 2 × 3 of type dbl\n",
       "\n",
       "| <!--/--> | midp.exact | fisher.exact | chi.square |\n",
       "|---|---|---|---|\n",
       "| 0 |           NA |           NA |           NA |\n",
       "| 1 | 9.562924e-07 | 1.047735e-06 | 1.401274e-06 |\n",
       "\n",
       "\n",
       "$correction\n",
       ":   FALSE\n",
       "\n",
       "\n"
      ],
      "text/plain": [
       "$data\n",
       "       \n",
       "          1   2 Total\n",
       "  0     263 311   574\n",
       "  1      49 140   189\n",
       "  Total 312 451   763\n",
       "\n",
       "$measure\n",
       "   odds ratio with 95% C.I.\n",
       "    estimate    lower    upper\n",
       "  0 1.000000       NA       NA\n",
       "  1 2.416169 1.678287 3.478471\n",
       "\n",
       "$p.value\n",
       "   two-sided\n",
       "      midp.exact fisher.exact   chi.square\n",
       "  0           NA           NA           NA\n",
       "  1 9.562924e-07 1.047735e-06 1.401274e-06\n",
       "\n",
       "$correction\n",
       "[1] FALSE\n",
       "\n",
       "attr(,\"method\")\n",
       "[1] \"Unconditional MLE & normal approximation (Wald) CI\""
      ]
     },
     "metadata": {},
     "output_type": "display_data"
    }
   ],
   "source": [
    "table(mwanza_df$case, mwanza_df$ed2) %>%\n",
    "    oddsratio.wald()"
   ]
  },
  {
   "cell_type": "markdown",
   "id": "dc331e31",
   "metadata": {},
   "source": [
    "This shows that the odds of HIV infection in the educated women is 2.42 times that in the uneducated women, with 95% confidence interval 1.67 to 3.50."
   ]
  },
  {
   "cell_type": "markdown",
   "id": "349c7c5b",
   "metadata": {},
   "source": [
    "It is important to take account of missing values when analysing data. The variable skin records skin incisions or tattoos (coded: 1=no, 2=yes, 9=missing).\n",
    "\n",
    "To tabulate skin and obtain odds ratio estimates, type:"
   ]
  },
  {
   "cell_type": "code",
   "execution_count": 30,
   "id": "c38244f6",
   "metadata": {},
   "outputs": [
    {
     "name": "stdout",
     "output_type": "stream",
     "text": [
      "\n",
      " \n",
      "   Cell Contents\n",
      "|-------------------------|\n",
      "|                       N |\n",
      "|         N / Table Total |\n",
      "|-------------------------|\n",
      "\n",
      " \n",
      "Total Observations in Table:  763 \n",
      "\n",
      " \n",
      "          |         1 |         2 |         9 | \n",
      "          |-----------|-----------|-----------|\n",
      "          |       342 |       420 |         1 | \n",
      "          |     0.448 |     0.550 |     0.001 | \n",
      "          |-----------|-----------|-----------|\n",
      "\n",
      "\n",
      "\n",
      " \n"
     ]
    }
   ],
   "source": [
    "CrossTable(mwanza_df$skin)"
   ]
  },
  {
   "cell_type": "code",
   "execution_count": 31,
   "id": "9f4f7b86",
   "metadata": {},
   "outputs": [
    {
     "name": "stderr",
     "output_type": "stream",
     "text": [
      "Loading required package: foreign\n",
      "\n",
      "Loading required package: nnet\n",
      "\n",
      "\n",
      "Attaching package: ‘epiDisplay’\n",
      "\n",
      "\n",
      "The following object is masked from ‘package:gmodels’:\n",
      "\n",
      "    ci\n",
      "\n",
      "\n",
      "The following object is masked from ‘package:ggplot2’:\n",
      "\n",
      "    alpha\n",
      "\n",
      "\n"
     ]
    }
   ],
   "source": [
    "library(epiDisplay)"
   ]
  },
  {
   "cell_type": "code",
   "execution_count": 44,
   "id": "5c86641c",
   "metadata": {},
   "outputs": [
    {
     "name": "stderr",
     "output_type": "stream",
     "text": [
      "Warning message in chisq.test(xx, correct = correction):\n",
      "“Chi-squared approximation may be incorrect”\n"
     ]
    },
    {
     "data": {
      "text/html": [
       "<dl>\n",
       "\t<dt>$data</dt>\n",
       "\t\t<dd><table class=\"dataframe\">\n",
       "<caption>A matrix: 3 × 4 of type int</caption>\n",
       "<thead>\n",
       "\t<tr><th></th><th scope=col>1</th><th scope=col>2</th><th scope=col>9</th><th scope=col>Total</th></tr>\n",
       "</thead>\n",
       "<tbody>\n",
       "\t<tr><th scope=row>0</th><td>267</td><td>306</td><td>1</td><td>574</td></tr>\n",
       "\t<tr><th scope=row>1</th><td> 75</td><td>114</td><td>0</td><td>189</td></tr>\n",
       "\t<tr><th scope=row>Total</th><td>342</td><td>420</td><td>1</td><td>763</td></tr>\n",
       "</tbody>\n",
       "</table>\n",
       "</dd>\n",
       "\t<dt>$measure</dt>\n",
       "\t\t<dd><table class=\"dataframe\">\n",
       "<caption>A matrix: 2 × 3 of type dbl</caption>\n",
       "<thead>\n",
       "\t<tr><th></th><th scope=col>estimate</th><th scope=col>lower</th><th scope=col>upper</th></tr>\n",
       "</thead>\n",
       "<tbody>\n",
       "\t<tr><th scope=row>0</th><td>1.000000</td><td>       NA</td><td>      NA</td></tr>\n",
       "\t<tr><th scope=row>1</th><td>1.325062</td><td>0.9496391</td><td>1.856954</td></tr>\n",
       "</tbody>\n",
       "</table>\n",
       "</dd>\n",
       "\t<dt>$p.value</dt>\n",
       "\t\t<dd><table class=\"dataframe\">\n",
       "<caption>A matrix: 2 × 3 of type dbl</caption>\n",
       "<thead>\n",
       "\t<tr><th></th><th scope=col>midp.exact</th><th scope=col>fisher.exact</th><th scope=col>chi.square</th></tr>\n",
       "</thead>\n",
       "<tbody>\n",
       "\t<tr><th scope=row>0</th><td>        NA</td><td>       NA</td><td>       NA</td></tr>\n",
       "\t<tr><th scope=row>1</th><td>0.09798945</td><td>0.2057879</td><td>0.2145191</td></tr>\n",
       "</tbody>\n",
       "</table>\n",
       "</dd>\n",
       "\t<dt>$correction</dt>\n",
       "\t\t<dd>FALSE</dd>\n",
       "</dl>\n"
      ],
      "text/latex": [
       "\\begin{description}\n",
       "\\item[\\$data] A matrix: 3 × 4 of type int\n",
       "\\begin{tabular}{r|llll}\n",
       "  & 1 & 2 & 9 & Total\\\\\n",
       "\\hline\n",
       "\t0 & 267 & 306 & 1 & 574\\\\\n",
       "\t1 &  75 & 114 & 0 & 189\\\\\n",
       "\tTotal & 342 & 420 & 1 & 763\\\\\n",
       "\\end{tabular}\n",
       "\n",
       "\\item[\\$measure] A matrix: 2 × 3 of type dbl\n",
       "\\begin{tabular}{r|lll}\n",
       "  & estimate & lower & upper\\\\\n",
       "\\hline\n",
       "\t0 & 1.000000 &        NA &       NA\\\\\n",
       "\t1 & 1.325062 & 0.9496391 & 1.856954\\\\\n",
       "\\end{tabular}\n",
       "\n",
       "\\item[\\$p.value] A matrix: 2 × 3 of type dbl\n",
       "\\begin{tabular}{r|lll}\n",
       "  & midp.exact & fisher.exact & chi.square\\\\\n",
       "\\hline\n",
       "\t0 &         NA &        NA &        NA\\\\\n",
       "\t1 & 0.09798945 & 0.2057879 & 0.2145191\\\\\n",
       "\\end{tabular}\n",
       "\n",
       "\\item[\\$correction] FALSE\n",
       "\\end{description}\n"
      ],
      "text/markdown": [
       "$data\n",
       ":   \n",
       "A matrix: 3 × 4 of type int\n",
       "\n",
       "| <!--/--> | 1 | 2 | 9 | Total |\n",
       "|---|---|---|---|---|\n",
       "| 0 | 267 | 306 | 1 | 574 |\n",
       "| 1 |  75 | 114 | 0 | 189 |\n",
       "| Total | 342 | 420 | 1 | 763 |\n",
       "\n",
       "\n",
       "$measure\n",
       ":   \n",
       "A matrix: 2 × 3 of type dbl\n",
       "\n",
       "| <!--/--> | estimate | lower | upper |\n",
       "|---|---|---|---|\n",
       "| 0 | 1.000000 |        NA |       NA |\n",
       "| 1 | 1.325062 | 0.9496391 | 1.856954 |\n",
       "\n",
       "\n",
       "$p.value\n",
       ":   \n",
       "A matrix: 2 × 3 of type dbl\n",
       "\n",
       "| <!--/--> | midp.exact | fisher.exact | chi.square |\n",
       "|---|---|---|---|\n",
       "| 0 |         NA |        NA |        NA |\n",
       "| 1 | 0.09798945 | 0.2057879 | 0.2145191 |\n",
       "\n",
       "\n",
       "$correction\n",
       ":   FALSE\n",
       "\n",
       "\n"
      ],
      "text/plain": [
       "$data\n",
       "       \n",
       "          1   2 9 Total\n",
       "  0     267 306 1   574\n",
       "  1      75 114 0   189\n",
       "  Total 342 420 1   763\n",
       "\n",
       "$measure\n",
       "   odds ratio with 95% C.I.\n",
       "    estimate     lower    upper\n",
       "  0 1.000000        NA       NA\n",
       "  1 1.325062 0.9496391 1.856954\n",
       "\n",
       "$p.value\n",
       "   two-sided\n",
       "    midp.exact fisher.exact chi.square\n",
       "  0         NA           NA         NA\n",
       "  1 0.09798945    0.2057879  0.2145191\n",
       "\n",
       "$correction\n",
       "[1] FALSE\n",
       "\n",
       "attr(,\"method\")\n",
       "[1] \"median-unbiased estimate & mid-p exact CI\""
      ]
     },
     "metadata": {},
     "output_type": "display_data"
    }
   ],
   "source": [
    "table(factor(mwanza_df$case, levels = c(0,1)), factor(mwanza_df$skin, levels = c(1,2,9))) %>%\n",
    "    oddsratio"
   ]
  },
  {
   "attachments": {
    "image.png": {
     "image/png": "[encoded data removed]"
    }
   },
   "cell_type": "markdown",
   "id": "16bb83b6",
   "metadata": {},
   "source": [
    "![image.png](attachment:image.png)"
   ]
  },
  {
   "cell_type": "markdown",
   "id": "cf2e20c4",
   "metadata": {},
   "source": [
    "Gives different results than STATA, not sure why..."
   ]
  },
  {
   "cell_type": "markdown",
   "id": "2913e803",
   "metadata": {},
   "source": [
    "Now to omit 9"
   ]
  },
  {
   "cell_type": "code",
   "execution_count": 33,
   "id": "87fb5f88",
   "metadata": {},
   "outputs": [
    {
     "data": {
      "text/plain": [
       "             Outcome +    Outcome -      Total        Prevalence *        Odds\n",
       "Exposed +          114           75        189                60.3        1.52\n",
       "Exposed -          306          267        573                53.4        1.15\n",
       "Total              420          342        762                55.1        1.23\n",
       "\n",
       "Point estimates and 95% CIs:\n",
       "-------------------------------------------------------------------\n",
       "Odds ratio                                     1.3263 (0.9493, 1.8530)\n",
       "Attrib fraction (est) in the exposed (%)      24.5727 (-6.6958, 46.8767)\n",
       "Attrib fraction (est) in the population (%)   6.6774 (-1.1974, 13.9393)\n",
       "-------------------------------------------------------------------\n",
       "Uncorrected chi2 test that OR = 1: chi2(1) = 2.747 Pr>chi2 = 0.097\n",
       "Fisher exact test that OR = 1: Pr>chi2 = 0.109\n",
       " Wald confidence limits\n",
       " CI: confidence interval\n",
       " * Outcomes per 100 population units "
      ]
     },
     "metadata": {},
     "output_type": "display_data"
    }
   ],
   "source": [
    "epi.2by2(table(factor(mwanza_df$case, levels = c(1,0)), \n",
    "               factor(mwanza_df$skin, levels = c(2,1))), \n",
    "         method = \"case.control\", digits=4)"
   ]
  },
  {
   "cell_type": "markdown",
   "id": "8cfbd900",
   "metadata": {},
   "source": [
    "# Review exercise (time for you to have a go... )"
   ]
  },
  {
   "cell_type": "markdown",
   "id": "715595fa",
   "metadata": {},
   "source": [
    "### 1) How many men in the dataset died of CHD?"
   ]
  },
  {
   "cell_type": "code",
   "execution_count": 34,
   "id": "2009b61a",
   "metadata": {},
   "outputs": [
    {
     "data": {
      "text/html": [
       "154"
      ],
      "text/latex": [
       "154"
      ],
      "text/markdown": [
       "154"
      ],
      "text/plain": [
       "[1] 154"
      ]
     },
     "metadata": {},
     "output_type": "display_data"
    }
   ],
   "source": [
    "whitehall_df_2 %>%\n",
    "    filter(chd == 1) %>%\n",
    "    nrow"
   ]
  },
  {
   "cell_type": "markdown",
   "id": "cccd9b61",
   "metadata": {},
   "source": [
    "154 deaths from CHD"
   ]
  },
  {
   "cell_type": "markdown",
   "id": "4159f58f",
   "metadata": {},
   "source": [
    "### 2) What is the risk of death from CHD in each smoking category of smok2?"
   ]
  },
  {
   "cell_type": "code",
   "execution_count": 35,
   "id": "a0c4b856",
   "metadata": {},
   "outputs": [
    {
     "data": {
      "text/plain": [
       "             Outcome +    Outcome -      Total        Inc risk *        Odds\n",
       "Exposed +           88          626        714             12.32      0.1406\n",
       "Exposed -           66          897        963              6.85      0.0736\n",
       "Total              154         1523       1677              9.18      0.1011\n",
       "\n",
       "Point estimates and 95% CIs:\n",
       "-------------------------------------------------------------------\n",
       "Inc risk ratio                                 1.7983 (1.3268, 2.4375)\n",
       "Odds ratio                                     1.9105 (1.3666, 2.6710)\n",
       "Attrib risk in the exposed *                   5.4713 (2.5799, 8.3628)\n",
       "Attrib fraction in the exposed (%)            44.3925 (24.6280, 58.9743)\n",
       "Attrib risk in the population *                2.3295 (0.2183, 4.4406)\n",
       "Attrib fraction in the population (%)         25.3672 (11.1514, 37.3084)\n",
       "-------------------------------------------------------------------\n",
       "Uncorrected chi2 test that OR = 1: chi2(1) = 14.717 Pr>chi2 = <0.001\n",
       "Fisher exact test that OR = 1: Pr>chi2 = <0.001\n",
       " Wald confidence limits\n",
       " CI: confidence interval\n",
       " * Outcomes per 100 population units "
      ]
     },
     "metadata": {},
     "output_type": "display_data"
    }
   ],
   "source": [
    "epi.2by2(table(factor(whitehall_df_2$smok2, levels = c(1,0)), \n",
    "               factor(whitehall_df_2$chd, levels = c(1,0))), \n",
    "         method = \"cohort.count\", digits=4)"
   ]
  },
  {
   "cell_type": "markdown",
   "id": "a5a0817a",
   "metadata": {},
   "source": [
    "Risk of 12.3% in smokers, 6.85% in non-smokers"
   ]
  },
  {
   "cell_type": "markdown",
   "id": "b2f7beb3",
   "metadata": {},
   "source": [
    "### 3) What is the risk ratio of current smokers to non-smokers?"
   ]
  },
  {
   "cell_type": "markdown",
   "id": "dddb1f0b",
   "metadata": {},
   "source": [
    "From looking at table in answer 2, risk ratio is 1.80"
   ]
  },
  {
   "cell_type": "markdown",
   "id": "b5136ec0",
   "metadata": {},
   "source": [
    "### 4) Use the stset command to define follow-up details for the outcome CHD"
   ]
  },
  {
   "cell_type": "markdown",
   "id": "0c140687",
   "metadata": {},
   "source": [
    "Not necessary in `R`"
   ]
  },
  {
   "cell_type": "markdown",
   "id": "c3651d7a",
   "metadata": {},
   "source": [
    "### 5) Use strate to obtain the CHD mortality rates for current smokers and non- smokers."
   ]
  },
  {
   "cell_type": "code",
   "execution_count": 36,
   "id": "67d4ba7e",
   "metadata": {},
   "outputs": [
    {
     "data": {
      "text/html": [
       "<table class=\"dataframe\">\n",
       "<caption>A data.frame: 2 × 6</caption>\n",
       "<thead>\n",
       "\t<tr><th></th><th scope=col>smok2</th><th scope=col>tstop</th><th scope=col>event</th><th scope=col>rate</th><th scope=col>lower</th><th scope=col>upper</th></tr>\n",
       "\t<tr><th></th><th scope=col>&lt;dbl&gt;</th><th scope=col>&lt;dbl&gt;</th><th scope=col>&lt;dbl&gt;</th><th scope=col>&lt;dbl&gt;</th><th scope=col>&lt;dbl&gt;</th><th scope=col>&lt;dbl&gt;</th></tr>\n",
       "</thead>\n",
       "<tbody>\n",
       "\t<tr><th scope=row>smok2=0</th><td>0</td><td>16362.62</td><td>66</td><td>0.004033583</td><td>0.003119573</td><td>0.005131706</td></tr>\n",
       "\t<tr><th scope=row>smok2=1</th><td>1</td><td>11242.75</td><td>88</td><td>0.007827269</td><td>0.006277698</td><td>0.009643414</td></tr>\n",
       "</tbody>\n",
       "</table>\n"
      ],
      "text/latex": [
       "A data.frame: 2 × 6\n",
       "\\begin{tabular}{r|llllll}\n",
       "  & smok2 & tstop & event & rate & lower & upper\\\\\n",
       "  & <dbl> & <dbl> & <dbl> & <dbl> & <dbl> & <dbl>\\\\\n",
       "\\hline\n",
       "\tsmok2=0 & 0 & 16362.62 & 66 & 0.004033583 & 0.003119573 & 0.005131706\\\\\n",
       "\tsmok2=1 & 1 & 11242.75 & 88 & 0.007827269 & 0.006277698 & 0.009643414\\\\\n",
       "\\end{tabular}\n"
      ],
      "text/markdown": [
       "\n",
       "A data.frame: 2 × 6\n",
       "\n",
       "| <!--/--> | smok2 &lt;dbl&gt; | tstop &lt;dbl&gt; | event &lt;dbl&gt; | rate &lt;dbl&gt; | lower &lt;dbl&gt; | upper &lt;dbl&gt; |\n",
       "|---|---|---|---|---|---|---|\n",
       "| smok2=0 | 0 | 16362.62 | 66 | 0.004033583 | 0.003119573 | 0.005131706 |\n",
       "| smok2=1 | 1 | 11242.75 | 88 | 0.007827269 | 0.006277698 | 0.009643414 |\n",
       "\n"
      ],
      "text/plain": [
       "        smok2 tstop    event rate        lower       upper      \n",
       "smok2=0 0     16362.62 66    0.004033583 0.003119573 0.005131706\n",
       "smok2=1 1     11242.75 88    0.007827269 0.006277698 0.009643414"
      ]
     },
     "metadata": {},
     "output_type": "display_data"
    }
   ],
   "source": [
    "survRate(Surv(followup_time, chd) ~ smok2, data=whitehall_df_3)"
   ]
  },
  {
   "cell_type": "markdown",
   "id": "2121eeaa",
   "metadata": {},
   "source": [
    "0.004 per person-year in non-smokers, 0.008 per person-year in smokers"
   ]
  },
  {
   "cell_type": "markdown",
   "id": "0b72fa1c",
   "metadata": {},
   "source": [
    "### 6) What is the rate of deaths due to CHD per 1000 person-years for current smokers and non-smokers?"
   ]
  },
  {
   "cell_type": "code",
   "execution_count": 37,
   "id": "18d50598",
   "metadata": {},
   "outputs": [
    {
     "data": {
      "text/html": [
       "<table class=\"dataframe\">\n",
       "<caption>A data.frame: 2 × 6</caption>\n",
       "<thead>\n",
       "\t<tr><th></th><th scope=col>smok2</th><th scope=col>tstop</th><th scope=col>event</th><th scope=col>rate</th><th scope=col>lower</th><th scope=col>upper</th></tr>\n",
       "\t<tr><th></th><th scope=col>&lt;dbl&gt;</th><th scope=col>&lt;dbl&gt;</th><th scope=col>&lt;dbl&gt;</th><th scope=col>&lt;dbl&gt;</th><th scope=col>&lt;dbl&gt;</th><th scope=col>&lt;dbl&gt;</th></tr>\n",
       "</thead>\n",
       "<tbody>\n",
       "\t<tr><th scope=row>smok2=0</th><td>0</td><td>16.36262</td><td>66</td><td>4.033583</td><td>3.119573</td><td>5.131706</td></tr>\n",
       "\t<tr><th scope=row>smok2=1</th><td>1</td><td>11.24275</td><td>88</td><td>7.827269</td><td>6.277698</td><td>9.643414</td></tr>\n",
       "</tbody>\n",
       "</table>\n"
      ],
      "text/latex": [
       "A data.frame: 2 × 6\n",
       "\\begin{tabular}{r|llllll}\n",
       "  & smok2 & tstop & event & rate & lower & upper\\\\\n",
       "  & <dbl> & <dbl> & <dbl> & <dbl> & <dbl> & <dbl>\\\\\n",
       "\\hline\n",
       "\tsmok2=0 & 0 & 16.36262 & 66 & 4.033583 & 3.119573 & 5.131706\\\\\n",
       "\tsmok2=1 & 1 & 11.24275 & 88 & 7.827269 & 6.277698 & 9.643414\\\\\n",
       "\\end{tabular}\n"
      ],
      "text/markdown": [
       "\n",
       "A data.frame: 2 × 6\n",
       "\n",
       "| <!--/--> | smok2 &lt;dbl&gt; | tstop &lt;dbl&gt; | event &lt;dbl&gt; | rate &lt;dbl&gt; | lower &lt;dbl&gt; | upper &lt;dbl&gt; |\n",
       "|---|---|---|---|---|---|---|\n",
       "| smok2=0 | 0 | 16.36262 | 66 | 4.033583 | 3.119573 | 5.131706 |\n",
       "| smok2=1 | 1 | 11.24275 | 88 | 7.827269 | 6.277698 | 9.643414 |\n",
       "\n"
      ],
      "text/plain": [
       "        smok2 tstop    event rate     lower    upper   \n",
       "smok2=0 0     16.36262 66    4.033583 3.119573 5.131706\n",
       "smok2=1 1     11.24275 88    7.827269 6.277698 9.643414"
      ]
     },
     "metadata": {},
     "output_type": "display_data"
    }
   ],
   "source": [
    "survRate(Surv(followup_time/1000, chd) ~ smok2, data=whitehall_df_3)"
   ]
  },
  {
   "cell_type": "markdown",
   "id": "713f8de8",
   "metadata": {},
   "source": [
    "4.034 per 1000 person-years in non-smokers, 7.827 per person-years in smokers"
   ]
  },
  {
   "cell_type": "markdown",
   "id": "8c57564d",
   "metadata": {},
   "source": [
    "### 7) Use stmh to obtain the rate ratio of CHD death rates for smokers to non-smokers."
   ]
  },
  {
   "cell_type": "code",
   "execution_count": 38,
   "id": "153d27e7",
   "metadata": {},
   "outputs": [
    {
     "data": {
      "text/html": [
       "<strong>rate:</strong> 1.9405250251542"
      ],
      "text/latex": [
       "\\textbf{rate:} 1.9405250251542"
      ],
      "text/markdown": [
       "**rate:** 1.9405250251542"
      ],
      "text/plain": [
       "    rate \n",
       "1.940525 "
      ]
     },
     "metadata": {},
     "output_type": "display_data"
    }
   ],
   "source": [
    "survRate(Surv(followup_time, chd) ~ smok2, data=whitehall_df_3) %>%\n",
    "    dplyr::select(rate) %>%\n",
    "    slice(2) %>%\n",
    "    unlist /\n",
    "survRate(Surv(followup_time, chd) ~ smok2, data=whitehall_df_3) %>%\n",
    "    dplyr::select(rate) %>%\n",
    "    slice(1) %>%\n",
    "    unlist"
   ]
  },
  {
   "cell_type": "markdown",
   "id": "381c409a",
   "metadata": {},
   "source": [
    "Rate ratio is 1.94"
   ]
  },
  {
   "cell_type": "markdown",
   "id": "28225a0b",
   "metadata": {},
   "source": [
    "### 8) Read in the Mwanza data."
   ]
  },
  {
   "cell_type": "code",
   "execution_count": 39,
   "id": "105a8c44",
   "metadata": {},
   "outputs": [],
   "source": [
    "mwanza_df <- read_dta(\"Data_files-20211113/MWANZA.dta\")"
   ]
  },
  {
   "cell_type": "markdown",
   "id": "76738375",
   "metadata": {},
   "source": [
    "### 9) How many women had ever used a condom (the variable name for condom use is usedc)?"
   ]
  },
  {
   "cell_type": "code",
   "execution_count": 40,
   "id": "e7d7bf88",
   "metadata": {},
   "outputs": [
    {
     "data": {
      "text/html": [
       "23"
      ],
      "text/latex": [
       "23"
      ],
      "text/markdown": [
       "23"
      ],
      "text/plain": [
       "[1] 23"
      ]
     },
     "metadata": {},
     "output_type": "display_data"
    }
   ],
   "source": [
    "mwanza_df %>%\n",
    "    filter(usedc == 2) %>%\n",
    "    nrow"
   ]
  },
  {
   "cell_type": "markdown",
   "id": "dc974a53",
   "metadata": {},
   "source": [
    "23 women have used a condom"
   ]
  },
  {
   "cell_type": "markdown",
   "id": "47cd94b0",
   "metadata": {},
   "source": [
    "### 10) What proportion of cases had ever used a condom?"
   ]
  },
  {
   "cell_type": "code",
   "execution_count": 41,
   "id": "2217c2d6",
   "metadata": {},
   "outputs": [
    {
     "data": {
      "text/html": [
       "<table class=\"dataframe\">\n",
       "<caption>A tibble: 3 × 3</caption>\n",
       "<thead>\n",
       "\t<tr><th scope=col>usedc</th><th scope=col>n</th><th scope=col>proportion</th></tr>\n",
       "\t<tr><th scope=col>&lt;dbl&gt;</th><th scope=col>&lt;int&gt;</th><th scope=col>&lt;dbl&gt;</th></tr>\n",
       "</thead>\n",
       "<tbody>\n",
       "\t<tr><td>1</td><td>180</td><td>95.238095</td></tr>\n",
       "\t<tr><td>2</td><td>  7</td><td> 3.703704</td></tr>\n",
       "\t<tr><td>9</td><td>  2</td><td> 1.058201</td></tr>\n",
       "</tbody>\n",
       "</table>\n"
      ],
      "text/latex": [
       "A tibble: 3 × 3\n",
       "\\begin{tabular}{lll}\n",
       " usedc & n & proportion\\\\\n",
       " <dbl> & <int> & <dbl>\\\\\n",
       "\\hline\n",
       "\t 1 & 180 & 95.238095\\\\\n",
       "\t 2 &   7 &  3.703704\\\\\n",
       "\t 9 &   2 &  1.058201\\\\\n",
       "\\end{tabular}\n"
      ],
      "text/markdown": [
       "\n",
       "A tibble: 3 × 3\n",
       "\n",
       "| usedc &lt;dbl&gt; | n &lt;int&gt; | proportion &lt;dbl&gt; |\n",
       "|---|---|---|\n",
       "| 1 | 180 | 95.238095 |\n",
       "| 2 |   7 |  3.703704 |\n",
       "| 9 |   2 |  1.058201 |\n",
       "\n"
      ],
      "text/plain": [
       "  usedc n   proportion\n",
       "1 1     180 95.238095 \n",
       "2 2       7  3.703704 \n",
       "3 9       2  1.058201 "
      ]
     },
     "metadata": {},
     "output_type": "display_data"
    }
   ],
   "source": [
    "mwanza_df %>%\n",
    "    filter(case == 1) %>%\n",
    "    group_by(usedc) %>%\n",
    "    summarise(n = n()) %>%\n",
    "    mutate(proportion = n / sum(n) * 100)"
   ]
  },
  {
   "cell_type": "markdown",
   "id": "17222452",
   "metadata": {},
   "source": [
    "3.70% of cases had used a condom"
   ]
  },
  {
   "cell_type": "markdown",
   "id": "f105e73c",
   "metadata": {},
   "source": [
    "### 11) Use mhodds to obtain the odds ratio for condom use and HIV infection.\n",
    "\n",
    "(Remember to account for the missing values for usedc)"
   ]
  },
  {
   "cell_type": "code",
   "execution_count": 43,
   "id": "737a0ac1",
   "metadata": {},
   "outputs": [
    {
     "data": {
      "text/plain": [
       "             Outcome +    Outcome -      Total        Prevalence *        Odds\n",
       "Exposed +            7           16         23                30.4       0.438\n",
       "Exposed -          180          558        738                24.4       0.323\n",
       "Total              187          574        761                24.6       0.326\n",
       "\n",
       "Point estimates and 95% CIs:\n",
       "-------------------------------------------------------------------\n",
       "Odds ratio                                     1.3562 (0.5492, 3.3490)\n",
       "Attrib fraction (est) in the exposed (%)      26.2356 (-115.5218, 71.8354)\n",
       "Attrib fraction (est) in the population (%)   0.9833 (-2.1830, 4.0514)\n",
       "-------------------------------------------------------------------\n",
       "Uncorrected chi2 test that OR = 1: chi2(1) = 0.440 Pr>chi2 = 0.507\n",
       "Fisher exact test that OR = 1: Pr>chi2 = 0.470\n",
       " Wald confidence limits\n",
       " CI: confidence interval\n",
       " * Outcomes per 100 population units "
      ]
     },
     "metadata": {},
     "output_type": "display_data"
    }
   ],
   "source": [
    "epi.2by2(table(factor(mwanza_df$usedc, levels = c(2,1)), \n",
    "               factor(mwanza_df$case, levels = c(1,0))), \n",
    "         method = \"case.control\", digits=4)"
   ]
  },
  {
   "cell_type": "markdown",
   "id": "de0a03fe",
   "metadata": {},
   "source": [
    "Odds ratio of 1.356 "
   ]
  }
 ],
 "metadata": {
  "kernelspec": {
   "display_name": "R",
   "language": "R",
   "name": "ir"
  },
  "language_info": {
   "codemirror_mode": "r",
   "file_extension": ".r",
   "mimetype": "text/x-r-source",
   "name": "R",
   "pygments_lexer": "r",
   "version": "4.0.4"
  }
 },
 "nbformat": 4,
 "nbformat_minor": 5
}
