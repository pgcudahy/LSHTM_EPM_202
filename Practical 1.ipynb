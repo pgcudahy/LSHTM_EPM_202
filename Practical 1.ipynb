{
 "cells": [
  {
   "cell_type": "markdown",
   "id": "5b16aff3",
   "metadata": {},
   "source": [
    "# Measures of effect"
   ]
  },
  {
   "cell_type": "markdown",
   "id": "6a8c1443",
   "metadata": {},
   "source": [
    "These exercises will utilize the [tidyverse](https://www.tidyverse.org/) style of `R`, so let's load the tidyverse package"
   ]
  },
  {
   "cell_type": "code",
   "execution_count": null,
   "id": "70acca1a",
   "metadata": {},
   "outputs": [],
   "source": [
    "library(tidyverse)"
   ]
  },
  {
   "cell_type": "markdown",
   "id": "a8cd0fa4",
   "metadata": {},
   "source": [
    "## Aim\n",
    "\n",
    "The aim of this practical is to introduce the Stata commands used to calculate the main measures of disease and effect used in epidemiology: risks, risk ratios, rates, rate ratios, and odds ratios."
   ]
  },
  {
   "cell_type": "markdown",
   "id": "b26b4253",
   "metadata": {},
   "source": [
    "## Reading in the data and initial examination"
   ]
  },
  {
   "cell_type": "markdown",
   "id": "a72d4b51",
   "metadata": {},
   "source": [
    "For the first part of this practical session we will use data from the Whitehall study (whitehall.dta).\n",
    "\n",
    "To read in the `STATA` formatted dataset use the `read_dta` function from the `haven` package."
   ]
  },
  {
   "cell_type": "code",
   "execution_count": null,
   "id": "8bdc7aa1",
   "metadata": {},
   "outputs": [],
   "source": [
    "library(haven)"
   ]
  },
  {
   "cell_type": "code",
   "execution_count": null,
   "id": "5a70f4f1",
   "metadata": {},
   "outputs": [],
   "source": [
    "whitehall_df <- read_dta(\"Data_files-20211113/WHITEHALL.dta\")"
   ]
  },
  {
   "cell_type": "code",
   "execution_count": null,
   "id": "4e520ee7",
   "metadata": {},
   "outputs": [],
   "source": [
    "head(whitehall_df)"
   ]
  },
  {
   "cell_type": "markdown",
   "id": "eb665d9a",
   "metadata": {},
   "source": [
    "### We are going to examine the effect of smoking on mortality from any cause. all is the variable name for all cause mortality\n",
    "\n",
    "**all**\n",
    "\n",
    "coded: 1=death from any cause; 0=alive smok is the variable name for smoking category\n",
    "\n",
    "**smok** \n",
    "\n",
    "coded: 1=never smoked; 2=ex-smoker; 3=1-14 cigarettes per day; 4=15-24 cigarettes per day; 5=25+ cigarettes per day"
   ]
  },
  {
   "cell_type": "markdown",
   "id": "e35a89ea",
   "metadata": {},
   "source": [
    "To find out how many deaths from all causes there were we need to create a table. Basic tables in R are functional but don't give much extra information. Type:"
   ]
  },
  {
   "cell_type": "code",
   "execution_count": null,
   "id": "59edb931",
   "metadata": {},
   "outputs": [],
   "source": [
    "table(whitehall_df$all)"
   ]
  },
  {
   "cell_type": "markdown",
   "id": "487f37ae",
   "metadata": {},
   "source": [
    "More expressive tables can be printed with the `CrossTable` function from the `gmodels` package."
   ]
  },
  {
   "cell_type": "code",
   "execution_count": null,
   "id": "04867406",
   "metadata": {},
   "outputs": [],
   "source": [
    "library(gmodels)"
   ]
  },
  {
   "cell_type": "code",
   "execution_count": null,
   "id": "e37f0db6",
   "metadata": {},
   "outputs": [],
   "source": [
    "CrossTable(whitehall_df$all)"
   ]
  },
  {
   "cell_type": "markdown",
   "id": "c12ce295",
   "metadata": {},
   "source": [
    "There were 403 deaths from all causes (24.03%).\n",
    "\n",
    "Similarly to see the distribution of the cohort for smoking categories, type:"
   ]
  },
  {
   "cell_type": "code",
   "execution_count": null,
   "id": "1957a7ad",
   "metadata": {},
   "outputs": [],
   "source": [
    "CrossTable(whitehall_df$smok)"
   ]
  },
  {
   "cell_type": "markdown",
   "id": "8583e63f",
   "metadata": {},
   "source": [
    "So, there were 317 men who had never smoked, 646 ex-smokers, etc.\n",
    "\n",
    "To split the cohort into current smokers and non-smokers we must create a new variable that takes the values 0 for never or ex-smokers and 1 for smokers. To do this use the following commands:"
   ]
  },
  {
   "cell_type": "code",
   "execution_count": null,
   "id": "76c97157",
   "metadata": {},
   "outputs": [],
   "source": [
    "whitehall_df_2 <- whitehall_df %>%\n",
    "    mutate(smok2 = case_when(smok == 1 ~ 0,\n",
    "                             smok == 2 ~ 0,\n",
    "                             smok == 3 ~ 1,\n",
    "                             smok == 4 ~ 1,\n",
    "                             smok == 5 ~ 1))"
   ]
  },
  {
   "cell_type": "markdown",
   "id": "b6329675",
   "metadata": {},
   "source": [
    "It is good practice always to check that the new variable has been coded correctly. We can do this by tabulating it against the old one. \n",
    "\n",
    "Type:"
   ]
  },
  {
   "cell_type": "code",
   "execution_count": null,
   "id": "92192e60",
   "metadata": {},
   "outputs": [],
   "source": [
    "CrossTable(whitehall_df_2$smok, whitehall_df_2$smok2)"
   ]
  },
  {
   "cell_type": "markdown",
   "id": "2cd633d0",
   "metadata": {},
   "source": [
    "So those who never smoked and the ex-smokers are coded as 0 in smok2 and anyone who smokes at least one cigarette is coded as 1."
   ]
  },
  {
   "cell_type": "markdown",
   "id": "1671a070",
   "metadata": {},
   "source": [
    "# Calculation of risks and risk ratios\n",
    "\n",
    "There are 2 ways we can obtain risks, the third also gives risk ratios automatically.\n",
    "\n",
    "▪ To examine the risk of death according to smoking status we can simply use the\n",
    "CrossTable command. It is easy to obtain risks using this command. Type:"
   ]
  },
  {
   "cell_type": "code",
   "execution_count": null,
   "id": "b21f9443",
   "metadata": {},
   "outputs": [],
   "source": [
    "CrossTable(whitehall_df_2$smok2, whitehall_df_2$all)"
   ]
  },
  {
   "cell_type": "markdown",
   "id": "9deddba1",
   "metadata": {},
   "source": [
    "The row percentages give the risk\n",
    "\n",
    "Another way to derive the risk of death is to use the `summarise` function."
   ]
  },
  {
   "cell_type": "code",
   "execution_count": null,
   "id": "41df2feb",
   "metadata": {},
   "outputs": [],
   "source": [
    "whitehall_df_2 %>% \n",
    "    group_by(smok2) %>% # our variable of interest\n",
    "    summarise( # summarise operation by group\n",
    "        mean = mean(all),\n",
    "        std = sd(all),\n",
    "        freq = length(all)\n",
    "    )"
   ]
  },
  {
   "cell_type": "markdown",
   "id": "cf55090d",
   "metadata": {},
   "source": [
    "The risk for non-smokers is the same as before = 0.1745 (17.45%)\n",
    "\n",
    "Because all is coded 0/1, its mean is the total number of deaths divided by the total number of observations (i.e. the risk).\n",
    "\n",
    "Mean = $\\Sigma   0 + 1 + 0 + ..... / N$ = total number of deaths / total number of observations."
   ]
  },
  {
   "cell_type": "markdown",
   "id": "381f2d0e",
   "metadata": {},
   "source": [
    "We can also produce a table of risk measures and effect measures using the `epi.2by2` command from `epiR` specifically designed for risks. Type:"
   ]
  },
  {
   "cell_type": "code",
   "execution_count": null,
   "id": "d5eb1700",
   "metadata": {},
   "outputs": [],
   "source": [
    "library(\"epiR\")"
   ]
  },
  {
   "cell_type": "code",
   "execution_count": null,
   "id": "1b90c39a",
   "metadata": {},
   "outputs": [],
   "source": [
    "epi.2by2(table(factor(whitehall_df_2$smok2, levels = c(1,0)), \n",
    "               factor(whitehall_df_2$all, levels = c(1,0))), \n",
    "         method = \"cohort.count\", digits=4)"
   ]
  },
  {
   "cell_type": "markdown",
   "id": "84c03626",
   "metadata": {},
   "source": [
    "The risks are 0.329 and 0.174 for smokers and non-smokers respectively and we also have the risk ratio = 1.89 (95% CI 1.59 to 2.24)"
   ]
  },
  {
   "cell_type": "markdown",
   "id": "fd6ebf1c",
   "metadata": {},
   "source": [
    "The output gives a two-by-two table as the CrossTable command, and below that the risk estimates. Then it gives the risk difference (i.e. risk among exposed minus risk among unexposed), followed by the risk ratio. The final two parameters apply if smoking really is causal. They are the percentage of outcomes among the exposed attributable to the exposure (current smoking) and the percentage of outcomes among the population attributable to the exposure, assuming that our sample accurately represents the percentage of smokers in the population."
   ]
  },
  {
   "cell_type": "markdown",
   "id": "c418126f",
   "metadata": {},
   "source": [
    "## Defining follow-up information"
   ]
  },
  {
   "cell_type": "markdown",
   "id": "b3782429",
   "metadata": {},
   "source": [
    "Before we are able to use most of the R commands appropriate for the analysis of follow-up data, we must first define the amount of time between entry and exit into the study and the outcome (or ‘failure’) variable that we'll call `followup_time`."
   ]
  },
  {
   "cell_type": "code",
   "execution_count": null,
   "id": "4b2eaf38",
   "metadata": {},
   "outputs": [],
   "source": [
    "whitehall_df_3 <- whitehall_df_2 %>%\n",
    "    mutate(followup_time = as.numeric(difftime(whitehall_df_2$timeout, \n",
    "                                               whitehall_df_2$timein, \n",
    "                                               units = \"days\")) / 365.25)"
   ]
  },
  {
   "cell_type": "markdown",
   "id": "04d6e0bb",
   "metadata": {},
   "source": [
    "## Calculation of rates"
   ]
  },
  {
   "cell_type": "markdown",
   "id": "1b42ef40",
   "metadata": {},
   "source": [
    "To obtain all-cause mortality rates for smokers and non-smokers, type:"
   ]
  },
  {
   "cell_type": "code",
   "execution_count": null,
   "id": "0352a74f",
   "metadata": {},
   "outputs": [],
   "source": [
    "library(survival)\n",
    "library(biostat3)"
   ]
  },
  {
   "cell_type": "code",
   "execution_count": null,
   "id": "73ca15cd",
   "metadata": {},
   "outputs": [],
   "source": [
    "survRate(Surv(followup_time, all) ~ smok2, data=whitehall_df_3)"
   ]
  },
  {
   "cell_type": "markdown",
   "id": "db369ca8",
   "metadata": {},
   "source": [
    "In the output,\n",
    "\n",
    "**event** gives the number of events (deaths)\n",
    "\n",
    "**tstop** gives the number of person * years from timein to timout\n",
    "\n",
    "The **rate** is per year (event/tstop)\n",
    "\n",
    "The final columns show 95% confidence intervals.\n",
    "\n",
    "The rate for the combined group of non-smokers and ex-smokers is 0.010 per person-year (168/16362). The rate for smokers is 0.021 per person-year (235/11242)."
   ]
  },
  {
   "cell_type": "markdown",
   "id": "578a984e",
   "metadata": {},
   "source": [
    "To obtain the rate per 1000 person-years, type:"
   ]
  },
  {
   "cell_type": "code",
   "execution_count": null,
   "id": "6fb859f6",
   "metadata": {},
   "outputs": [],
   "source": [
    "survRate(Surv(followup_time/1000, all) ~ smok2, data=whitehall_df_3)"
   ]
  },
  {
   "cell_type": "markdown",
   "id": "f5356de6",
   "metadata": {},
   "source": [
    "To obtain all-cause mortality rates for the finer categories of smoking using the original variable for smoking, type:"
   ]
  },
  {
   "cell_type": "code",
   "execution_count": null,
   "id": "6e80db5c",
   "metadata": {},
   "outputs": [],
   "source": [
    "survRate(Surv(followup_time/1000, all) ~ smok, data=whitehall_df_3)"
   ]
  },
  {
   "cell_type": "markdown",
   "id": "d68c7ca6",
   "metadata": {},
   "source": [
    "Death rates increase in ex-smokers compared to non-smokers, and with increasing quantities smoked."
   ]
  },
  {
   "cell_type": "markdown",
   "id": "ada1779c",
   "metadata": {},
   "source": [
    "We can plot a graph of deaths by smoking status:"
   ]
  },
  {
   "cell_type": "code",
   "execution_count": null,
   "id": "3fded34e",
   "metadata": {},
   "outputs": [],
   "source": [
    "survRate(Surv(followup_time/1000, all) ~ smok, data=whitehall_df_3) %>%\n",
    "    ggplot(aes(x = smok, y = rate)) +\n",
    "    #Plot the points\n",
    "    geom_point() +\n",
    "    #Add in error bars\n",
    "    geom_errorbar(aes(ymin=lower, ymax=upper))"
   ]
  },
  {
   "cell_type": "markdown",
   "id": "40a6f03d",
   "metadata": {},
   "source": [
    "## Calculation of rate ratios"
   ]
  },
  {
   "cell_type": "markdown",
   "id": "7c5064ad",
   "metadata": {},
   "source": [
    "The `survRate` function provides survival rates. We can obtain the rates for two groups and then divide them to get a rate ratio."
   ]
  },
  {
   "cell_type": "code",
   "execution_count": null,
   "id": "b878122a",
   "metadata": {},
   "outputs": [],
   "source": [
    "#Get the rate for non-smokers\n",
    "smok_0 <- survRate(Surv(followup_time/1000, all) ~ smok2, data=whitehall_df_3) %>%\n",
    "    filter(smok2 == 0) %>%\n",
    "    purrr::pluck(\"rate\")\n",
    "\n",
    "#Get the rate for smokers\n",
    "smok_1 <- survRate(Surv(followup_time/1000, all) ~ smok2, data=whitehall_df_3) %>%\n",
    "    filter(smok2 == 1) %>%\n",
    "    purrr::pluck(\"rate\")\n",
    "\n",
    "#Get the ratio\n",
    "smok_1 / smok_0"
   ]
  },
  {
   "cell_type": "markdown",
   "id": "c268fae7",
   "metadata": {},
   "source": [
    "This does not include 95% confidence intervals or chi-square test like the equivalent `STATA` code with `stmh`"
   ]
  },
  {
   "cell_type": "markdown",
   "id": "b9c114d5",
   "metadata": {},
   "source": [
    "From this we can conclude that smokers have twice the death rate (2.04) of non-smokers. Note that the category with the lower code value (code 0 = never/ex-smokers) is taken as the reference category."
   ]
  },
  {
   "cell_type": "markdown",
   "id": "04e668eb",
   "metadata": {},
   "source": [
    "Note that the rate ratio is greater than the risk ratio (1.89) that we calculated earlier. This is because there was less person-time among smokers than non-smokers."
   ]
  },
  {
   "cell_type": "markdown",
   "id": "06ca2b44",
   "metadata": {},
   "source": [
    "## Calculation of odds ratios"
   ]
  },
  {
   "cell_type": "markdown",
   "id": "374149aa",
   "metadata": {},
   "source": [
    "For this part of the practical we will use data from the case-control study of HIV infection in women in Mwanza, Tanzania."
   ]
  },
  {
   "cell_type": "code",
   "execution_count": null,
   "id": "e5d2ad5a",
   "metadata": {},
   "outputs": [],
   "source": [
    "mwanza_df <- read_dta(\"Data_files-20211113/MWANZA.dta\")"
   ]
  },
  {
   "cell_type": "code",
   "execution_count": null,
   "id": "743c767e",
   "metadata": {},
   "outputs": [],
   "source": [
    "head(mwanza_df)"
   ]
  },
  {
   "cell_type": "markdown",
   "id": "eab12238",
   "metadata": {},
   "source": [
    "We will examine whether there is an association between HIV infection and duration of education.\n",
    "\n",
    "**case** is the variable name for HIV infection coded: 1=case; 0=control\n",
    "\n",
    "**ed** is the variable name for level of education coded: 1=no formal education (none/adult only); 2=1-3 years; 3=4-6 years; 4=7+ years"
   ]
  },
  {
   "cell_type": "markdown",
   "id": "beb8574a",
   "metadata": {},
   "source": [
    "To find out how many cases and controls there were, type:"
   ]
  },
  {
   "cell_type": "code",
   "execution_count": null,
   "id": "dee6f322",
   "metadata": {},
   "outputs": [],
   "source": [
    "CrossTable(mwanza_df$case)"
   ]
  },
  {
   "cell_type": "markdown",
   "id": "c3306710",
   "metadata": {},
   "source": [
    "Similarly to see the distribution of women by level of education, type:"
   ]
  },
  {
   "cell_type": "code",
   "execution_count": null,
   "id": "68f026c2",
   "metadata": {},
   "outputs": [],
   "source": [
    "CrossTable(mwanza_df$ed)"
   ]
  },
  {
   "cell_type": "markdown",
   "id": "4f6ed859",
   "metadata": {},
   "source": [
    "To examine the difference in education levels in cases and controls, type:"
   ]
  },
  {
   "cell_type": "code",
   "execution_count": null,
   "id": "40c849da",
   "metadata": {},
   "outputs": [],
   "source": [
    "CrossTable(mwanza_df$case, mwanza_df$ed, chisq=TRUE)"
   ]
  },
  {
   "cell_type": "markdown",
   "id": "5e56f632",
   "metadata": {},
   "source": [
    "The `chisq=TRUE` option tests the null hypothesis that the two distributions of education level are the same.\n",
    "\n",
    "The p-value (P<0.001) provides very strong evidence against the null hypothesis. Those with no education seem to be under-represented among cases relative to controls (26% against 46%). Also note that the group with the highest education (code 4) is small, therefore any estimates of effect for this group will have wide confidence intervals.\n",
    "\n",
    "Because this is a case-control study, and the cases and controls therefore have different probabilities of selection, we cannot calculate the odds of disease for each education group from the above table. However, we can calculate odds ratios. This will be further explained in Session 4 of the CAL material."
   ]
  },
  {
   "cell_type": "markdown",
   "id": "47a9cc40",
   "metadata": {},
   "source": [
    "Create a new variable **ed2** which takes the value 1 for women with no formal education and value 2 for those with some education (codes 2-4 of ed)."
   ]
  },
  {
   "cell_type": "code",
   "execution_count": null,
   "id": "a1f251f4",
   "metadata": {},
   "outputs": [],
   "source": [
    "mwanza_df <- mwanza_df %>%\n",
    "    mutate(ed2 = case_when(ed == 1 ~ 1,\n",
    "                           ed > 1 ~ 2))"
   ]
  },
  {
   "cell_type": "markdown",
   "id": "a03ec4b8",
   "metadata": {},
   "source": [
    "To check that the new variable has been coded correctly, tabulate it against the original variable:"
   ]
  },
  {
   "cell_type": "code",
   "execution_count": null,
   "id": "ebd697df",
   "metadata": {},
   "outputs": [],
   "source": [
    "CrossTable(mwanza_df$ed, mwanza_df$ed2)"
   ]
  },
  {
   "cell_type": "markdown",
   "id": "cde5beb1",
   "metadata": {},
   "source": [
    "To derive the odds ratio we use the `oddsratio` command from package `epitools`:"
   ]
  },
  {
   "cell_type": "code",
   "execution_count": null,
   "id": "e8331aed",
   "metadata": {},
   "outputs": [],
   "source": [
    "library(epitools)"
   ]
  },
  {
   "cell_type": "code",
   "execution_count": null,
   "id": "6e13f5e5",
   "metadata": {},
   "outputs": [],
   "source": [
    "table(mwanza_df$case, mwanza_df$ed2) %>%\n",
    "    oddsratio()"
   ]
  },
  {
   "cell_type": "markdown",
   "id": "dc331e31",
   "metadata": {},
   "source": [
    "This shows that the odds of HIV infection in the educated women is 2.41 times that in the uneducated women, with 95% confidence interval 1.68 to 3.50."
   ]
  },
  {
   "cell_type": "markdown",
   "id": "349c7c5b",
   "metadata": {},
   "source": [
    "It is important to take account of missing values when analysing data. The variable **skin** records skin incisions or tattoos (coded: 1=no, 2=yes, 9=missing).\n",
    "\n",
    "To tabulate skin and obtain odds ratio estimates, type:"
   ]
  },
  {
   "cell_type": "code",
   "execution_count": null,
   "id": "c38244f6",
   "metadata": {},
   "outputs": [],
   "source": [
    "CrossTable(mwanza_df$skin)"
   ]
  },
  {
   "cell_type": "code",
   "execution_count": null,
   "id": "279d3175",
   "metadata": {},
   "outputs": [],
   "source": [
    "table(mwanza_df$case, mwanza_df$skin) %>%\n",
    "    oddsratio"
   ]
  },
  {
   "cell_type": "markdown",
   "id": "41adab95",
   "metadata": {},
   "source": [
    "Let's compare to `mhodds` from `STATA`"
   ]
  },
  {
   "attachments": {
    "image.png": {
     "image/png": "[encoded data removed]"
    }
   },
   "cell_type": "markdown",
   "id": "16bb83b6",
   "metadata": {},
   "source": [
    "![image.png](attachment:image.png)"
   ]
  },
  {
   "cell_type": "markdown",
   "id": "cf2e20c4",
   "metadata": {},
   "source": [
    "Gives different results than STATA, not sure why..."
   ]
  },
  {
   "cell_type": "markdown",
   "id": "2913e803",
   "metadata": {},
   "source": [
    "Now to omit 9. We'll use `epi.2by2` to get more expressive output than `oddsratio`"
   ]
  },
  {
   "cell_type": "code",
   "execution_count": null,
   "id": "87fb5f88",
   "metadata": {},
   "outputs": [],
   "source": [
    "epi.2by2(table(factor(mwanza_df$case, levels = c(1,0)), \n",
    "               factor(mwanza_df$skin, levels = c(2,1))), \n",
    "         method = \"case.control\", digits=4)"
   ]
  },
  {
   "cell_type": "markdown",
   "id": "8cfbd900",
   "metadata": {},
   "source": [
    "# Review exercise (time for you to have a go...)"
   ]
  },
  {
   "cell_type": "markdown",
   "id": "715595fa",
   "metadata": {},
   "source": [
    "### 1) How many men in the dataset died of CHD?"
   ]
  },
  {
   "cell_type": "code",
   "execution_count": null,
   "id": "2009b61a",
   "metadata": {},
   "outputs": [],
   "source": [
    "whitehall_df_2 %>%\n",
    "    filter(chd == 1) %>%\n",
    "    nrow"
   ]
  },
  {
   "cell_type": "markdown",
   "id": "cccd9b61",
   "metadata": {},
   "source": [
    "154 deaths from CHD"
   ]
  },
  {
   "cell_type": "markdown",
   "id": "4159f58f",
   "metadata": {},
   "source": [
    "### 2) What is the risk of death from CHD in each smoking category of smok2?"
   ]
  },
  {
   "cell_type": "code",
   "execution_count": null,
   "id": "a0c4b856",
   "metadata": {},
   "outputs": [],
   "source": [
    "epi.2by2(table(factor(whitehall_df_2$smok2, levels = c(1,0)), \n",
    "               factor(whitehall_df_2$chd, levels = c(1,0))), \n",
    "         method = \"cohort.count\", digits=4)"
   ]
  },
  {
   "cell_type": "markdown",
   "id": "a5a0817a",
   "metadata": {},
   "source": [
    "Risk of 12.3% in smokers, 6.85% in non-smokers"
   ]
  },
  {
   "cell_type": "markdown",
   "id": "b2f7beb3",
   "metadata": {},
   "source": [
    "### 3) What is the risk ratio of current smokers to non-smokers?"
   ]
  },
  {
   "cell_type": "markdown",
   "id": "dddb1f0b",
   "metadata": {},
   "source": [
    "From looking at table in answer 2, risk ratio is 1.80"
   ]
  },
  {
   "cell_type": "markdown",
   "id": "b5136ec0",
   "metadata": {},
   "source": [
    "### 4) Use the stset command to define follow-up details for the outcome CHD"
   ]
  },
  {
   "cell_type": "markdown",
   "id": "0c140687",
   "metadata": {},
   "source": [
    "Not necessary in `R`"
   ]
  },
  {
   "cell_type": "markdown",
   "id": "c3651d7a",
   "metadata": {},
   "source": [
    "### 5) Use strate to obtain the CHD mortality rates for current smokers and non- smokers."
   ]
  },
  {
   "cell_type": "code",
   "execution_count": null,
   "id": "67d4ba7e",
   "metadata": {},
   "outputs": [],
   "source": [
    "survRate(Surv(followup_time, chd) ~ smok2, data=whitehall_df_3)"
   ]
  },
  {
   "cell_type": "markdown",
   "id": "2121eeaa",
   "metadata": {},
   "source": [
    "0.004 per person-year in non-smokers, 0.008 per person-year in smokers"
   ]
  },
  {
   "cell_type": "markdown",
   "id": "0b72fa1c",
   "metadata": {},
   "source": [
    "### 6) What is the rate of deaths due to CHD per 1000 person-years for current smokers and non-smokers?"
   ]
  },
  {
   "cell_type": "code",
   "execution_count": null,
   "id": "18d50598",
   "metadata": {},
   "outputs": [],
   "source": [
    "survRate(Surv(followup_time/1000, chd) ~ smok2, data=whitehall_df_3)"
   ]
  },
  {
   "cell_type": "markdown",
   "id": "713f8de8",
   "metadata": {},
   "source": [
    "4.034 per 1000 person-years in non-smokers, 7.827 per person-years in smokers"
   ]
  },
  {
   "cell_type": "markdown",
   "id": "8c57564d",
   "metadata": {},
   "source": [
    "### 7) Use stmh to obtain the rate ratio of CHD death rates for smokers to non-smokers."
   ]
  },
  {
   "cell_type": "code",
   "execution_count": null,
   "id": "153d27e7",
   "metadata": {},
   "outputs": [],
   "source": [
    "survRate(Surv(followup_time, chd) ~ smok2, data=whitehall_df_3) %>%\n",
    "    dplyr::select(rate) %>%\n",
    "    slice(2) %>%\n",
    "    unlist /\n",
    "survRate(Surv(followup_time, chd) ~ smok2, data=whitehall_df_3) %>%\n",
    "    dplyr::select(rate) %>%\n",
    "    slice(1) %>%\n",
    "    unlist"
   ]
  },
  {
   "cell_type": "markdown",
   "id": "381c409a",
   "metadata": {},
   "source": [
    "Rate ratio is 1.94"
   ]
  },
  {
   "cell_type": "markdown",
   "id": "28225a0b",
   "metadata": {},
   "source": [
    "### 8) Read in the Mwanza data."
   ]
  },
  {
   "cell_type": "code",
   "execution_count": null,
   "id": "105a8c44",
   "metadata": {},
   "outputs": [],
   "source": [
    "mwanza_df <- read_dta(\"Data_files-20211113/MWANZA.dta\")"
   ]
  },
  {
   "cell_type": "markdown",
   "id": "76738375",
   "metadata": {},
   "source": [
    "### 9) How many women had ever used a condom (the variable name for condom use is usedc)?"
   ]
  },
  {
   "cell_type": "code",
   "execution_count": null,
   "id": "e7d7bf88",
   "metadata": {},
   "outputs": [],
   "source": [
    "mwanza_df %>%\n",
    "    filter(usedc == 2) %>%\n",
    "    nrow"
   ]
  },
  {
   "cell_type": "markdown",
   "id": "dc974a53",
   "metadata": {},
   "source": [
    "23 women have used a condom"
   ]
  },
  {
   "cell_type": "markdown",
   "id": "47cd94b0",
   "metadata": {},
   "source": [
    "### 10) What proportion of cases had ever used a condom?"
   ]
  },
  {
   "cell_type": "code",
   "execution_count": null,
   "id": "2217c2d6",
   "metadata": {},
   "outputs": [],
   "source": [
    "mwanza_df %>%\n",
    "    filter(case == 1) %>%\n",
    "    group_by(usedc) %>%\n",
    "    summarise(n = n()) %>%\n",
    "    mutate(proportion = n / sum(n) * 100)"
   ]
  },
  {
   "cell_type": "markdown",
   "id": "17222452",
   "metadata": {},
   "source": [
    "3.70% of cases had used a condom"
   ]
  },
  {
   "cell_type": "markdown",
   "id": "f105e73c",
   "metadata": {},
   "source": [
    "### 11) Use mhodds to obtain the odds ratio for condom use and HIV infection.\n",
    "\n",
    "(Remember to account for the missing values for usedc)"
   ]
  },
  {
   "cell_type": "code",
   "execution_count": null,
   "id": "737a0ac1",
   "metadata": {},
   "outputs": [],
   "source": [
    "epi.2by2(table(factor(mwanza_df$usedc, levels = c(2,1)), \n",
    "               factor(mwanza_df$case, levels = c(1,0))), \n",
    "         method = \"case.control\", digits=4)"
   ]
  },
  {
   "cell_type": "markdown",
   "id": "de0a03fe",
   "metadata": {},
   "source": [
    "Odds ratio of 1.356 "
   ]
  }
 ],
 "metadata": {
  "kernelspec": {
   "display_name": "R",
   "language": "R",
   "name": "ir"
  },
  "language_info": {
   "codemirror_mode": "r",
   "file_extension": ".r",
   "mimetype": "text/x-r-source",
   "name": "R",
   "pygments_lexer": "r",
   "version": "4.0.4"
  }
 },
 "nbformat": 4,
 "nbformat_minor": 5
}
