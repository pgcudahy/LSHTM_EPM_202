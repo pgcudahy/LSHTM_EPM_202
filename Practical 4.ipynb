{
 "cells": [
  {
   "cell_type": "markdown",
   "id": "409ff771",
   "metadata": {},
   "source": [
    "# Case-control studies"
   ]
  },
  {
   "cell_type": "markdown",
   "id": "7db9717f",
   "metadata": {},
   "source": [
    "## Aim\n",
    "\n",
    "To learn how to analyse case-control data, obtain crude and adjusted estimates and test for trend with increasing exposures."
   ]
  },
  {
   "cell_type": "code",
   "execution_count": 1,
   "id": "6d4b2187",
   "metadata": {},
   "outputs": [
    {
     "name": "stderr",
     "output_type": "stream",
     "text": [
      "── \u001b[1mAttaching packages\u001b[22m ─────────────────────────────────────── tidyverse 1.3.1 ──\n",
      "\n",
      "\u001b[32m✔\u001b[39m \u001b[34mggplot2\u001b[39m 3.3.5     \u001b[32m✔\u001b[39m \u001b[34mpurrr  \u001b[39m 0.3.4\n",
      "\u001b[32m✔\u001b[39m \u001b[34mtibble \u001b[39m 3.1.3     \u001b[32m✔\u001b[39m \u001b[34mdplyr  \u001b[39m 1.0.7\n",
      "\u001b[32m✔\u001b[39m \u001b[34mtidyr  \u001b[39m 1.1.3     \u001b[32m✔\u001b[39m \u001b[34mstringr\u001b[39m 1.4.0\n",
      "\u001b[32m✔\u001b[39m \u001b[34mreadr  \u001b[39m 2.0.0     \u001b[32m✔\u001b[39m \u001b[34mforcats\u001b[39m 0.5.1\n",
      "\n",
      "── \u001b[1mConflicts\u001b[22m ────────────────────────────────────────── tidyverse_conflicts() ──\n",
      "\u001b[31m✖\u001b[39m \u001b[34mdplyr\u001b[39m::\u001b[32mfilter()\u001b[39m masks \u001b[34mstats\u001b[39m::filter()\n",
      "\u001b[31m✖\u001b[39m \u001b[34mdplyr\u001b[39m::\u001b[32mlag()\u001b[39m    masks \u001b[34mstats\u001b[39m::lag()\n",
      "\n"
     ]
    }
   ],
   "source": [
    "library(tidyverse)"
   ]
  },
  {
   "cell_type": "markdown",
   "id": "cbf088fa",
   "metadata": {},
   "source": [
    "## Reading in the dataset and identifying relevant variables\n",
    "\n",
    "This practical session uses the dataset from Mwanza, Tanzania on HIV infection among women\n",
    "\n",
    "To read in the dataset, type:"
   ]
  },
  {
   "cell_type": "code",
   "execution_count": 2,
   "id": "c78086eb",
   "metadata": {},
   "outputs": [],
   "source": [
    "library(haven)"
   ]
  },
  {
   "cell_type": "code",
   "execution_count": 3,
   "id": "78b4c58a",
   "metadata": {},
   "outputs": [],
   "source": [
    "mwanza_df <- read_dta(\"Data_files-20211113/MWANZA.dta\")"
   ]
  },
  {
   "cell_type": "code",
   "execution_count": 4,
   "id": "6aabaf1b",
   "metadata": {},
   "outputs": [
    {
     "data": {
      "text/html": [
       "<table class=\"dataframe\">\n",
       "<caption>A tibble: 6 × 18</caption>\n",
       "<thead>\n",
       "\t<tr><th scope=col>idno</th><th scope=col>comp</th><th scope=col>case</th><th scope=col>age1</th><th scope=col>ed</th><th scope=col>eth</th><th scope=col>rel</th><th scope=col>msta</th><th scope=col>bld</th><th scope=col>inj</th><th scope=col>skin</th><th scope=col>fsex</th><th scope=col>npa</th><th scope=col>pa1</th><th scope=col>usedc</th><th scope=col>ud</th><th scope=col>ark</th><th scope=col>srk</th></tr>\n",
       "\t<tr><th scope=col>&lt;dbl&gt;</th><th scope=col>&lt;dbl&gt;</th><th scope=col>&lt;dbl&gt;</th><th scope=col>&lt;dbl&gt;</th><th scope=col>&lt;dbl&gt;</th><th scope=col>&lt;dbl&gt;</th><th scope=col>&lt;dbl&gt;</th><th scope=col>&lt;dbl&gt;</th><th scope=col>&lt;dbl&gt;</th><th scope=col>&lt;dbl&gt;</th><th scope=col>&lt;dbl&gt;</th><th scope=col>&lt;dbl&gt;</th><th scope=col>&lt;dbl&gt;</th><th scope=col>&lt;dbl&gt;</th><th scope=col>&lt;dbl&gt;</th><th scope=col>&lt;dbl&gt;</th><th scope=col>&lt;dbl&gt;</th><th scope=col>&lt;dbl&gt;</th></tr>\n",
       "</thead>\n",
       "<tbody>\n",
       "\t<tr><td>112041</td><td>1</td><td>0</td><td>2</td><td>3</td><td>1</td><td>2</td><td>3</td><td>1</td><td>1</td><td>1</td><td>2</td><td>1</td><td>1</td><td>1</td><td>1</td><td>2</td><td>4</td></tr>\n",
       "\t<tr><td>114002</td><td>1</td><td>0</td><td>6</td><td>1</td><td>1</td><td>4</td><td>1</td><td>1</td><td>1</td><td>1</td><td>1</td><td>2</td><td>2</td><td>1</td><td>1</td><td>4</td><td>4</td></tr>\n",
       "\t<tr><td>114006</td><td>1</td><td>1</td><td>4</td><td>3</td><td>3</td><td>3</td><td>1</td><td>1</td><td>5</td><td>2</td><td>2</td><td>3</td><td>2</td><td>2</td><td>1</td><td>3</td><td>3</td></tr>\n",
       "\t<tr><td>114020</td><td>1</td><td>1</td><td>3</td><td>3</td><td>3</td><td>3</td><td>1</td><td>1</td><td>1</td><td>2</td><td>2</td><td>3</td><td>2</td><td>1</td><td>2</td><td>2</td><td>2</td></tr>\n",
       "\t<tr><td>114025</td><td>1</td><td>1</td><td>1</td><td>3</td><td>1</td><td>3</td><td>1</td><td>1</td><td>2</td><td>2</td><td>1</td><td>1</td><td>2</td><td>1</td><td>1</td><td>2</td><td>4</td></tr>\n",
       "\t<tr><td>121006</td><td>1</td><td>0</td><td>2</td><td>1</td><td>1</td><td>2</td><td>1</td><td>1</td><td>1</td><td>1</td><td>2</td><td>1</td><td>2</td><td>1</td><td>1</td><td>1</td><td>4</td></tr>\n",
       "</tbody>\n",
       "</table>\n"
      ],
      "text/latex": [
       "A tibble: 6 × 18\n",
       "\\begin{tabular}{llllllllllllllllll}\n",
       " idno & comp & case & age1 & ed & eth & rel & msta & bld & inj & skin & fsex & npa & pa1 & usedc & ud & ark & srk\\\\\n",
       " <dbl> & <dbl> & <dbl> & <dbl> & <dbl> & <dbl> & <dbl> & <dbl> & <dbl> & <dbl> & <dbl> & <dbl> & <dbl> & <dbl> & <dbl> & <dbl> & <dbl> & <dbl>\\\\\n",
       "\\hline\n",
       "\t 112041 & 1 & 0 & 2 & 3 & 1 & 2 & 3 & 1 & 1 & 1 & 2 & 1 & 1 & 1 & 1 & 2 & 4\\\\\n",
       "\t 114002 & 1 & 0 & 6 & 1 & 1 & 4 & 1 & 1 & 1 & 1 & 1 & 2 & 2 & 1 & 1 & 4 & 4\\\\\n",
       "\t 114006 & 1 & 1 & 4 & 3 & 3 & 3 & 1 & 1 & 5 & 2 & 2 & 3 & 2 & 2 & 1 & 3 & 3\\\\\n",
       "\t 114020 & 1 & 1 & 3 & 3 & 3 & 3 & 1 & 1 & 1 & 2 & 2 & 3 & 2 & 1 & 2 & 2 & 2\\\\\n",
       "\t 114025 & 1 & 1 & 1 & 3 & 1 & 3 & 1 & 1 & 2 & 2 & 1 & 1 & 2 & 1 & 1 & 2 & 4\\\\\n",
       "\t 121006 & 1 & 0 & 2 & 1 & 1 & 2 & 1 & 1 & 1 & 1 & 2 & 1 & 2 & 1 & 1 & 1 & 4\\\\\n",
       "\\end{tabular}\n"
      ],
      "text/markdown": [
       "\n",
       "A tibble: 6 × 18\n",
       "\n",
       "| idno &lt;dbl&gt; | comp &lt;dbl&gt; | case &lt;dbl&gt; | age1 &lt;dbl&gt; | ed &lt;dbl&gt; | eth &lt;dbl&gt; | rel &lt;dbl&gt; | msta &lt;dbl&gt; | bld &lt;dbl&gt; | inj &lt;dbl&gt; | skin &lt;dbl&gt; | fsex &lt;dbl&gt; | npa &lt;dbl&gt; | pa1 &lt;dbl&gt; | usedc &lt;dbl&gt; | ud &lt;dbl&gt; | ark &lt;dbl&gt; | srk &lt;dbl&gt; |\n",
       "|---|---|---|---|---|---|---|---|---|---|---|---|---|---|---|---|---|---|\n",
       "| 112041 | 1 | 0 | 2 | 3 | 1 | 2 | 3 | 1 | 1 | 1 | 2 | 1 | 1 | 1 | 1 | 2 | 4 |\n",
       "| 114002 | 1 | 0 | 6 | 1 | 1 | 4 | 1 | 1 | 1 | 1 | 1 | 2 | 2 | 1 | 1 | 4 | 4 |\n",
       "| 114006 | 1 | 1 | 4 | 3 | 3 | 3 | 1 | 1 | 5 | 2 | 2 | 3 | 2 | 2 | 1 | 3 | 3 |\n",
       "| 114020 | 1 | 1 | 3 | 3 | 3 | 3 | 1 | 1 | 1 | 2 | 2 | 3 | 2 | 1 | 2 | 2 | 2 |\n",
       "| 114025 | 1 | 1 | 1 | 3 | 1 | 3 | 1 | 1 | 2 | 2 | 1 | 1 | 2 | 1 | 1 | 2 | 4 |\n",
       "| 121006 | 1 | 0 | 2 | 1 | 1 | 2 | 1 | 1 | 1 | 1 | 2 | 1 | 2 | 1 | 1 | 1 | 4 |\n",
       "\n"
      ],
      "text/plain": [
       "  idno   comp case age1 ed eth rel msta bld inj skin fsex npa pa1 usedc ud ark\n",
       "1 112041 1    0    2    3  1   2   3    1   1   1    2    1   1   1     1  2  \n",
       "2 114002 1    0    6    1  1   4   1    1   1   1    1    2   2   1     1  4  \n",
       "3 114006 1    1    4    3  3   3   1    1   5   2    2    3   2   2     1  3  \n",
       "4 114020 1    1    3    3  3   3   1    1   1   2    2    3   2   1     2  2  \n",
       "5 114025 1    1    1    3  1   3   1    1   2   2    1    1   2   1     1  2  \n",
       "6 121006 1    0    2    1  1   2   1    1   1   1    2    1   2   1     1  1  \n",
       "  srk\n",
       "1 4  \n",
       "2 4  \n",
       "3 3  \n",
       "4 2  \n",
       "5 4  \n",
       "6 4  "
      ]
     },
     "metadata": {},
     "output_type": "display_data"
    }
   ],
   "source": [
    "head(mwanza_df)"
   ]
  },
  {
   "cell_type": "markdown",
   "id": "d0826b56",
   "metadata": {},
   "source": [
    "We will look at the association between HIV infection and exposure to formal education, number of sexual partners and religion.\n",
    "\n",
    "**case** is the variable name for HIV infection coded: 1=case; 0=control\n",
    "\n",
    "**age1** is a grouped age variable coded: 1=15-19, 2=20-24, 3=25-29, 4=30-34, 5=35-44, 6=45-54 years\n",
    "\n",
    "**ed** is the variable name for level of education coded: 1=no formal education (none/adult only), 2=1-3 years, 3=4-6 years, 4=7+ years\n",
    "\n",
    "**npa** is the variable name for number of sexual partners ever coded: 1=0-1, 2=2-4, 3=5-9, 4=10-19, 5=20-49, 6=50+, 9=missing\n",
    "\n",
    "**rel** is the variable name for type of religion coded: 1=Moslem, 2=Catholic, 3=Protestant, 4=other, 9=missing"
   ]
  },
  {
   "cell_type": "markdown",
   "id": "6bf8c4f7",
   "metadata": {},
   "source": [
    "To examine how many cases and controls there are in the dataset, type:"
   ]
  },
  {
   "cell_type": "code",
   "execution_count": 5,
   "id": "21cf02cd",
   "metadata": {},
   "outputs": [
    {
     "name": "stdout",
     "output_type": "stream",
     "text": [
      "\n",
      " \n",
      "   Cell Contents\n",
      "|-------------------------|\n",
      "|                       N |\n",
      "|         N / Table Total |\n",
      "|-------------------------|\n",
      "\n",
      " \n",
      "Total Observations in Table:  763 \n",
      "\n",
      " \n",
      "          |         0 |         1 | \n",
      "          |-----------|-----------|\n",
      "          |       574 |       189 | \n",
      "          |     0.752 |     0.248 | \n",
      "          |-----------|-----------|\n",
      "\n",
      "\n",
      "\n",
      " \n"
     ]
    }
   ],
   "source": [
    "library(gmodels)\n",
    "CrossTable(mwanza_df$case)"
   ]
  },
  {
   "cell_type": "markdown",
   "id": "0c4737c8",
   "metadata": {},
   "source": [
    "To look at exposure to formal education create a new variable ed2 which takes the value 1 for women with no formal education and value 2 for those with some education. Type:"
   ]
  },
  {
   "cell_type": "code",
   "execution_count": 6,
   "id": "e65e77f2",
   "metadata": {},
   "outputs": [],
   "source": [
    "mwanza_df_2 <- mwanza_df %>%\n",
    "    mutate(ed2 = case_when(ed == 1 ~ 1,\n",
    "                           ed > 1 ~ 2))"
   ]
  },
  {
   "cell_type": "markdown",
   "id": "750086ae",
   "metadata": {},
   "source": [
    "To check that the new variable has been coded correctly, tabulate it against the original variable. Type:"
   ]
  },
  {
   "cell_type": "code",
   "execution_count": 7,
   "id": "05507b6f",
   "metadata": {},
   "outputs": [
    {
     "name": "stdout",
     "output_type": "stream",
     "text": [
      "\n",
      " \n",
      "   Cell Contents\n",
      "|-------------------------|\n",
      "|                       N |\n",
      "| Chi-square contribution |\n",
      "|           N / Row Total |\n",
      "|           N / Col Total |\n",
      "|         N / Table Total |\n",
      "|-------------------------|\n",
      "\n",
      " \n",
      "Total Observations in Table:  763 \n",
      "\n",
      " \n",
      "               | mwanza_df_2$ed2 \n",
      "mwanza_df_2$ed |         1 |         2 | Row Total | \n",
      "---------------|-----------|-----------|-----------|\n",
      "             1 |       312 |         0 |       312 | \n",
      "               |   266.581 |   184.419 |           | \n",
      "               |     1.000 |     0.000 |     0.409 | \n",
      "               |     1.000 |     0.000 |           | \n",
      "               |     0.409 |     0.000 |           | \n",
      "---------------|-----------|-----------|-----------|\n",
      "             2 |         0 |        75 |        75 | \n",
      "               |    30.668 |    21.216 |           | \n",
      "               |     0.000 |     1.000 |     0.098 | \n",
      "               |     0.000 |     0.166 |           | \n",
      "               |     0.000 |     0.098 |           | \n",
      "---------------|-----------|-----------|-----------|\n",
      "             3 |         0 |       365 |       365 | \n",
      "               |   149.253 |   103.253 |           | \n",
      "               |     0.000 |     1.000 |     0.478 | \n",
      "               |     0.000 |     0.809 |           | \n",
      "               |     0.000 |     0.478 |           | \n",
      "---------------|-----------|-----------|-----------|\n",
      "             4 |         0 |        11 |        11 | \n",
      "               |     4.498 |     3.112 |           | \n",
      "               |     0.000 |     1.000 |     0.014 | \n",
      "               |     0.000 |     0.024 |           | \n",
      "               |     0.000 |     0.014 |           | \n",
      "---------------|-----------|-----------|-----------|\n",
      "  Column Total |       312 |       451 |       763 | \n",
      "               |     0.409 |     0.591 |           | \n",
      "---------------|-----------|-----------|-----------|\n",
      "\n",
      " \n"
     ]
    }
   ],
   "source": [
    "CrossTable(mwanza_df_2$ed, mwanza_df_2$ed2)"
   ]
  },
  {
   "cell_type": "markdown",
   "id": "112e0a05",
   "metadata": {},
   "source": [
    "Similarly for age, recode age1 to a new variable age2 with the 4 categories: 1 = 15-19, 2 = 20-29, 3 = 30-44, 4 = 45+ years. Type:"
   ]
  },
  {
   "cell_type": "code",
   "execution_count": 8,
   "id": "990a1a86",
   "metadata": {},
   "outputs": [],
   "source": [
    "mwanza_df_3 <- mwanza_df_2 %>%\n",
    "    mutate(age2 = case_when(age1 < 20 ~ 1,\n",
    "                            age1 < 30 ~ 2,\n",
    "                            age1 < 45 ~ 3,\n",
    "                            age1 >= 45 ~ 4))"
   ]
  },
  {
   "cell_type": "markdown",
   "id": "df946a23",
   "metadata": {},
   "source": [
    "Again we should tabulate the old variable against the new variable to check the coding is correct."
   ]
  },
  {
   "cell_type": "code",
   "execution_count": 9,
   "id": "ae04baab",
   "metadata": {},
   "outputs": [
    {
     "name": "stdout",
     "output_type": "stream",
     "text": [
      "\n",
      " \n",
      "   Cell Contents\n",
      "|-------------------------|\n",
      "|                       N |\n",
      "|         N / Table Total |\n",
      "|-------------------------|\n",
      "\n",
      " \n",
      "Total Observations in Table:  763 \n",
      "\n",
      " \n",
      "                 | mwanza_df_3$age2 \n",
      "mwanza_df_3$age1 |         1 | Row Total | \n",
      "-----------------|-----------|-----------|\n",
      "               1 |       109 |       109 | \n",
      "                 |     0.143 |           | \n",
      "-----------------|-----------|-----------|\n",
      "               2 |       165 |       165 | \n",
      "                 |     0.216 |           | \n",
      "-----------------|-----------|-----------|\n",
      "               3 |       123 |       123 | \n",
      "                 |     0.161 |           | \n",
      "-----------------|-----------|-----------|\n",
      "               4 |       118 |       118 | \n",
      "                 |     0.155 |           | \n",
      "-----------------|-----------|-----------|\n",
      "               5 |       137 |       137 | \n",
      "                 |     0.180 |           | \n",
      "-----------------|-----------|-----------|\n",
      "               6 |       111 |       111 | \n",
      "                 |     0.145 |           | \n",
      "-----------------|-----------|-----------|\n",
      "    Column Total |       763 |       763 | \n",
      "-----------------|-----------|-----------|\n",
      "\n",
      " \n"
     ]
    }
   ],
   "source": [
    "CrossTable(mwanza_df_3$age1, mwanza_df_3$age2)"
   ]
  },
  {
   "cell_type": "markdown",
   "id": "6e893552",
   "metadata": {},
   "source": [
    "## Crude odds ratio estimate\n",
    "\n",
    "To examine the relationship between being a case and formal education, type:"
   ]
  },
  {
   "cell_type": "code",
   "execution_count": 10,
   "id": "6d862189",
   "metadata": {},
   "outputs": [
    {
     "name": "stderr",
     "output_type": "stream",
     "text": [
      "Loading required package: survival\n",
      "\n",
      "Package epiR 2.0.41 is loaded\n",
      "\n",
      "Type help(epi.about) for summary information\n",
      "\n",
      "Type browseVignettes(package = 'epiR') to learn how to use epiR for applied epidemiological analyses\n",
      "\n",
      "\n",
      "\n",
      "\n"
     ]
    },
    {
     "data": {
      "text/plain": [
       "             Outcome +    Outcome -      Total        Inc risk *        Odds\n",
       "Exposed +          263          311        574              45.8       0.846\n",
       "Exposed -           49          140        189              25.9       0.350\n",
       "Total              312          451        763              40.9       0.692\n",
       "\n",
       "Point estimates and 95% CIs:\n",
       "-------------------------------------------------------------------\n",
       "Inc risk ratio                                 1.77 (1.37, 2.28)\n",
       "Odds ratio                                     2.42 (1.68, 3.48)\n",
       "Attrib risk in the exposed *                   19.89 (12.43, 27.35)\n",
       "Attrib fraction in the exposed (%)            43.42 (26.84, 56.23)\n",
       "Attrib risk in the population *                14.97 (7.81, 22.12)\n",
       "Attrib fraction in the population (%)         36.60 (21.23, 48.97)\n",
       "-------------------------------------------------------------------\n",
       "Uncorrected chi2 test that OR = 1: chi2(1) = 23.279 Pr>chi2 = <0.001\n",
       "Fisher exact test that OR = 1: Pr>chi2 = <0.001\n",
       " Wald confidence limits\n",
       " CI: confidence interval\n",
       " * Outcomes per 100 population units "
      ]
     },
     "metadata": {},
     "output_type": "display_data"
    }
   ],
   "source": [
    "library(\"epiR\")\n",
    "epi.2by2(table(factor(mwanza_df_3$case, levels = c(0, 1)),\n",
    "         factor(mwanza_df_3$ed2, levels = c(1, 2))),\n",
    "         method = \"cohort.count\", digits = 2)"
   ]
  },
  {
   "cell_type": "markdown",
   "id": "206d0832",
   "metadata": {},
   "source": [
    " The P-value shows very strong evidence against the null hypothesis of no association."
   ]
  },
  {
   "cell_type": "markdown",
   "id": "46cc7fcf",
   "metadata": {},
   "source": [
    "Note: We should examine the row percentages because column percentages are affected by the different probabilities of selection for cases and controls.\n",
    "\n",
    "We must be clear about which variable we are treating as the exposure and which category is a case in our interpretation of the table. Examine the table above. What is the proportion of cases with some formal education?\n",
    "\n",
    "There are 140/189 cases with some formal education, i.e. 74.1%."
   ]
  },
  {
   "cell_type": "markdown",
   "id": "91b8d3a7",
   "metadata": {},
   "source": [
    "To produce an odds ratio for exposure to formal education we can use the `epi.2by2` command. Try the following command first:"
   ]
  },
  {
   "cell_type": "code",
   "execution_count": 11,
   "id": "cd55976d",
   "metadata": {},
   "outputs": [
    {
     "data": {
      "text/plain": [
       "             Outcome +    Outcome -      Total        Inc risk *        Odds\n",
       "Exposed +          311          263        574              54.2        1.18\n",
       "Exposed -          140           49        189              74.1        2.86\n",
       "Total              451          312        763              59.1        1.45\n",
       "\n",
       "Point estimates and 95% CIs:\n",
       "-------------------------------------------------------------------\n",
       "Inc risk ratio                                 0.73 (0.65, 0.82)\n",
       "Odds ratio                                     0.41 (0.29, 0.60)\n",
       "Attrib risk in the exposed *                   -19.89 (-27.35, -12.43)\n",
       "Attrib fraction in the exposed (%)            -36.72 (-53.07, -22.11)\n",
       "Attrib risk in the population *                -14.97 (-22.12, -7.81)\n",
       "Attrib fraction in the population (%)         -25.32 (-35.57, -15.84)\n",
       "-------------------------------------------------------------------\n",
       "Uncorrected chi2 test that OR = 1: chi2(1) = 23.279 Pr>chi2 = <0.001\n",
       "Fisher exact test that OR = 1: Pr>chi2 = <0.001\n",
       " Wald confidence limits\n",
       " CI: confidence interval\n",
       " * Outcomes per 100 population units "
      ]
     },
     "metadata": {},
     "output_type": "display_data"
    }
   ],
   "source": [
    "epi.2by2(table(factor(mwanza_df_3$case, levels = c(0, 1)),\n",
    "         factor(mwanza_df_3$ed2, levels = c(2, 1))),\n",
    "         method = \"cohort.count\", digits = 2)"
   ]
  },
  {
   "cell_type": "markdown",
   "id": "96c29607",
   "metadata": {},
   "source": [
    "Now change the baseline for ed2. Type:"
   ]
  },
  {
   "cell_type": "code",
   "execution_count": 12,
   "id": "cff9cb14",
   "metadata": {},
   "outputs": [
    {
     "data": {
      "text/plain": [
       "             Outcome +    Outcome -      Total        Inc risk *        Odds\n",
       "Exposed +          263          311        574              45.8       0.846\n",
       "Exposed -           49          140        189              25.9       0.350\n",
       "Total              312          451        763              40.9       0.692\n",
       "\n",
       "Point estimates and 95% CIs:\n",
       "-------------------------------------------------------------------\n",
       "Inc risk ratio                                 1.77 (1.37, 2.28)\n",
       "Odds ratio                                     2.42 (1.68, 3.48)\n",
       "Attrib risk in the exposed *                   19.89 (12.43, 27.35)\n",
       "Attrib fraction in the exposed (%)            43.42 (26.84, 56.23)\n",
       "Attrib risk in the population *                14.97 (7.81, 22.12)\n",
       "Attrib fraction in the population (%)         36.60 (21.23, 48.97)\n",
       "-------------------------------------------------------------------\n",
       "Uncorrected chi2 test that OR = 1: chi2(1) = 23.279 Pr>chi2 = <0.001\n",
       "Fisher exact test that OR = 1: Pr>chi2 = <0.001\n",
       " Wald confidence limits\n",
       " CI: confidence interval\n",
       " * Outcomes per 100 population units "
      ]
     },
     "metadata": {},
     "output_type": "display_data"
    }
   ],
   "source": [
    "epi.2by2(table(factor(mwanza_df_3$case, levels = c(0, 1)),\n",
    "         factor(mwanza_df_3$ed2, levels = c(1, 2))),\n",
    "         method = \"cohort.count\", digits = 2)"
   ]
  },
  {
   "cell_type": "markdown",
   "id": "4b21b5aa",
   "metadata": {},
   "source": [
    "The first version of the command takes level 2 (some education) as baseline. Thus, the odds ratio is 1.0 divided by the odds ratio from the second version, which uses level 1 (no formal education) as the baseline. It is important to know which level is the baseline in our interpretation of the odds ratio."
   ]
  },
  {
   "cell_type": "markdown",
   "id": "d50a7cf6",
   "metadata": {},
   "source": [
    "## Adjusted odds ratio estimates"
   ]
  }
 ],
 "metadata": {
  "kernelspec": {
   "display_name": "R",
   "language": "R",
   "name": "ir"
  },
  "language_info": {
   "codemirror_mode": "r",
   "file_extension": ".r",
   "mimetype": "text/x-r-source",
   "name": "R",
   "pygments_lexer": "r",
   "version": "4.1.2"
  }
 },
 "nbformat": 4,
 "nbformat_minor": 5
}
