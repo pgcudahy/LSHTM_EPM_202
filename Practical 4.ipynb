{
 "cells": [
  {
   "cell_type": "markdown",
   "id": "c4f3af26",
   "metadata": {},
   "source": [
    "# Case-control studies"
   ]
  },
  {
   "cell_type": "markdown",
   "id": "4a4616bc",
   "metadata": {},
   "source": [
    "## Aim\n",
    "\n",
    "To learn how to analyse case-control data, obtain crude and adjusted estimates and test for trend with increasing exposures."
   ]
  },
  {
   "cell_type": "code",
   "execution_count": null,
   "id": "aee75d53",
   "metadata": {},
   "outputs": [],
   "source": [
    "library(tidyverse)"
   ]
  },
  {
   "cell_type": "markdown",
   "id": "11025553",
   "metadata": {},
   "source": [
    "## Reading in the dataset and identifying relevant variables\n",
    "\n",
    "This practical session uses the dataset from Mwanza, Tanzania on HIV infection among women\n",
    "\n",
    "To read in the dataset, type:"
   ]
  },
  {
   "cell_type": "code",
   "execution_count": null,
   "id": "c78086eb",
   "metadata": {},
   "outputs": [],
   "source": [
    "library(haven)"
   ]
  },
  {
   "cell_type": "code",
   "execution_count": null,
   "id": "78b4c58a",
   "metadata": {},
   "outputs": [],
   "source": [
    "mwanza_df <- read_dta(\"Data_files-20211113/MWANZA.dta\")"
   ]
  },
  {
   "cell_type": "code",
   "execution_count": null,
   "id": "6aabaf1b",
   "metadata": {},
   "outputs": [],
   "source": [
    "head(mwanza_df)"
   ]
  },
  {
   "cell_type": "markdown",
   "id": "4d58d327",
   "metadata": {},
   "source": [
    "We will look at the association between HIV infection and exposure to formal education, number of sexual partners and religion.\n",
    "\n",
    "**case** is the variable name for HIV infection coded: 1=case; 0=control\n",
    "\n",
    "**age1** is a grouped age variable coded: 1=15-19, 2=20-24, 3=25-29, 4=30-34, 5=35-44, 6=45-54 years\n",
    "\n",
    "**ed** is the variable name for level of education coded: 1=no formal education (none/adult only), 2=1-3 years, 3=4-6 years, 4=7+ years\n",
    "\n",
    "**npa** is the variable name for number of sexual partners ever coded: 1=0-1, 2=2-4, 3=5-9, 4=10-19, 5=20-49, 6=50+, 9=missing\n",
    "\n",
    "**rel** is the variable name for type of religion coded: 1=Moslem, 2=Catholic, 3=Protestant, 4=other, 9=missing"
   ]
  },
  {
   "cell_type": "markdown",
   "id": "1fbbab94",
   "metadata": {},
   "source": [
    "To examine how many cases and controls there are in the dataset, type:"
   ]
  },
  {
   "cell_type": "code",
   "execution_count": null,
   "id": "05af3dc0",
   "metadata": {},
   "outputs": [],
   "source": [
    "library(gmodels)\n"
   ]
  },
  {
   "cell_type": "code",
   "execution_count": null,
   "id": "8fc50573",
   "metadata": {},
   "outputs": [],
   "source": [
    "CrossTable(mwanza_df$case)"
   ]
  },
  {
   "cell_type": "markdown",
   "id": "c24a3118",
   "metadata": {},
   "source": [
    "To look at exposure to formal education create a new variable ed2 which takes the value 1 for women with no formal education and value 2 for those with some education. Type:"
   ]
  },
  {
   "cell_type": "code",
   "execution_count": null,
   "id": "a76a9bfd",
   "metadata": {},
   "outputs": [],
   "source": [
    "mwanza_df_2 <- mwanza_df %>%\n",
    "    mutate(ed2 = case_when(ed == 1 ~ 1,\n",
    "                           ed > 1 ~ 2))"
   ]
  },
  {
   "cell_type": "markdown",
   "id": "9ed605ea",
   "metadata": {},
   "source": [
    "To check that the new variable has been coded correctly, tabulate it against the original variable. Type:"
   ]
  },
  {
   "cell_type": "code",
   "execution_count": null,
   "id": "6aa79bd0",
   "metadata": {},
   "outputs": [],
   "source": [
    "CrossTable(mwanza_df_2$ed, mwanza_df_2$ed2)"
   ]
  },
  {
   "cell_type": "markdown",
   "id": "fce888a7",
   "metadata": {},
   "source": [
    "Similarly for age, recode age1 to a new variable age2 with the 4 categories: 1 = 15-19, 2 = 20-29, 3 = 30-44, 4 = 45+ years. Type:"
   ]
  },
  {
   "cell_type": "code",
   "execution_count": null,
   "id": "9823bd6d",
   "metadata": {},
   "outputs": [],
   "source": [
    "mwanza_df_3 <- mwanza_df_2 %>%\n",
    "    mutate(age2 = case_when(age1 == 1 ~ 1,\n",
    "                            age1 < 4 ~ 2,\n",
    "                            age1 < 6 ~ 3,\n",
    "                            age1 == 6 ~ 4))"
   ]
  },
  {
   "cell_type": "markdown",
   "id": "d21f7778",
   "metadata": {},
   "source": [
    "Again we should tabulate the old variable against the new variable to check the coding is correct."
   ]
  },
  {
   "cell_type": "code",
   "execution_count": null,
   "id": "06386212",
   "metadata": {},
   "outputs": [],
   "source": [
    "CrossTable(mwanza_df_3$age1, mwanza_df_3$age2)"
   ]
  },
  {
   "cell_type": "markdown",
   "id": "7f0ccb8d",
   "metadata": {},
   "source": [
    "## Crude odds ratio estimate\n",
    "\n",
    "To examine the relationship between being a case and formal education, type:"
   ]
  },
  {
   "cell_type": "code",
   "execution_count": null,
   "id": "a8e05186",
   "metadata": {},
   "outputs": [],
   "source": [
    "library(\"epiR\")"
   ]
  },
  {
   "cell_type": "code",
   "execution_count": null,
   "id": "f526ed7f",
   "metadata": {},
   "outputs": [],
   "source": [
    "epi.2by2(table(factor(mwanza_df_3$case, levels = c(0, 1)),\n",
    "         factor(mwanza_df_3$ed2, levels = c(1, 2))),\n",
    "         method = \"cohort.count\", digits = 2)"
   ]
  },
  {
   "cell_type": "markdown",
   "id": "3aa90247",
   "metadata": {},
   "source": [
    " The P-value shows very strong evidence against the null hypothesis of no association."
   ]
  },
  {
   "cell_type": "markdown",
   "id": "c1f2c661",
   "metadata": {},
   "source": [
    "Note: We should examine the row percentages because column percentages are affected by the different probabilities of selection for cases and controls.\n",
    "\n",
    "We must be clear about which variable we are treating as the exposure and which category is a case in our interpretation of the table. Examine the table above. What is the proportion of cases with some formal education?\n",
    "\n",
    "There are 140/189 cases with some formal education, i.e. 74.1%."
   ]
  },
  {
   "cell_type": "markdown",
   "id": "f976c39e",
   "metadata": {},
   "source": [
    "To produce an odds ratio for exposure to formal education we can use the `epi.2by2` command. Try the following command first:"
   ]
  },
  {
   "cell_type": "code",
   "execution_count": null,
   "id": "33783b93",
   "metadata": {},
   "outputs": [],
   "source": [
    "epi.2by2(table(factor(mwanza_df_3$case, levels = c(0, 1)),\n",
    "         factor(mwanza_df_3$ed2, levels = c(2, 1))),\n",
    "         method = \"cohort.count\", digits = 2)"
   ]
  },
  {
   "cell_type": "markdown",
   "id": "62230b20",
   "metadata": {},
   "source": [
    "Now change the baseline for ed2. Type:"
   ]
  },
  {
   "cell_type": "code",
   "execution_count": null,
   "id": "2f2698dc",
   "metadata": {},
   "outputs": [],
   "source": [
    "epi.2by2(table(factor(mwanza_df_3$case, levels = c(0, 1)),\n",
    "         factor(mwanza_df_3$ed2, levels = c(1, 2))),\n",
    "         method = \"cohort.count\", digits = 2)"
   ]
  },
  {
   "cell_type": "markdown",
   "id": "516b3b98",
   "metadata": {},
   "source": [
    "The first version of the command takes level 2 (some education) as baseline. Thus, the odds ratio is 1.0 divided by the odds ratio from the second version, which uses level 1 (no formal education) as the baseline. It is important to know which level is the baseline in our interpretation of the odds ratio."
   ]
  },
  {
   "cell_type": "markdown",
   "id": "f0e6917d",
   "metadata": {},
   "source": [
    "## Adjusted odds ratio estimates"
   ]
  },
  {
   "cell_type": "markdown",
   "id": "16e373a0",
   "metadata": {},
   "source": [
    "Now let’s examine the effect of education on HIV infection adjusted for age. To produce tables of case status by education stratified by age, we can use the\n",
    "`xtabs` function. Type:"
   ]
  },
  {
   "cell_type": "code",
   "execution_count": null,
   "id": "b13960a1",
   "metadata": {},
   "outputs": [],
   "source": [
    "xtabs(data = mwanza_df_3,\n",
    "      formula = ~ case + ed2 + age2) %>%\n",
    "    addmargins"
   ]
  },
  {
   "cell_type": "markdown",
   "id": "b709a18c",
   "metadata": {},
   "source": [
    "Note: These tables have cases with the exposure in the bottom right corner, not in the top left corner."
   ]
  },
  {
   "cell_type": "markdown",
   "id": "e96599d7",
   "metadata": {},
   "source": [
    "To obtain the odds ratio for HIV infection, comparing those with and without education within each stratum, we will use `mhor`. Is it appropriate to produce a summary estimate of the odds ratio adjusted for age?"
   ]
  },
  {
   "cell_type": "code",
   "execution_count": null,
   "id": "6919aeb2",
   "metadata": {},
   "outputs": [],
   "source": [
    "library(epiDisplay)"
   ]
  },
  {
   "cell_type": "code",
   "execution_count": null,
   "id": "0d42d860",
   "metadata": {},
   "outputs": [],
   "source": [
    "mhor(mwanza_df_3$case,\n",
    "     mwanza_df_3$ed2,\n",
    "     mwanza_df_3$age2,\n",
    "     design = \"case-control\", graph = FALSE)"
   ]
  },
  {
   "cell_type": "markdown",
   "id": "f7ee0c99",
   "metadata": {},
   "source": [
    "The $ \\chi $<sup>2</sup> value for effect modification suggests that there is a different effect of education on HIV infection depending on age. The confidence intervals of the ORs are wide but there is an indication that education may be protective in the youngest age group, or at least not as \"harmful\".\n",
    "\n",
    "Given that there is some evidence of interaction, the combined estimate of 2.29 is less useful and it is preferable to present the stratum-specific estimates. It is plausible that the \"effect\" of education has changed if there has been awareness of HIV risks and teaching about this in schools in recent years."
   ]
  },
  {
   "cell_type": "markdown",
   "id": "c37a9bbb",
   "metadata": {},
   "source": [
    "## Test for trend"
   ]
  },
  {
   "cell_type": "markdown",
   "id": "ea2d47aa",
   "metadata": {},
   "source": [
    "To look for evidence of a dose-response effect of years of schooling on HIV infection, we can use tabodds to perform a test for trend. Type:"
   ]
  },
  {
   "cell_type": "code",
   "execution_count": null,
   "id": "c4d6a5a0",
   "metadata": {},
   "outputs": [],
   "source": [
    "table(mwanza_df_3$case, mwanza_df_3$ed) %>%\n",
    "    chisq.test"
   ]
  },
  {
   "cell_type": "markdown",
   "id": "faa649d1",
   "metadata": {},
   "source": [
    "The first test (test for homogeneity, P<0.001) provides very strong evidence against the null hypothesis that the odds of HIV infection are the same in each education category.\n",
    "\n",
    "To test for a trend we need to reshape the data to fit the function `prop.trend.test`"
   ]
  },
  {
   "cell_type": "code",
   "execution_count": null,
   "id": "eb81b81d",
   "metadata": {},
   "outputs": [],
   "source": [
    "(tab1 <- table(mwanza_df_3$case, mwanza_df_3$ed) %>%\n",
    "    addmargins)"
   ]
  },
  {
   "cell_type": "code",
   "execution_count": null,
   "id": "38ba92aa",
   "metadata": {},
   "outputs": [],
   "source": [
    "prop.trend.test(x = tab1[1, 1:4],\n",
    "                n = tab1[3, 1:4])"
   ]
  },
  {
   "cell_type": "markdown",
   "id": "a04dec85",
   "metadata": {},
   "source": [
    "The second test (test for trend, P<0.001) provides very strong evidence against the null hypothesis that there is no trend in odds of HIV infection with increasing years of education."
   ]
  },
  {
   "cell_type": "markdown",
   "id": "d4898b5f",
   "metadata": {},
   "source": [
    "Remember that this is a case-control study, so that D/H or case/control does not give us the exact odds because the probabilities of selection differ between cases and controls. However the “odds” column is a constant multiple of the true odds so can be used to look at trends."
   ]
  },
  {
   "cell_type": "markdown",
   "id": "090d8f84",
   "metadata": {},
   "source": [
    "To investigate further whether there really is evidence that risk of HIV infection increases with years of schooling, we will perform a test for trend excluding women who had never been to school. To exclude women with no formal education, type:"
   ]
  },
  {
   "cell_type": "code",
   "execution_count": null,
   "id": "7e14e9d8",
   "metadata": {},
   "outputs": [],
   "source": [
    "prop.trend.test(x = tab1[1, 2:4],\n",
    "                n = tab1[3, 2:4])"
   ]
  },
  {
   "cell_type": "markdown",
   "id": "e3c540a0",
   "metadata": {},
   "source": [
    "What should we conclude about the association between schooling and HIV infection?\n",
    "\n",
    "There is no evidence to support a trend in odds of HIV infection among women with some formal education."
   ]
  },
  {
   "cell_type": "markdown",
   "id": "d7b19676",
   "metadata": {},
   "source": [
    "# Review exercise"
   ]
  },
  {
   "cell_type": "markdown",
   "id": "1a9b8a4b",
   "metadata": {},
   "source": [
    "#### Investigate whether religion (`rel`) confounds the association between schooling (`ed2`) and HIV infection (`case`).  Note: rel has a code 9 for missing values, so we suggest you set this to system-missing (`NA`)."
   ]
  },
  {
   "cell_type": "code",
   "execution_count": null,
   "id": "234d394c",
   "metadata": {},
   "outputs": [],
   "source": [
    "mwanza_df_4 <- mwanza_df_3 %>%\n",
    "    mutate(rel2 = if_else(rel == 9, NA_real_, rel))"
   ]
  },
  {
   "cell_type": "code",
   "execution_count": null,
   "id": "dbc5c13c",
   "metadata": {},
   "outputs": [],
   "source": [
    "mhor(mwanza_df_4$case,\n",
    "     mwanza_df_4$ed2,\n",
    "     mwanza_df_4$rel2,\n",
    "     design = \"case-control\", graph = FALSE)"
   ]
  },
  {
   "cell_type": "markdown",
   "id": "5aa8c335",
   "metadata": {},
   "source": [
    "The odds ratios for each strata do not look too different with overlapping 95% confidence intervals. The p-value of the homogeneity test of 0.793 does not reject the null hypothesis. "
   ]
  },
  {
   "cell_type": "markdown",
   "id": "1d4d2b84",
   "metadata": {},
   "source": [
    "#### You might expect an increasing risk of HIV infection with number of sexual partners.  Carry out a test for trend using npa and estimate the odds ratio for each increase in category of number of partners."
   ]
  },
  {
   "cell_type": "code",
   "execution_count": null,
   "id": "d5f65c2f",
   "metadata": {},
   "outputs": [],
   "source": [
    "mwanza_df_5 <- mwanza_df_4 %>%\n",
    "    mutate(npa2 = if_else(npa == 9, NA_real_, npa))"
   ]
  },
  {
   "cell_type": "code",
   "execution_count": null,
   "id": "faa651ce",
   "metadata": {},
   "outputs": [],
   "source": [
    "CrossTable(mwanza_df_5$npa2)"
   ]
  },
  {
   "cell_type": "code",
   "execution_count": null,
   "id": "92efb5d9",
   "metadata": {},
   "outputs": [],
   "source": [
    "table(mwanza_df_4$case, mwanza_df_4$npa) %>%\n",
    "    chisq.test"
   ]
  },
  {
   "cell_type": "code",
   "execution_count": null,
   "id": "265ac480",
   "metadata": {},
   "outputs": [],
   "source": [
    "(tab2 <- table(mwanza_df_4$case, mwanza_df_4$npa) %>%\n",
    "    addmargins)"
   ]
  },
  {
   "cell_type": "code",
   "execution_count": null,
   "id": "8bdac662",
   "metadata": {},
   "outputs": [],
   "source": [
    "prop.trend.test(x = tab2[1, 1:4],\n",
    "                n = tab2[3, 1:4])"
   ]
  },
  {
   "cell_type": "markdown",
   "id": "2a174568",
   "metadata": {},
   "source": [
    "Strong evidence against the null hypothesis of no trend with number of sexual partners"
   ]
  }
 ],
 "metadata": {
  "kernelspec": {
   "display_name": "R",
   "language": "R",
   "name": "ir"
  },
  "language_info": {
   "codemirror_mode": "r",
   "file_extension": ".r",
   "mimetype": "text/x-r-source",
   "name": "R",
   "pygments_lexer": "r",
   "version": "4.1.2"
  }
 },
 "nbformat": 4,
 "nbformat_minor": 5
}
