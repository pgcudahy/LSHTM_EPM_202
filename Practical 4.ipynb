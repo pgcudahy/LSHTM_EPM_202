{
 "cells": [
  {
   "cell_type": "markdown",
   "id": "38aec6d3",
   "metadata": {},
   "source": [
    "# Case-control studies"
   ]
  },
  {
   "cell_type": "markdown",
   "id": "b193aadf",
   "metadata": {},
   "source": [
    "## Aim\n",
    "\n",
    "To learn how to analyse case-control data, obtain crude and adjusted estimates and test for trend with increasing exposures."
   ]
  },
  {
   "cell_type": "code",
   "execution_count": null,
   "id": "240e6b5b",
   "metadata": {},
   "outputs": [],
   "source": []
  }
 ],
 "metadata": {
  "kernelspec": {
   "display_name": "R",
   "language": "R",
   "name": "ir"
  },
  "language_info": {
   "codemirror_mode": "r",
   "file_extension": ".r",
   "mimetype": "text/x-r-source",
   "name": "R",
   "pygments_lexer": "r",
   "version": "4.0.4"
  }
 },
 "nbformat": 4,
 "nbformat_minor": 5
}
