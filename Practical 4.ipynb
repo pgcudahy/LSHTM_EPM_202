{
 "cells": [
  {
   "cell_type": "markdown",
   "id": "409ff771",
   "metadata": {},
   "source": [
    "# Case-control studies"
   ]
  },
  {
   "cell_type": "markdown",
   "id": "7db9717f",
   "metadata": {},
   "source": [
    "## Aim\n",
    "\n",
    "To learn how to analyse case-control data, obtain crude and adjusted estimates and test for trend with increasing exposures."
   ]
  },
  {
   "cell_type": "code",
   "execution_count": null,
   "id": "6d4b2187",
   "metadata": {},
   "outputs": [],
   "source": [
    "library(tidyverse)"
   ]
  },
  {
   "cell_type": "markdown",
   "id": "cbf088fa",
   "metadata": {},
   "source": [
    "## Reading in the dataset and identifying relevant variables\n",
    "\n",
    "This practical session uses the dataset from Mwanza, Tanzania on HIV infection among women\n",
    "\n",
    "To read in the dataset, type:"
   ]
  },
  {
   "cell_type": "code",
   "execution_count": null,
   "id": "c78086eb",
   "metadata": {},
   "outputs": [],
   "source": [
    "library(haven)"
   ]
  },
  {
   "cell_type": "code",
   "execution_count": null,
   "id": "78b4c58a",
   "metadata": {},
   "outputs": [],
   "source": [
    "mwanza_df <- read_dta(\"Data_files-20211113/MWANZA.dta\")"
   ]
  },
  {
   "cell_type": "code",
   "execution_count": null,
   "id": "6aabaf1b",
   "metadata": {},
   "outputs": [],
   "source": [
    "head(mwanza_df)"
   ]
  },
  {
   "cell_type": "markdown",
   "id": "d0826b56",
   "metadata": {},
   "source": [
    "We will look at the association between HIV infection and exposure to formal education, number of sexual partners and religion.\n",
    "\n",
    "**case** is the variable name for HIV infection coded: 1=case; 0=control\n",
    "\n",
    "**age1** is a grouped age variable coded: 1=15-19, 2=20-24, 3=25-29, 4=30-34, 5=35-44, 6=45-54 years\n",
    "\n",
    "**ed** is the variable name for level of education coded: 1=no formal education (none/adult only), 2=1-3 years, 3=4-6 years, 4=7+ years\n",
    "\n",
    "**npa** is the variable name for number of sexual partners ever coded: 1=0-1, 2=2-4, 3=5-9, 4=10-19, 5=20-49, 6=50+, 9=missing\n",
    "\n",
    "**rel** is the variable name for type of religion coded: 1=Moslem, 2=Catholic, 3=Protestant, 4=other, 9=missing"
   ]
  },
  {
   "cell_type": "markdown",
   "id": "6bf8c4f7",
   "metadata": {},
   "source": [
    "To examine how many cases and controls there are in the dataset, type:"
   ]
  },
  {
   "cell_type": "code",
   "execution_count": null,
   "id": "21cf02cd",
   "metadata": {},
   "outputs": [],
   "source": [
    "library(gmodels)\n",
    "CrossTable(mwanza_df$case)"
   ]
  },
  {
   "cell_type": "markdown",
   "id": "0c4737c8",
   "metadata": {},
   "source": [
    "To look at exposure to formal education create a new variable ed2 which takes the value 1 for women with no formal education and value 2 for those with some education. Type:"
   ]
  },
  {
   "cell_type": "code",
   "execution_count": null,
   "id": "e65e77f2",
   "metadata": {},
   "outputs": [],
   "source": [
    "mwanza_df_2 <- mwanza_df %>%\n",
    "    mutate(ed2 = case_when(ed == 1 ~ 1,\n",
    "                           ed > 1 ~ 2))"
   ]
  },
  {
   "cell_type": "markdown",
   "id": "750086ae",
   "metadata": {},
   "source": [
    "To check that the new variable has been coded correctly, tabulate it against the original variable. Type:"
   ]
  },
  {
   "cell_type": "code",
   "execution_count": null,
   "id": "05507b6f",
   "metadata": {},
   "outputs": [],
   "source": [
    "CrossTable(mwanza_df_2$ed, mwanza_df_2$ed2)"
   ]
  },
  {
   "cell_type": "markdown",
   "id": "112e0a05",
   "metadata": {},
   "source": [
    "Similarly for age, recode age1 to a new variable age2 with the 4 categories: 1 = 15-19, 2 = 20-29, 3 = 30-44, 4 = 45+ years. Type:"
   ]
  },
  {
   "cell_type": "code",
   "execution_count": null,
   "id": "990a1a86",
   "metadata": {},
   "outputs": [],
   "source": [
    "mwanza_df_3 <- mwanza_df_2 %>%\n",
    "    mutate(age2 = case_when(age1 < 20 ~ 1,\n",
    "                            age1 < 30 ~ 2,\n",
    "                            age1 < 45 ~ 3,\n",
    "                            age1 >= 45 ~ 4))"
   ]
  },
  {
   "cell_type": "markdown",
   "id": "df946a23",
   "metadata": {},
   "source": [
    "Again we should tabulate the old variable against the new variable to check the coding is correct."
   ]
  },
  {
   "cell_type": "code",
   "execution_count": null,
   "id": "ae04baab",
   "metadata": {},
   "outputs": [],
   "source": [
    "CrossTable(mwanza_df_3$age1, mwanza_df_3$age2)"
   ]
  },
  {
   "cell_type": "markdown",
   "id": "6e893552",
   "metadata": {},
   "source": [
    "## Crude odds ratio estimate\n",
    "\n",
    "To examine the relationship between being a case and formal education, type:"
   ]
  },
  {
   "cell_type": "code",
   "execution_count": null,
   "id": "6d862189",
   "metadata": {},
   "outputs": [],
   "source": [
    "library(\"epiR\")\n",
    "epi.2by2(table(factor(mwanza_df_3$case, levels = c(0,1)), factor(mwanza_df_3$ed2, levels = c(1,2))),\n",
    "         method = \"cohort.count\", digits=2)"
   ]
  },
  {
   "cell_type": "markdown",
   "id": "206d0832",
   "metadata": {},
   "source": [
    " The P-value shows very strong evidence against the null hypothesis of no association."
   ]
  },
  {
   "cell_type": "markdown",
   "id": "46cc7fcf",
   "metadata": {},
   "source": [
    "Note: We should examine the row percentages because column percentages are affected by the different probabilities of selection for cases and controls.\n",
    "\n",
    "We must be clear about which variable we are treating as the exposure and which category is a case in our interpretation of the table. Examine the table above. What is the proportion of cases with some formal education?\n",
    "\n",
    "There are 140/189 cases with some formal education, i.e. 74.1%."
   ]
  },
  {
   "cell_type": "markdown",
   "id": "91b8d3a7",
   "metadata": {},
   "source": [
    "To produce an odds ratio for exposure to formal education we can use the `epi.2by2` command. Try the following command first:"
   ]
  },
  {
   "cell_type": "code",
   "execution_count": null,
   "id": "cd55976d",
   "metadata": {},
   "outputs": [],
   "source": [
    "epi.2by2(table(factor(mwanza_df_3$case, levels = c(0,1)), factor(mwanza_df_3$ed2, levels = c(2,1))),\n",
    "         method = \"cohort.count\", digits=2)"
   ]
  },
  {
   "cell_type": "markdown",
   "id": "96c29607",
   "metadata": {},
   "source": [
    "Now change the baseline for ed2. Type:"
   ]
  },
  {
   "cell_type": "code",
   "execution_count": null,
   "id": "cff9cb14",
   "metadata": {},
   "outputs": [],
   "source": [
    "epi.2by2(table(factor(mwanza_df_3$case, levels = c(0,1)), factor(mwanza_df_3$ed2, levels = c(1,2))),\n",
    "         method = \"cohort.count\", digits=2)"
   ]
  },
  {
   "cell_type": "markdown",
   "id": "4b21b5aa",
   "metadata": {},
   "source": [
    "The first version of the command takes level 2 (some education) as baseline. Thus, the odds ratio is 1.0 divided by the odds ratio from the second version, which uses level 1 (no formal education) as the baseline. It is important to know which level is the baseline in our interpretation of the odds ratio."
   ]
  },
  {
   "cell_type": "markdown",
   "id": "d50a7cf6",
   "metadata": {},
   "source": [
    "## Adjusted odds ratio estimates"
   ]
  },
  {
   "cell_type": "code",
   "execution_count": null,
   "id": "0bc621e5",
   "metadata": {},
   "outputs": [],
   "source": []
  }
 ],
 "metadata": {
  "kernelspec": {
   "display_name": "R",
   "language": "R",
   "name": "ir"
  },
  "language_info": {
   "codemirror_mode": "r",
   "file_extension": ".r",
   "mimetype": "text/x-r-source",
   "name": "R",
   "pygments_lexer": "r",
   "version": "4.0.4"
  }
 },
 "nbformat": 4,
 "nbformat_minor": 5
}
