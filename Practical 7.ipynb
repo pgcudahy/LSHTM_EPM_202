{
 "cells": [
  {
   "cell_type": "markdown",
   "metadata": {},
   "source": [
    "# Practical 7"
   ]
  },
  {
   "cell_type": "markdown",
   "metadata": {},
   "source": [
    "## Aim\n",
    "\n",
    "To learn how to carry out a simple logistic regression analysis"
   ]
  },
  {
   "cell_type": "code",
   "execution_count": null,
   "metadata": {},
   "outputs": [],
   "source": [
    "library(tidyverse)"
   ]
  },
  {
   "cell_type": "markdown",
   "id": "11025553",
   "metadata": {},
   "source": [
    "## Reading in the dataset and identifying relevant variables\n",
    "\n",
    "In this practical session we will use a dataset from the study of helminths in Uganda.\n",
    "\n",
    "To read in the dataset, type:"
   ]
  },
  {
   "cell_type": "code",
   "execution_count": null,
   "id": "c78086eb",
   "metadata": {},
   "outputs": [],
   "source": [
    "library(haven)"
   ]
  },
  {
   "cell_type": "code",
   "execution_count": null,
   "id": "78b4c58a",
   "metadata": {},
   "outputs": [],
   "source": [
    "helminths_df <- read_dta(\"Data_files-20211113/helminths.dta\")"
   ]
  },
  {
   "cell_type": "code",
   "execution_count": null,
   "id": "6aabaf1b",
   "metadata": {},
   "outputs": [],
   "source": [
    "head(helminths_df)"
   ]
  },
  {
   "cell_type": "markdown",
   "metadata": {},
   "source": [
    "In  this  analysis  we  will  work  with  the  variable  representing  hookworm  infection.  It  is currently called hk_bin. To make this more clear, we will rename the variable. Type:"
   ]
  },
  {
   "cell_type": "code",
   "execution_count": null,
   "metadata": {},
   "outputs": [],
   "source": [
    "helminths_df_2 <- helminths_df %>%\n",
    "    mutate(hookworm = hk_bin)"
   ]
  },
  {
   "cell_type": "markdown",
   "metadata": {},
   "source": [
    "This has now renamed the variable to hookworm \n",
    " \n",
    "In this analysis we will look at the association between severe anaemia and exposure to hookworm infection.  We will also consider how (if at all) the association changes with age and malaria infection status. \n",
    " \n",
    "**anaemic_sev**  \n",
    "    coded: 0=no, 1=yes \n",
    " \n",
    "**hookworm** is the variable name for hookworm infection status  \n",
    "    coded:  0=uninfected, 1=infected \n",
    "\n",
    "**agegrp** is the variable name for age-group \n",
    "    coded: 0=<20, 1=20-24, 2=25-29, 3=30+ \n",
    "\n",
    "**malaria** \n",
    "    coded: 0=uninfected, 1=infected "
   ]
  },
  {
   "cell_type": "markdown",
   "metadata": {},
   "source": [
    "To produce frequency distributions for anaemic_sev, hookworm and agegrp use `CrossTable` from the package `gmodels`, type: "
   ]
  },
  {
   "cell_type": "code",
   "execution_count": null,
   "metadata": {},
   "outputs": [],
   "source": [
    "library(gmodels)"
   ]
  },
  {
   "cell_type": "code",
   "execution_count": null,
   "metadata": {},
   "outputs": [],
   "source": [
    "CrossTable(helminths_df_2$anaemic_sev)"
   ]
  },
  {
   "cell_type": "markdown",
   "metadata": {},
   "source": [
    "There were 275 women with severe anaemia"
   ]
  },
  {
   "cell_type": "code",
   "execution_count": null,
   "metadata": {},
   "outputs": [],
   "source": [
    "CrossTable(helminths_df_2$hookworm)"
   ]
  },
  {
   "cell_type": "markdown",
   "metadata": {},
   "source": [
    "1,022 women were hookworm infected and 1,395 were not infected with hookworm. "
   ]
  },
  {
   "cell_type": "code",
   "execution_count": null,
   "metadata": {},
   "outputs": [],
   "source": [
    "CrossTable(helminths_df_2$agegrp)"
   ]
  },
  {
   "cell_type": "markdown",
   "metadata": {},
   "source": [
    "There were 607 women aged <20 years; 906 women aged 20 to 24 years; 545 women aged 25 to 29 years; and 359 women aged 30+ years."
   ]
  },
  {
   "cell_type": "markdown",
   "metadata": {},
   "source": [
    "## Testing for an association"
   ]
  },
  {
   "cell_type": "markdown",
   "metadata": {},
   "source": [
    "For an initial examination of the association between severe anaemia and hookworm \n",
    "infection use the `CrossTable` command.  Type: "
   ]
  },
  {
   "cell_type": "code",
   "execution_count": null,
   "metadata": {},
   "outputs": [],
   "source": [
    "CrossTable(helminths_df_2$anaemic_sev, helminths_df_2$hookworm,\n",
    "prop.r = FALSE, prop.c = TRUE, chisq = TRUE)"
   ]
  },
  {
   "cell_type": "markdown",
   "metadata": {},
   "source": [
    "From the table we can see that 17.7% of women infected with hookworm had severe anaemia, compared to 6.7% of women who were uninfected. This is very strong evidence (P<0.001) against the null hypothesis of *no association between severe anaemia and hookworm infection residence.* "
   ]
  },
  {
   "cell_type": "markdown",
   "metadata": {},
   "source": [
    "To examine the odds of severe anaemia by hookworm infection status there is no good replacement for `STATA`'s `tabodds` command, so we'll do it by hand:"
   ]
  },
  {
   "cell_type": "markdown",
   "metadata": {},
   "source": [
    "Create a table"
   ]
  },
  {
   "cell_type": "code",
   "execution_count": null,
   "metadata": {},
   "outputs": [],
   "source": [
    "hookworm_anaemia_table <- \n",
    "    table(helminths_df_2$hookworm, helminths_df_2$anaemic_sev)"
   ]
  },
  {
   "cell_type": "markdown",
   "metadata": {},
   "source": [
    "Calculate the odds"
   ]
  },
  {
   "cell_type": "code",
   "execution_count": null,
   "metadata": {},
   "outputs": [],
   "source": [
    "hookworm_anaemia_odds <- \n",
    "    hookworm_anaemia_table[, 2] / hookworm_anaemia_table[, 1]"
   ]
  },
  {
   "cell_type": "markdown",
   "metadata": {},
   "source": [
    "Calculate the standard error"
   ]
  },
  {
   "cell_type": "code",
   "execution_count": null,
   "metadata": {},
   "outputs": [],
   "source": [
    "hookworm_anaemia_se <- sqrt((1 / sum(hookworm_anaemia_table[, 2])) +\n",
    "    (1 / sum(hookworm_anaemia_table[, 1])))\n",
    "hookworm_anaemia_ef <- exp(1.96 * hookworm_anaemia_se)\n"
   ]
  },
  {
   "cell_type": "markdown",
   "metadata": {},
   "source": [
    "Calulate upper and lower 95% confidence interval bonds"
   ]
  },
  {
   "cell_type": "code",
   "execution_count": null,
   "metadata": {},
   "outputs": [],
   "source": [
    "hookworm_anaemia_lower <- hookworm_anaemia_odds / hookworm_anaemia_ef\n",
    "hookworm_anaemia_upper <- hookworm_anaemia_odds * hookworm_anaemia_ef"
   ]
  },
  {
   "cell_type": "markdown",
   "metadata": {},
   "source": [
    "Bind them together into a data frame and give it readable names"
   ]
  },
  {
   "cell_type": "code",
   "execution_count": null,
   "metadata": {},
   "outputs": [],
   "source": [
    "tibble(hookworm_anaemia_table,\n",
    "hookworm_anaemia_odds,\n",
    "hookworm_anaemia_lower,\n",
    "hookworm_anaemia_upper)"
   ]
  },
  {
   "cell_type": "code",
   "execution_count": null,
   "metadata": {},
   "outputs": [],
   "source": [
    "hookworm_anaemia_df <- data.frame(cbind(hookworm_anaemia_table,\n",
    "    hookworm_anaemia_odds,\n",
    "    hookworm_anaemia_lower,\n",
    "    hookworm_anaemia_upper,\n",
    "    stringsAsFactors = FALSE))\n",
    "names(hookworm_anaemia_df) <- c(\"controls\", \"cases\", \"odds\", \"[95% Conf.\", \"Interval]\")"
   ]
  },
  {
   "cell_type": "markdown",
   "metadata": {},
   "source": [
    "Now see the output"
   ]
  },
  {
   "cell_type": "code",
   "execution_count": null,
   "metadata": {},
   "outputs": [],
   "source": [
    "hookworm_anaemia_df"
   ]
  },
  {
   "cell_type": "markdown",
   "metadata": {},
   "source": [
    "And test for homogeneity"
   ]
  },
  {
   "cell_type": "code",
   "execution_count": null,
   "metadata": {},
   "outputs": [],
   "source": [
    "table(helminths_df_2$hookworm, helminths_df_2$anaemic_sev) %>%\n",
    "    chisq.test()"
   ]
  },
  {
   "cell_type": "markdown",
   "metadata": {},
   "source": [
    "We can see that the odds of severe anemia are greater among hookworm infected \n",
    "women, and that the P-value (P<0.001) provides very strong evidence against the null \n",
    "hypothesis of no difference in odds of severe anaemia by hookworm infection status. Therefore we can conclude that the underlying ‘true’ odds of severe anaemia is greater in hookworm infected women than in uninfected."
   ]
  },
  {
   "cell_type": "markdown",
   "metadata": {},
   "source": [
    "Use `epi.2by2` from the package `epiR` to obtain an odds ratio estimate. Type:"
   ]
  },
  {
   "cell_type": "code",
   "execution_count": null,
   "id": "a8e05186",
   "metadata": {},
   "outputs": [],
   "source": [
    "library(\"epiR\")"
   ]
  },
  {
   "cell_type": "code",
   "execution_count": null,
   "id": "f526ed7f",
   "metadata": {},
   "outputs": [],
   "source": [
    "epi.2by2(table(factor(helminths_df_2$hookworm, levels = c(1, 0)),\n",
    "         factor(helminths_df_2$anaemic_sev, levels = c(1, 0))),\n",
    "         method = \"cross.sectional\", digits = 2)"
   ]
  },
  {
   "cell_type": "markdown",
   "metadata": {},
   "source": [
    "Therefore, the odds of severe anaemia in hookworm infected women are 2.98 times that \n",
    "in hookworm uninfected women (95% CI 2.29 to 3.88, P<0.001)."
   ]
  },
  {
   "cell_type": "markdown",
   "metadata": {},
   "source": [
    "## Logistic regression with one binary exposure "
   ]
  },
  {
   "cell_type": "markdown",
   "metadata": {},
   "source": []
  }
 ],
 "metadata": {
  "kernelspec": {
   "display_name": "R",
   "language": "R",
   "name": "ir"
  },
  "language_info": {
   "codemirror_mode": "r",
   "file_extension": ".r",
   "mimetype": "text/x-r-source",
   "name": "R",
   "pygments_lexer": "r",
   "version": "4.1.2"
  }
 },
 "nbformat": 4,
 "nbformat_minor": 2
}
