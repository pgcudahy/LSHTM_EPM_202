{
 "cells": [
  {
   "cell_type": "markdown",
   "metadata": {},
   "source": [
    "# Practical 7"
   ]
  },
  {
   "cell_type": "markdown",
   "metadata": {},
   "source": [
    "## Aim\n",
    "\n",
    "To learn how to carry out a simple logistic regression analysis"
   ]
  },
  {
   "cell_type": "code",
   "execution_count": null,
   "metadata": {},
   "outputs": [],
   "source": [
    "library(tidyverse)"
   ]
  },
  {
   "cell_type": "markdown",
   "id": "11025553",
   "metadata": {},
   "source": [
    "## Reading in the dataset and identifying relevant variables\n",
    "\n",
    "In this practical session we will use a dataset from the study of helminths in Uganda.\n",
    "\n",
    "To read in the dataset, type:"
   ]
  },
  {
   "cell_type": "code",
   "execution_count": null,
   "id": "c78086eb",
   "metadata": {},
   "outputs": [],
   "source": [
    "library(haven)"
   ]
  },
  {
   "cell_type": "code",
   "execution_count": null,
   "id": "78b4c58a",
   "metadata": {},
   "outputs": [],
   "source": [
    "helminths_df <- read_dta(\"Data_files-20211113/helminths.dta\")"
   ]
  },
  {
   "cell_type": "code",
   "execution_count": null,
   "id": "6aabaf1b",
   "metadata": {},
   "outputs": [],
   "source": [
    "head(helminths_df)"
   ]
  },
  {
   "cell_type": "markdown",
   "metadata": {},
   "source": [
    "In  this  analysis  we  will  work  with  the  variable  representing  hookworm  infection.  It  is currently called hk_bin. To make this more clear, we will rename the variable. Type:"
   ]
  },
  {
   "cell_type": "code",
   "execution_count": null,
   "metadata": {},
   "outputs": [],
   "source": [
    "helminths_df_2 <- helminths_df %>%\n",
    "    mutate(hookworm = hk_bin)"
   ]
  },
  {
   "cell_type": "markdown",
   "metadata": {},
   "source": [
    "This has now renamed the variable to hookworm \n",
    " \n",
    "In this analysis we will look at the association between severe anaemia and exposure to hookworm infection.  We will also consider how (if at all) the association changes with age and malaria infection status. \n",
    " \n",
    "**anaemic_sev**  \n",
    "    coded: 0=no, 1=yes \n",
    " \n",
    "**hookworm** is the variable name for hookworm infection status  \n",
    "    coded:  0=uninfected, 1=infected \n",
    "\n",
    "**agegrp** is the variable name for age-group \n",
    "    coded: 0=<20, 1=20-24, 2=25-29, 3=30+ \n",
    "\n",
    "**malaria** \n",
    "    coded: 0=uninfected, 1=infected "
   ]
  },
  {
   "cell_type": "markdown",
   "metadata": {},
   "source": [
    "To produce frequency distributions for anaemic_sev, hookworm and agegrp use `CrossTable` from the package `gmodels`, type: "
   ]
  },
  {
   "cell_type": "code",
   "execution_count": null,
   "metadata": {},
   "outputs": [],
   "source": [
    "library(gmodels)"
   ]
  },
  {
   "cell_type": "code",
   "execution_count": null,
   "metadata": {},
   "outputs": [],
   "source": [
    "CrossTable(helminths_df_2$anaemic_sev)"
   ]
  },
  {
   "cell_type": "markdown",
   "metadata": {},
   "source": [
    "There were 275 women with severe anaemia"
   ]
  },
  {
   "cell_type": "code",
   "execution_count": null,
   "metadata": {},
   "outputs": [],
   "source": [
    "CrossTable(helminths_df_2$hookworm)"
   ]
  },
  {
   "cell_type": "markdown",
   "metadata": {},
   "source": [
    "1,022 women were hookworm infected and 1,395 were not infected with hookworm. "
   ]
  },
  {
   "cell_type": "code",
   "execution_count": null,
   "metadata": {},
   "outputs": [],
   "source": [
    "CrossTable(helminths_df_2$agegrp)"
   ]
  },
  {
   "cell_type": "markdown",
   "metadata": {},
   "source": [
    "There were 607 women aged <20 years; 906 women aged 20 to 24 years; 545 women aged 25 to 29 years; and 359 women aged 30+ years."
   ]
  },
  {
   "cell_type": "markdown",
   "metadata": {},
   "source": [
    "## Testing for an association"
   ]
  },
  {
   "cell_type": "markdown",
   "metadata": {},
   "source": [
    "For an initial examination of the association between severe anaemia and hookworm \n",
    "infection use the `CrossTable` command.  Type: "
   ]
  },
  {
   "cell_type": "code",
   "execution_count": null,
   "metadata": {},
   "outputs": [],
   "source": [
    "CrossTable(helminths_df_2$anaemic_sev, helminths_df_2$hookworm,\n",
    "prop.r = FALSE, prop.c = TRUE, chisq = TRUE)"
   ]
  },
  {
   "cell_type": "markdown",
   "metadata": {},
   "source": [
    "From the table we can see that 17.7% of women infected with hookworm had severe anaemia, compared to 6.7% of women who were uninfected. This is very strong evidence (P<0.001) against the null hypothesis of no association between severe anaemia and hookworm infection residence. "
   ]
  },
  {
   "cell_type": "code",
   "execution_count": null,
   "metadata": {},
   "outputs": [],
   "source": []
  }
 ],
 "metadata": {
  "kernelspec": {
   "display_name": "R",
   "language": "R",
   "name": "ir"
  },
  "language_info": {
   "codemirror_mode": "r",
   "file_extension": ".r",
   "mimetype": "text/x-r-source",
   "name": "R",
   "pygments_lexer": "r",
   "version": "4.1.2"
  }
 },
 "nbformat": 4,
 "nbformat_minor": 2
}
