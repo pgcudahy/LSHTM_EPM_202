{
 "cells": [
  {
   "cell_type": "markdown",
   "metadata": {},
   "source": [
    "# Practical 7"
   ]
  },
  {
   "cell_type": "markdown",
   "metadata": {},
   "source": [
    "## Aim\n",
    "\n",
    "To learn how to carry out a simple logistic regression analysis"
   ]
  },
  {
   "cell_type": "code",
   "execution_count": null,
   "metadata": {},
   "outputs": [],
   "source": [
    "library(tidyverse)"
   ]
  },
  {
   "cell_type": "markdown",
   "id": "11025553",
   "metadata": {},
   "source": [
    "## Reading in the dataset and identifying relevant variables\n",
    "\n",
    "In this practical session we will use a dataset from the study of helminths in Uganda.\n",
    "\n",
    "To read in the dataset, type:"
   ]
  },
  {
   "cell_type": "code",
   "execution_count": null,
   "id": "c78086eb",
   "metadata": {},
   "outputs": [],
   "source": [
    "library(haven)"
   ]
  },
  {
   "cell_type": "code",
   "execution_count": null,
   "id": "78b4c58a",
   "metadata": {},
   "outputs": [],
   "source": [
    "helminths_df <- read_dta(\"Data_files-20211113/helminths.dta\")"
   ]
  },
  {
   "cell_type": "code",
   "execution_count": null,
   "id": "6aabaf1b",
   "metadata": {},
   "outputs": [],
   "source": [
    "head(helminths_df)"
   ]
  },
  {
   "cell_type": "markdown",
   "metadata": {},
   "source": [
    "In  this  analysis  we  will  work  with  the  variable  representing  hookworm  infection.  It  is currently called hk_bin. To make this more clear, we will rename the variable. Type:"
   ]
  },
  {
   "cell_type": "code",
   "execution_count": null,
   "metadata": {},
   "outputs": [],
   "source": [
    "helminths_df_2 <- helminths_df %>%\n",
    "    mutate(hookworm = hk_bin)"
   ]
  },
  {
   "cell_type": "markdown",
   "metadata": {},
   "source": [
    "This has now renamed the variable to hookworm \n",
    " \n",
    "In this analysis we will look at the association between severe anaemia and exposure to hookworm infection.  We will also consider how (if at all) the association changes with age and malaria infection status. \n",
    " \n",
    "**anaemic_sev**  \n",
    "    coded: 0=no, 1=yes \n",
    " \n",
    "**hookworm** is the variable name for hookworm infection status  \n",
    "    coded:  0=uninfected, 1=infected \n",
    "\n",
    "**agegrp** is the variable name for age-group \n",
    "    coded: 0=<20, 1=20-24, 2=25-29, 3=30+ \n",
    "\n",
    "**malaria** \n",
    "    coded: 0=uninfected, 1=infected "
   ]
  },
  {
   "cell_type": "markdown",
   "metadata": {},
   "source": [
    "To produce frequency distributions for anaemic_sev, hookworm and agegrp use `CrossTable` from the package `gmodels`, type: "
   ]
  },
  {
   "cell_type": "code",
   "execution_count": null,
   "metadata": {},
   "outputs": [],
   "source": [
    "library(gmodels)"
   ]
  },
  {
   "cell_type": "code",
   "execution_count": null,
   "metadata": {},
   "outputs": [],
   "source": [
    "CrossTable(helminths_df_2$anaemic_sev)"
   ]
  },
  {
   "cell_type": "markdown",
   "metadata": {},
   "source": [
    "There were 275 women with severe anaemia"
   ]
  },
  {
   "cell_type": "code",
   "execution_count": null,
   "metadata": {},
   "outputs": [],
   "source": [
    "CrossTable(helminths_df_2$hookworm)"
   ]
  },
  {
   "cell_type": "markdown",
   "metadata": {},
   "source": [
    "1,022 women were hookworm infected and 1,395 were not infected with hookworm. "
   ]
  },
  {
   "cell_type": "code",
   "execution_count": null,
   "metadata": {},
   "outputs": [],
   "source": [
    "CrossTable(helminths_df_2$agegrp)"
   ]
  },
  {
   "cell_type": "markdown",
   "metadata": {},
   "source": [
    "There were 607 women aged <20 years; 906 women aged 20 to 24 years; 545 women aged 25 to 29 years; and 359 women aged 30+ years."
   ]
  },
  {
   "cell_type": "markdown",
   "metadata": {},
   "source": [
    "## Testing for an association"
   ]
  },
  {
   "cell_type": "markdown",
   "metadata": {},
   "source": [
    "For an initial examination of the association between severe anaemia and hookworm \n",
    "infection use the `CrossTable` command.  Type: "
   ]
  },
  {
   "cell_type": "code",
   "execution_count": null,
   "metadata": {},
   "outputs": [],
   "source": [
    "CrossTable(helminths_df_2$anaemic_sev, helminths_df_2$hookworm,\n",
    "prop.r = FALSE, prop.c = TRUE, chisq = TRUE)"
   ]
  },
  {
   "cell_type": "markdown",
   "metadata": {},
   "source": [
    "From the table we can see that 17.7% of women infected with hookworm had severe anaemia, compared to 6.7% of women who were uninfected. This is very strong evidence (P<0.001) against the null hypothesis of *no association between severe anaemia and hookworm infection residence.* "
   ]
  },
  {
   "cell_type": "markdown",
   "metadata": {},
   "source": [
    "To examine the odds of severe anaemia by hookworm infection status there is no good replacement for `STATA`'s `tabodds` command, so we'll do it by hand:"
   ]
  },
  {
   "cell_type": "markdown",
   "metadata": {},
   "source": [
    "Create a table"
   ]
  },
  {
   "cell_type": "code",
   "execution_count": null,
   "metadata": {},
   "outputs": [],
   "source": [
    "hookworm_anaemia_table <- \n",
    "    table(helminths_df_2$hookworm, helminths_df_2$anaemic_sev)"
   ]
  },
  {
   "cell_type": "markdown",
   "metadata": {},
   "source": [
    "Calculate the odds"
   ]
  },
  {
   "cell_type": "code",
   "execution_count": null,
   "metadata": {},
   "outputs": [],
   "source": [
    "hookworm_anaemia_odds <- \n",
    "    hookworm_anaemia_table[, 2] / hookworm_anaemia_table[, 1]"
   ]
  },
  {
   "cell_type": "markdown",
   "metadata": {},
   "source": [
    "Calculate the standard error"
   ]
  },
  {
   "cell_type": "code",
   "execution_count": null,
   "metadata": {},
   "outputs": [],
   "source": [
    "hookworm_anaemia_se <- sqrt((1 / sum(hookworm_anaemia_table[, 2])) +\n",
    "    (1 / sum(hookworm_anaemia_table[, 1])))\n",
    "hookworm_anaemia_ef <- exp(1.96 * hookworm_anaemia_se)\n"
   ]
  },
  {
   "cell_type": "markdown",
   "metadata": {},
   "source": [
    "Calulate upper and lower 95% confidence interval bonds"
   ]
  },
  {
   "cell_type": "code",
   "execution_count": null,
   "metadata": {},
   "outputs": [],
   "source": [
    "hookworm_anaemia_lower <- hookworm_anaemia_odds / hookworm_anaemia_ef\n",
    "hookworm_anaemia_upper <- hookworm_anaemia_odds * hookworm_anaemia_ef"
   ]
  },
  {
   "cell_type": "markdown",
   "metadata": {},
   "source": [
    "Bind them together into a data frame and give it readable names"
   ]
  },
  {
   "cell_type": "code",
   "execution_count": null,
   "metadata": {},
   "outputs": [],
   "source": [
    "tibble(hookworm_anaemia_table,\n",
    "hookworm_anaemia_odds,\n",
    "hookworm_anaemia_lower,\n",
    "hookworm_anaemia_upper)"
   ]
  },
  {
   "cell_type": "code",
   "execution_count": null,
   "metadata": {},
   "outputs": [],
   "source": [
    "hookworm_anaemia_df <- data.frame(cbind(hookworm_anaemia_table,\n",
    "    hookworm_anaemia_odds,\n",
    "    hookworm_anaemia_lower,\n",
    "    hookworm_anaemia_upper,\n",
    "    stringsAsFactors = FALSE))\n",
    "names(hookworm_anaemia_df) <- c(\"controls\", \"cases\", \"odds\", \"[95% Conf.\", \"Interval]\")"
   ]
  },
  {
   "cell_type": "markdown",
   "metadata": {},
   "source": [
    "Now see the output"
   ]
  },
  {
   "cell_type": "code",
   "execution_count": null,
   "metadata": {},
   "outputs": [],
   "source": [
    "hookworm_anaemia_df"
   ]
  },
  {
   "cell_type": "markdown",
   "metadata": {},
   "source": [
    "And test for homogeneity"
   ]
  },
  {
   "cell_type": "code",
   "execution_count": null,
   "metadata": {},
   "outputs": [],
   "source": [
    "table(helminths_df_2$hookworm, helminths_df_2$anaemic_sev) %>%\n",
    "    chisq.test()"
   ]
  },
  {
   "cell_type": "markdown",
   "metadata": {},
   "source": [
    "We can see that the odds of severe anemia are greater among hookworm infected \n",
    "women, and that the P-value (P<0.001) provides very strong evidence against the null \n",
    "hypothesis of no difference in odds of severe anaemia by hookworm infection status. Therefore we can conclude that the underlying ‘true’ odds of severe anaemia is greater in hookworm infected women than in uninfected."
   ]
  },
  {
   "cell_type": "markdown",
   "metadata": {},
   "source": [
    "Use `epi.2by2` from the package `epiR` to obtain an odds ratio estimate. Type:"
   ]
  },
  {
   "cell_type": "code",
   "execution_count": null,
   "id": "a8e05186",
   "metadata": {},
   "outputs": [],
   "source": [
    "library(\"epiR\")"
   ]
  },
  {
   "cell_type": "code",
   "execution_count": null,
   "id": "f526ed7f",
   "metadata": {},
   "outputs": [],
   "source": [
    "epi.2by2(table(factor(helminths_df_2$hookworm, levels = c(1, 0)),\n",
    "         factor(helminths_df_2$anaemic_sev, levels = c(1, 0))),\n",
    "         method = \"cross.sectional\", digits = 2)"
   ]
  },
  {
   "cell_type": "markdown",
   "metadata": {},
   "source": [
    "Therefore, the odds of severe anaemia in hookworm infected women are 2.98 times that \n",
    "in hookworm uninfected women (95% CI 2.29 to 3.88, P<0.001)."
   ]
  },
  {
   "cell_type": "markdown",
   "metadata": {},
   "source": [
    "## Logistic regression with one binary exposure "
   ]
  },
  {
   "cell_type": "markdown",
   "metadata": {},
   "source": [
    "Now let’s reproduce the result using logistic regression. To obtain a logistic model on a log scale we will use the `glm` command.  The `glm` command gives the parameter estimates for log odds."
   ]
  },
  {
   "cell_type": "markdown",
   "metadata": {},
   "source": [
    "The first model we will fit is:\n",
    "    \n",
    "    log odds =  constant + hookworm"
   ]
  },
  {
   "cell_type": "code",
   "execution_count": null,
   "metadata": {},
   "outputs": [],
   "source": [
    "anaemia_hookworm_glm <- \n",
    "    glm(anaemic_sev ~ hookworm, data = helminths_df_2, family = \"binomial\")"
   ]
  },
  {
   "cell_type": "code",
   "execution_count": null,
   "metadata": {},
   "outputs": [],
   "source": [
    "\n",
    "summary(anaemia_hookworm_glm)"
   ]
  },
  {
   "cell_type": "markdown",
   "metadata": {},
   "source": [
    "We can test for the null hypothesis that *none of the variables in the model are \n",
    "associated with the outcome* with `lrtest` from package `lmtest`"
   ]
  },
  {
   "cell_type": "code",
   "execution_count": null,
   "metadata": {},
   "outputs": [],
   "source": [
    "library(lmtest)"
   ]
  },
  {
   "cell_type": "code",
   "execution_count": null,
   "metadata": {},
   "outputs": [],
   "source": [
    "lrtest(anaemia_hookworm_glm)"
   ]
  },
  {
   "cell_type": "markdown",
   "metadata": {},
   "source": [
    "In this instance there is only one variable (hookworm) in the model, so this is a test of the null hypothesis that hookworm is not associated with severe anaemia. Back to the model"
   ]
  },
  {
   "cell_type": "code",
   "execution_count": null,
   "metadata": {},
   "outputs": [],
   "source": [
    "summary(anaemia_hookworm_glm)"
   ]
  },
  {
   "cell_type": "markdown",
   "metadata": {},
   "source": [
    "Now consider the values in the table.  The first column gives the parameter names for each row of estimates in the table.  The model corresponds to: \n",
    "\n",
    "    log(odds) = constant + hookworm"
   ]
  },
  {
   "cell_type": "markdown",
   "metadata": {},
   "source": [
    "The values in the Estimate column represent the log(OR) for the effect of hookworm infection (1.0915) and the constant log(odds) in the uninfected group (-2.6276).\n",
    "\n",
    "    log(odds) = -2.628 + (1.091 × hookworm)"
   ]
  },
  {
   "cell_type": "markdown",
   "metadata": {},
   "source": [
    "The third column gives the standard error for the model coefficients. These are then used to calculate z, the Wald test statistic, and the corresponding p-value. Consider the estimates for hookworm: what can we conclude from these values about the effect of hookworm infection on odds of severe anaemia?\n",
    "\n",
    "    Wald test:  z = 8.11,   P<0.001"
   ]
  },
  {
   "cell_type": "markdown",
   "metadata": {},
   "source": [
    "There is very strong evidence (P<0.001) against the null hypothesis of no association between severe anaemia and hookworm infected. "
   ]
  },
  {
   "cell_type": "markdown",
   "metadata": {},
   "source": [
    "To obtain the 95% confidence intervals, use `confint`"
   ]
  },
  {
   "cell_type": "code",
   "execution_count": null,
   "metadata": {},
   "outputs": [],
   "source": [
    "confint(anaemia_hookworm_glm)"
   ]
  },
  {
   "cell_type": "markdown",
   "metadata": {},
   "source": [
    "The 95% CI excludes the value 0 (log(OR)=0 corresponds to OR=1) and we can interpret it as being consistent with the \n",
    "‘true’ log(odds) of severe anaemia lying between 0.83 and 1.36 times greater in hookworm infected women compared to uninfected women."
   ]
  },
  {
   "cell_type": "markdown",
   "metadata": {},
   "source": [
    "To obtain the OR estimate for the effect of hookworm infection we take the exponential of the coefficient"
   ]
  },
  {
   "cell_type": "code",
   "execution_count": null,
   "metadata": {},
   "outputs": [],
   "source": [
    "exp(coef(anaemia_hookworm_glm))"
   ]
  },
  {
   "cell_type": "markdown",
   "metadata": {},
   "source": [
    "i.e. exp(1.091) = 2.98"
   ]
  },
  {
   "cell_type": "markdown",
   "metadata": {},
   "source": [
    "The log scale is preferable for explaining the model estimates and how 95% confidence intervals and Wald tests are derived. However, `R` allows us to automatically obtain estimates on the odds ratio scale, which is convenient for reporting results."
   ]
  },
  {
   "cell_type": "code",
   "execution_count": null,
   "metadata": {},
   "outputs": [],
   "source": [
    "exp(cbind(OR = coef(anaemia_hookworm_glm), confint(anaemia_hookworm_glm)))"
   ]
  },
  {
   "cell_type": "markdown",
   "metadata": {},
   "source": [
    "## Exposures with more than 2 levels"
   ]
  },
  {
   "cell_type": "markdown",
   "metadata": {},
   "source": [
    "Use the `CrossTable` command to examine the association between age-group and severe \n",
    "anaemia.  Type:  "
   ]
  },
  {
   "cell_type": "code",
   "execution_count": null,
   "metadata": {},
   "outputs": [],
   "source": [
    "CrossTable(helminths_df_2$anaemic_sev, helminths_df_2$agegrp,\n",
    "prop.r = FALSE, prop.c = TRUE, chisq = TRUE)"
   ]
  },
  {
   "cell_type": "markdown",
   "metadata": {},
   "source": [
    "The prevalence of severe anaemia decreases from 17% in the <20 year age-group to 9% in the 30+ years age-group."
   ]
  },
  {
   "cell_type": "markdown",
   "metadata": {},
   "source": [
    "In order to inform `R` that a variable is categorical we need to convert it to a factor, using the `as.factor()` function. To produce a model for age-group on the log(odds) scale, type:"
   ]
  },
  {
   "cell_type": "code",
   "execution_count": null,
   "metadata": {},
   "outputs": [],
   "source": [
    "anaemia_agegrp_glm <- \n",
    "glm(anaemic_sev ~ as.factor(agegrp),\n",
    "    data = helminths_df_2,\n",
    "    family = binomial)"
   ]
  },
  {
   "cell_type": "code",
   "execution_count": null,
   "metadata": {},
   "outputs": [],
   "source": [
    "summary(anaemia_agegrp_glm)"
   ]
  },
  {
   "cell_type": "code",
   "execution_count": null,
   "metadata": {},
   "outputs": [],
   "source": [
    "exp(cbind(OR = coef(anaemia_agegrp_glm), confint(anaemia_agegrp_glm)))"
   ]
  },
  {
   "cell_type": "markdown",
   "metadata": {},
   "source": [
    "Note that there are three odds ratios each of which refers to the same baseline group \n",
    "(those aged <20 years): \n",
    "\n",
    "* the odds ratio is 0.59 for those aged 20-24 compared to those aged <20 years \n",
    "* the odds ratio is 0.42 for those aged 25-29 compared to those aged <20 years \n",
    "* and the odds ratio is 0.48 for those aged >30 compared to those aged <20 years.   \n",
    " \n",
    "There are three Wald test P-values (one for each odds ratio) which test the null hypothesis that the log(odds) of severe anaemia in that age category are the same as the log(odds) of severe anaemia in the <20 years age category (or equivalently that OR = 1). In this example, the tests for all three odds ratios provide very strong evidence against the null hypothesis (P<0.001 or P=0.001) and we conclude that the odds of severe anaemia in each age category differ from the odds of severe anaemia in the <20 age group. "
   ]
  },
  {
   "cell_type": "code",
   "execution_count": null,
   "metadata": {},
   "outputs": [],
   "source": [
    "lrtest(anaemia_agegrp_glm)"
   ]
  },
  {
   "cell_type": "markdown",
   "metadata": {},
   "source": [
    "The likelihood ratio statistic is 26.65 on 3 degrees of freedom (P<0.001).  Note that \n",
    "there is only one likelihood ratio test P-value.  This tests the agegrp variable as a whole, \n",
    "by simultaneously testing the null hypotheses for the three parameters in the model i.e.  \n",
    "\n",
    "H0[1]: log(OR) = 0 for agegrp 1 vs agegrp 0, AND \n",
    "\n",
    "H0[2]: log(OR) = 0 for agegrp 2 vs agegrp 0, AND \n",
    "\n",
    "H0[3]: log(OR) = 0 for agegrp 3 vs agegrp 0 "
   ]
  },
  {
   "cell_type": "markdown",
   "metadata": {},
   "source": [
    "Note: Since hookworm is a binary variable coded as 1 and 0, it makes no difference if it \n",
    "is used as a factor. Check this by typing the two commands below and \n",
    "comparing them:"
   ]
  },
  {
   "cell_type": "code",
   "execution_count": null,
   "metadata": {},
   "outputs": [],
   "source": [
    "glm(anaemic_sev ~ hookworm,\n",
    "    data = helminths_df_2,\n",
    "    family = binomial)"
   ]
  },
  {
   "cell_type": "code",
   "execution_count": null,
   "metadata": {},
   "outputs": [],
   "source": [
    "glm(anaemic_sev ~ as.factor(hookworm),\n",
    "    data = helminths_df_2,\n",
    "    family = binomial)"
   ]
  },
  {
   "cell_type": "markdown",
   "metadata": {},
   "source": [
    "## Likelihood ratio test"
   ]
  },
  {
   "cell_type": "markdown",
   "metadata": {},
   "source": [
    "In this section we will carry out a likelihood ratio test in `R`. Remember, a likelihood ratio test compares a model with parameter(s) of interest to a model without parameter(s) of interest, to assess the contribution of a variable (or parameter) to the model. \n",
    "\n",
    "As noted in CAL session 7, the likelihood ratio statistic (LRS) is calculated by using the difference between L1 (the log likelihood when the exposure variable is included in the model) and L0 (the log likelihood when the variable is excluded from the model): \n",
    "\n",
    "LRS=2(L1 - L0) \n",
    "\n",
    "We then refer the LRS to the $\\chi^2$ distribution on (r - 1)(c - 1) degrees of freedom.  Note: the degrees of freedom is equal to the number of parameters excluded from the model when the exposure variable is excluded. \n",
    " \n",
    "To compare the log likelihood from a model with agegrp (L1) and the log likelihood from the model without agegrp (L0), there are 3 steps involved: \n",
    "\n",
    "1. fit the first model and save L1 \n",
    "2. fit the second model and save L0  \n",
    "3. compare L0 to L1 \n",
    " \n",
    "In `R` we type:"
   ]
  },
  {
   "cell_type": "code",
   "execution_count": null,
   "metadata": {},
   "outputs": [],
   "source": [
    "A <- glm(anaemic_sev ~ as.factor(agegrp),\n",
    "    data = helminths_df_2,\n",
    "    family = binomial)\n",
    "\n",
    "B <- glm(anaemic_sev ~ 1,\n",
    "    data = helminths_df_2,\n",
    "    family = binomial)\n",
    "\n",
    "lrtest(A, B)"
   ]
  },
  {
   "cell_type": "markdown",
   "metadata": {},
   "source": [
    "This is the likelihood ratio test to assess the contribution of agegrp to the model, i.e. it is testing the null hypothesis that adding the agegrp variable does not improve the fit of the model to the data. In fact there is very strong evidence against the null hypothesis (P<0.0001) so we conclude that the model with the agegrp variable is a better model (i.e. a closer fit to the data)\n",
    " \n",
    "Note: The two models being compared in the LRT must be fitted on exactly the same data. This may not happen if some observations have missing values for the variable being tested, in which case `R` would issue a warning. This needs to be handled by ensuring that both models are fitted on exactly the same subset of records in the dataset, e.g. in the above example the command in step 2 could be changed to:"
   ]
  },
  {
   "cell_type": "code",
   "execution_count": null,
   "metadata": {},
   "outputs": [],
   "source": [
    "glm(anaemic_sev ~ 1,\n",
    "    data = helminths_df_2 %>%\n",
    "        filter(!is.na(agegrp)),\n",
    "    family = binomial)"
   ]
  },
  {
   "cell_type": "markdown",
   "metadata": {},
   "source": [
    "## Logistic regression with more than one exposure"
   ]
  },
  {
   "cell_type": "markdown",
   "metadata": {},
   "source": [
    "We can now look at how to fit a model with two exposures.  We will produce a logistic regression to obtain the odds ratios, confidence intervals and likelihood ratio statistics for: \n",
    "\n",
    "the effect of hookworm controlling for agegrp, and \n",
    "\n",
    "the effect of agegrp controlling for hookworm on the odds of severe anaemia.   \n",
    " \n",
    "To display the odds ratio estimates, type:"
   ]
  },
  {
   "cell_type": "code",
   "execution_count": null,
   "metadata": {},
   "outputs": [],
   "source": [
    "anaemia_hookworm_agegrp_glm <-\n",
    "    glm(anaemic_sev ~ hookworm + as.factor(agegrp),\n",
    "        data = helminths_df_2,\n",
    "        family = binomial)"
   ]
  },
  {
   "cell_type": "code",
   "execution_count": null,
   "metadata": {},
   "outputs": [],
   "source": [
    "exp(cbind(OR = coef(anaemia_hookworm_agegrp_glm), confint(anaemia_hookworm_agegrp_glm)))"
   ]
  },
  {
   "cell_type": "markdown",
   "metadata": {},
   "source": [
    "Have the coefficients changed from those in the models with each variable alone? \n",
    " \n",
    "In the model with only hookworm, the OR estimate for the effect of hookworm infection was 2.98.  After controlling for age the OR decreased to 2.82. Hence, age slightly confounded the effect of hookworm infection.  The OR estimates for age without adjusting for hookworm infection were 0.59, 0.42 and 0.48, so again there is a slight difference in the estimates after controlling for hookworm infection.   In the crude (unadjusted) analysis, hookworm infection is a risk factor for severe anaemia and older age is protective against severe anaemia (or in other words, younger age is a risk factor for severe anaemia). The estimated association between hookworm infection and severe anaemia decreases when controlled for age group.  Similarly, the estimated effects of the two older age group get weaker (closer to 1) when controlled for hookworm infection."
   ]
  },
  {
   "cell_type": "markdown",
   "metadata": {},
   "source": [
    "We will now use the likelihood ratio test  \n",
    "\n",
    "1. To test hookworm adjusted for agegrp \n",
    "2. To test agegrp adjusted for hookworm. \n",
    " \n",
    "For the likelihood ratio test for hookworm, type: "
   ]
  },
  {
   "cell_type": "code",
   "execution_count": null,
   "metadata": {},
   "outputs": [],
   "source": [
    "A <- glm(anaemic_sev ~ hookworm + as.factor(agegrp),\n",
    "        data = helminths_df_2,\n",
    "        family = binomial)\n",
    "\n",
    "B <- glm(anaemic_sev ~ as.factor(agegrp),\n",
    "        data = helminths_df_2,\n",
    "        family = binomial)\n",
    "\n",
    "lrtest(A, B)"
   ]
  },
  {
   "cell_type": "markdown",
   "metadata": {},
   "source": [
    "Therefore, after adjusting for `agegrp`, `hookworm` still provides an important contribution to the model fit. In other words, after adjusting for age there is still very strong evidence of a difference in odds of severe anaemia between hookworm uninfected and infected women. "
   ]
  },
  {
   "cell_type": "markdown",
   "metadata": {},
   "source": [
    "For the likelihood ratio test for agegrp, type:"
   ]
  },
  {
   "cell_type": "code",
   "execution_count": null,
   "metadata": {},
   "outputs": [],
   "source": [
    "A <- glm(anaemic_sev ~ hookworm + as.factor(agegrp),\n",
    "        data = helminths_df_2,\n",
    "        family = binomial)\n",
    "\n",
    "B <- glm(anaemic_sev ~ hookworm,\n",
    "        data = helminths_df_2,\n",
    "        family = binomial)\n",
    "\n",
    "lrtest(A, B)"
   ]
  },
  {
   "cell_type": "markdown",
   "metadata": {},
   "source": [
    "Therefore, after adjusting for `hookworm`, there is still very strong evidence for a difference in odds of severe anaemia between age groups."
   ]
  },
  {
   "cell_type": "markdown",
   "metadata": {},
   "source": [
    "## Review exercise "
   ]
  },
  {
   "cell_type": "markdown",
   "metadata": {},
   "source": [
    "Now try to carry out the same analyses on your own. For this exercise you should use \n",
    "the helminths dataset. The solutions are given in Section 4."
   ]
  },
  {
   "cell_type": "markdown",
   "metadata": {},
   "source": [
    "### 1) Examine the association between severe anaemia (anaemic_sev) and malaria using the `CrossTable` and `glm` commands."
   ]
  },
  {
   "cell_type": "code",
   "execution_count": null,
   "metadata": {},
   "outputs": [],
   "source": [
    "CrossTable(helminths_df_2$anaemic_sev, helminths_df_2$malaria)"
   ]
  },
  {
   "cell_type": "code",
   "execution_count": null,
   "metadata": {},
   "outputs": [],
   "source": [
    "anaemia_malaria_glm <-\n",
    "    glm(anaemic_sev ~ malaria,\n",
    "        data = helminths_df_2,\n",
    "        family = binomial)"
   ]
  },
  {
   "cell_type": "code",
   "execution_count": null,
   "metadata": {},
   "outputs": [],
   "source": [
    "summary(anaemia_malaria_glm)"
   ]
  },
  {
   "cell_type": "markdown",
   "metadata": {},
   "source": [
    "#### Does it make any difference if you use `as.factor(malaria)` instead of `malaria` in the logistic command? "
   ]
  },
  {
   "cell_type": "code",
   "execution_count": null,
   "metadata": {},
   "outputs": [],
   "source": [
    "anaemia_malaria_glm_2 <-\n",
    "    glm(anaemic_sev ~ as.factor(malaria),\n",
    "        data = helminths_df_2,\n",
    "        family = binomial)"
   ]
  },
  {
   "cell_type": "code",
   "execution_count": null,
   "metadata": {},
   "outputs": [],
   "source": [
    "summary(anaemia_malaria_glm_2)"
   ]
  },
  {
   "cell_type": "markdown",
   "metadata": {},
   "source": [
    "No difference since it is coded as 0 or 1"
   ]
  },
  {
   "cell_type": "markdown",
   "metadata": {},
   "source": [
    "#### What is the OR estimate for malaria?"
   ]
  },
  {
   "cell_type": "code",
   "execution_count": null,
   "metadata": {},
   "outputs": [],
   "source": [
    "exp(cbind(OR = coef(anaemia_malaria_glm), confint(anaemia_malaria_glm)))"
   ]
  },
  {
   "cell_type": "markdown",
   "metadata": {},
   "source": [
    "Odds ratio of 3.34"
   ]
  },
  {
   "cell_type": "markdown",
   "metadata": {},
   "source": [
    "#### Is severe anaemia associated with malaria?"
   ]
  },
  {
   "cell_type": "markdown",
   "metadata": {},
   "source": [
    "There is good evidence against a null hypothesis of no association"
   ]
  },
  {
   "cell_type": "markdown",
   "metadata": {},
   "source": [
    "### 2) Does the association between malaria and severe anaemia change when you control for the effects of hookworm and agegrp? "
   ]
  },
  {
   "cell_type": "code",
   "execution_count": null,
   "metadata": {},
   "outputs": [],
   "source": [
    "anaemia_malaria_hookworm_agegrp_glm <-\n",
    "    glm(anaemic_sev ~ malaria + hookworm + as.factor(agegrp),\n",
    "        data = helminths_df_2,\n",
    "        family = binomial)"
   ]
  },
  {
   "cell_type": "code",
   "execution_count": null,
   "metadata": {},
   "outputs": [],
   "source": [
    "summary(anaemia_malaria_hookworm_agegrp_glm)"
   ]
  },
  {
   "cell_type": "code",
   "execution_count": null,
   "metadata": {},
   "outputs": [],
   "source": [
    "exp(cbind(OR = coef(anaemia_malaria_hookworm_agegrp_glm),\n",
    "    confint(anaemia_malaria_hookworm_agegrp_glm)))"
   ]
  },
  {
   "cell_type": "markdown",
   "metadata": {},
   "source": [
    "The association remains significant with a slightly smaller odds ratio, so there is some confounding by hookworm and age."
   ]
  },
  {
   "cell_type": "markdown",
   "metadata": {},
   "source": [
    "### 3) Carry out a likelihood ratio test to assess whether malaria should be included in the model with hookworm and agegrp."
   ]
  },
  {
   "cell_type": "code",
   "execution_count": null,
   "metadata": {},
   "outputs": [],
   "source": [
    "lrtest(anaemia_hookworm_agegrp_glm, anaemia_malaria_hookworm_agegrp_glm)"
   ]
  },
  {
   "cell_type": "markdown",
   "metadata": {},
   "source": [
    "#### Malaria significantly improves the model"
   ]
  }
 ],
 "metadata": {
  "kernelspec": {
   "display_name": "R",
   "language": "R",
   "name": "ir"
  },
  "language_info": {
   "codemirror_mode": "r",
   "file_extension": ".r",
   "mimetype": "text/x-r-source",
   "name": "R",
   "pygments_lexer": "r",
   "version": "4.1.2"
  }
 },
 "nbformat": 4,
 "nbformat_minor": 2
}
