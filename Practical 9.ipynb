{
 "cells": [
  {
   "cell_type": "markdown",
   "metadata": {},
   "source": [
    "# Logistic regression 3 \n",
    "\n",
    "## Aim \n",
    "\n",
    "To learn how to include quantitative exposures in a logistic model and decide whether a linear trend is appropriate. "
   ]
  },
  {
   "cell_type": "code",
   "execution_count": null,
   "metadata": {},
   "outputs": [],
   "source": [
    "library(tidyverse)"
   ]
  },
  {
   "cell_type": "markdown",
   "metadata": {},
   "source": [
    "## Reading in the dataset and identifying relevant variables \n",
    "In this practical session we will again use the dataset from the helminths study in Uganda.  \n",
    " \n",
    "To read in the dataset, type:"
   ]
  },
  {
   "cell_type": "code",
   "execution_count": null,
   "metadata": {},
   "outputs": [],
   "source": [
    "library(haven)"
   ]
  },
  {
   "cell_type": "code",
   "execution_count": null,
   "metadata": {},
   "outputs": [],
   "source": [
    "helminths_df <- read_dta(\"Data_files-20211113/helminths.dta\")"
   ]
  },
  {
   "cell_type": "markdown",
   "metadata": {},
   "source": [
    "The variables we will be working with are:\n",
    "\n",
    "**anaemic_sev**  is the variable for severe anaemia, \n",
    "    coded: 0=no, 1=yes \n",
    " \n",
    "**agegrp**     is the variable name for age-group  \n",
    "    coded: 0=<20, 1=20-24, 2=25-29, 3=30+ \n",
    " \n",
    "Note that in previous practicals, hookworm was our main exposure of interest, with age considered a potential confounder. For this practical, we shall consider agegrp as our main exposure of interest, in order to illustrate methods for analysing ordered categorical exposure variables."
   ]
  },
  {
   "cell_type": "markdown",
   "metadata": {},
   "source": []
  }
 ],
 "metadata": {
  "kernelspec": {
   "display_name": "R",
   "language": "R",
   "name": "ir"
  },
  "language_info": {
   "codemirror_mode": "r",
   "file_extension": ".r",
   "mimetype": "text/x-r-source",
   "name": "R",
   "pygments_lexer": "r",
   "version": "4.1.2"
  }
 },
 "nbformat": 4,
 "nbformat_minor": 2
}
