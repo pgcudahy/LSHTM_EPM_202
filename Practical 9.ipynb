{
 "cells": [
  {
   "cell_type": "markdown",
   "metadata": {},
   "source": [
    "# Logistic regression 3 \n",
    "\n",
    "## Aim \n",
    "\n",
    "To learn how to include quantitative exposures in a logistic model and decide whether a linear trend is appropriate. "
   ]
  },
  {
   "cell_type": "code",
   "execution_count": null,
   "metadata": {
    "vscode": {
     "languageId": "r"
    }
   },
   "outputs": [],
   "source": [
    "library(tidyverse)"
   ]
  },
  {
   "cell_type": "markdown",
   "metadata": {},
   "source": [
    "## Reading in the dataset and identifying relevant variables \n",
    "In this practical session we will again use the dataset from the helminths study in Uganda.  \n",
    " \n",
    "To read in the dataset, type:"
   ]
  },
  {
   "cell_type": "code",
   "execution_count": null,
   "metadata": {
    "vscode": {
     "languageId": "r"
    }
   },
   "outputs": [],
   "source": [
    "library(haven)"
   ]
  },
  {
   "cell_type": "code",
   "execution_count": null,
   "metadata": {
    "vscode": {
     "languageId": "r"
    }
   },
   "outputs": [],
   "source": [
    "helminths_df <- read_dta(\"Data_files-20211113/helminths.dta\")"
   ]
  },
  {
   "cell_type": "markdown",
   "metadata": {},
   "source": [
    "The variables we will be working with are:\n",
    "\n",
    "**anaemic_sev**  is the variable for severe anaemia, \n",
    "    coded: 0=no, 1=yes \n",
    " \n",
    "**agegrp**     is the variable name for age-group  \n",
    "    coded: 0=<20, 1=20-24, 2=25-29, 3=30+ \n",
    " \n",
    "Note that in previous practicals, hookworm was our main exposure of interest, with age considered a potential confounder. For this practical, we shall consider agegrp as our main exposure of interest, in order to illustrate methods for analysing ordered categorical exposure variables."
   ]
  },
  {
   "cell_type": "markdown",
   "metadata": {},
   "source": [
    "## Quantitative exposures\n",
    "\n",
    "In most analyses it is convenient to group continuous variables such as age. We can then obtain a parameter estimate for each level of the variable compared to a baseline level. For example, with agegrp we have previously obtained parameter estimates for the odds ratios relative to the youngest age-group. To review these results use the following command: "
   ]
  },
  {
   "cell_type": "code",
   "execution_count": null,
   "metadata": {
    "vscode": {
     "languageId": "r"
    }
   },
   "outputs": [],
   "source": [
    "anaemia_agegrp_glm <-\n",
    "glm(anaemic_sev ~ as.factor(agegrp),\n",
    "    data = helminths_df,\n",
    "    family = binomial)"
   ]
  },
  {
   "cell_type": "code",
   "execution_count": null,
   "metadata": {
    "vscode": {
     "languageId": "r"
    }
   },
   "outputs": [],
   "source": [
    "summary(anaemia_agegrp_glm)"
   ]
  },
  {
   "cell_type": "code",
   "execution_count": null,
   "metadata": {
    "vscode": {
     "languageId": "r"
    }
   },
   "outputs": [],
   "source": [
    "exp(cbind(OR = coef(anaemia_agegrp_glm), confint(anaemia_agegrp_glm)))"
   ]
  },
  {
   "cell_type": "markdown",
   "metadata": {},
   "source": [
    "## Assuming a linear trend\n",
    "\n",
    "In fact, with quantitative exposures it is possible to model a linear effect (increasing or decreasing). Such a model assumes a common odds ratio, that is the relative increase (or decrease) from one age-group to the next is the same. To model this in `R` we simply do not specify that the variable is a factor. The output then assumes the same increase for each unit increase in the variable.  \n",
    "\n",
    "To do this for agegrp type: \n"
   ]
  },
  {
   "cell_type": "code",
   "execution_count": null,
   "metadata": {
    "vscode": {
     "languageId": "r"
    }
   },
   "outputs": [],
   "source": [
    "anaemia_agegrp_linear_glm <-\n",
    "glm(anaemic_sev ~ agegrp,\n",
    "    data = helminths_df,\n",
    "    family = binomial)"
   ]
  },
  {
   "cell_type": "code",
   "execution_count": null,
   "metadata": {
    "vscode": {
     "languageId": "r"
    }
   },
   "outputs": [],
   "source": [
    "summary(anaemia_agegrp_linear_glm)"
   ]
  },
  {
   "cell_type": "code",
   "execution_count": null,
   "metadata": {
    "vscode": {
     "languageId": "r"
    }
   },
   "outputs": [],
   "source": [
    "exp(cbind(OR = coef(anaemia_agegrp_linear_glm), confint(anaemia_agegrp_linear_glm)))"
   ]
  },
  {
   "cell_type": "markdown",
   "metadata": {},
   "source": [
    "Note that only one parameter is required for age when a linear effect is assumed, therefore we will have a simpler model that describes the same association. A simpler, or more parsimonious, model can be desirable when for example you have a limited number of observations, or in the case of particular analysis strategies. We will discuss these issues in more detail in SM12 ‘Strategies of Analysis’.  \n",
    " \n",
    "The odds ratio estimate for the linear effect of age-group is 0.74. How do we interpret \n",
    "this? "
   ]
  },
  {
   "cell_type": "markdown",
   "metadata": {},
   "source": [
    "This is the odds ratio from one level to the next i.e. the common odds ratio for a unit increase in `agegrp`. This depends, of course, on the way in which the age-group categories are defined, and when reporting a linear effect in categories these definitions should be stated clearly. The odds ratios for each age-group compared to the youngest age-group (<20 years) assuming a linear effect are shown below. The estimates for separate effects are also shown."
   ]
  },
  {
   "cell_type": "markdown",
   "metadata": {},
   "source": [
    "| Age-group (years) | Linear effect ORs | Separate ORs |\n",
    "|-------------------|-------------------|--------------|\n",
    "| 20-24             | 0.74 = 0.74       | 0.59         |\n",
    "| 25-29             | 0.74 = 0.55       | 0.42         |\n",
    "| 30+               | 0.74 = 0.41       | 0.48         |"
   ]
  },
  {
   "cell_type": "markdown",
   "metadata": {},
   "source": [
    "The odds ratio estimates of the linear effect and the separate effects are somewhat different.  If we can assume a linear trend, then the model is simpler.  However, we must first formally assess whether the separate age-group effects provide a better model for the data, i.e. test whether there is departure from a linear trend in the separate effects of `agegrp`."
   ]
  },
  {
   "cell_type": "markdown",
   "metadata": {},
   "source": [
    "## Testing the linear assumption  \n",
    "\n",
    "Formally this is called a test of ‘departure from linear trend’. To test for departure we compare the model assuming a linear trend (OR = 0.74) to the model with separate age-group effects, using a likelihood ratio test.  \n",
    "\n",
    "We first fit the model with most parameters (i.e. the one which models the separate effects), save the log likelihood of this model, then fit the model that assumes a linear effect, then compare the two log likelihoods.   \n",
    "\n",
    "To do this, type: "
   ]
  },
  {
   "cell_type": "code",
   "execution_count": null,
   "metadata": {
    "vscode": {
     "languageId": "r"
    }
   },
   "outputs": [],
   "source": [
    "library(lmtest)\n",
    "lrtest(anaemia_agegrp_glm, anaemia_agegrp_linear_glm)"
   ]
  },
  {
   "cell_type": "markdown",
   "metadata": {},
   "source": [
    "The null hypothesis of this test is that the association between age-group and severe anaemia is linear, or, more formally, that there is no difference in the goodness of fit of the two models assuming linear trend and estimating separate effects for each category. The result of this test is P=0.066, which provides some evidence against the null hypothesis. In other words we can say that there is some evidence (albeit not strong) that including a separate effect for each age group improves the fit of the model and that the linear effect may not sufficiently describe the data. Therefore we may want to model separate effects for each age group rather than assuming a linear trend in the categories.  On the other hand, since the evidence against the null hypothesis of a linear trend is fairly weak, we \n",
    "could, for simplicity, assume a linear trend and use this more simple modelling approach. \n"
   ]
  },
  {
   "cell_type": "markdown",
   "metadata": {},
   "source": [
    "## Key points  \n",
    "* For quantitative exposures that have been grouped into categories a linear effect is preferable to separate effects for each category, but only if modelling with separate effects does not improve the fit of the model.   \n",
    " \n",
    "* The estimate for a linear effect can be interpreted as the OR (or increase in log odds) for a unit increase in the variable. A unit increase may be an increase of one category, for a grouped categorical variable, or an increase of one unit if the variable is on its original scale (e.g. age in years). "
   ]
  },
  {
   "cell_type": "markdown",
   "metadata": {},
   "source": [
    "## Review exercise  \n",
    "\n",
    "Now try to carry out the same analysis on your own. For this exercise you should use the mwanza dataset which refers to a case-control study of HIV infection. The solutions are given in Section 4. "
   ]
  },
  {
   "cell_type": "markdown",
   "metadata": {},
   "source": [
    "1) Using the mwanza data, produce a table of HIV infection and number of injections in the past year.  \n",
    "\n",
    "**inj** is the variable name for name for injections in the past year  \n",
    "   coded: 1=none, 2=1, 3=2-4, 4=5-9, 5=10+, 9=missing \n",
    " \n"
   ]
  },
  {
   "cell_type": "code",
   "execution_count": null,
   "metadata": {
    "vscode": {
     "languageId": "r"
    }
   },
   "outputs": [],
   "source": [
    "mwanza_df <- read_dta(\"Data_files-20211113/MWANZA.dta\")"
   ]
  },
  {
   "cell_type": "code",
   "execution_count": null,
   "metadata": {
    "vscode": {
     "languageId": "r"
    }
   },
   "outputs": [],
   "source": [
    "table(mwanza_df$case, mwanza_df$inj)"
   ]
  },
  {
   "cell_type": "markdown",
   "metadata": {},
   "source": [
    "2) Use tabodds to calculate the odds of infection for each level of number of injections.\n",
    "\n",
    "There is no good replacement for `STATA`'s `tabodds` command, so we'll do it by hand:"
   ]
  },
  {
   "cell_type": "code",
   "execution_count": null,
   "metadata": {
    "vscode": {
     "languageId": "r"
    }
   },
   "outputs": [],
   "source": [
    "(mwanza_injections_table <- \n",
    "    table(mwanza_df$inj, mwanza_df$case))"
   ]
  },
  {
   "cell_type": "code",
   "execution_count": null,
   "metadata": {
    "vscode": {
     "languageId": "r"
    }
   },
   "outputs": [],
   "source": [
    "mwanza_injections_odds <- \n",
    "    mwanza_injections_table[, 2] / mwanza_injections_table[, 1]"
   ]
  },
  {
   "cell_type": "code",
   "execution_count": null,
   "metadata": {
    "vscode": {
     "languageId": "r"
    }
   },
   "outputs": [],
   "source": [
    "mwanza_injections_se <- sqrt((1 / sum(mwanza_injections_table[, 2])) +\n",
    "    (1 / sum(mwanza_injections_table[, 1])))\n",
    "mwanza_injections_ef <- exp(1.96 * mwanza_injections_se)"
   ]
  },
  {
   "cell_type": "code",
   "execution_count": null,
   "metadata": {
    "vscode": {
     "languageId": "r"
    }
   },
   "outputs": [],
   "source": [
    "mwanza_injections_lower <- mwanza_injections_odds / mwanza_injections_ef\n",
    "mwanza_injections_upper <- mwanza_injections_odds * mwanza_injections_ef"
   ]
  },
  {
   "cell_type": "code",
   "execution_count": null,
   "metadata": {
    "vscode": {
     "languageId": "r"
    }
   },
   "outputs": [],
   "source": [
    "mwanza_injections_df <- data.frame(cbind(mwanza_injections_table,\n",
    "    mwanza_injections_odds,\n",
    "    mwanza_injections_lower,\n",
    "    mwanza_injections_upper,\n",
    "    stringsAsFactors = FALSE))\n",
    "names(mwanza_injections_df) <- c(\"controls\", \"cases\", \"odds\", \"[95% Conf.\", \"Interval]\")"
   ]
  },
  {
   "cell_type": "code",
   "execution_count": null,
   "metadata": {
    "vscode": {
     "languageId": "r"
    }
   },
   "outputs": [],
   "source": [
    "mwanza_injections_df"
   ]
  },
  {
   "cell_type": "markdown",
   "metadata": {},
   "source": [
    "3) Produce a logistic model that assumes a linear effect of number of injections in the past year (remember to exclude the missing category). \n",
    "\n",
    "    What is the common OR ratio from the model?"
   ]
  },
  {
   "cell_type": "code",
   "execution_count": null,
   "metadata": {
    "vscode": {
     "languageId": "r"
    }
   },
   "outputs": [],
   "source": []
  },
  {
   "cell_type": "code",
   "execution_count": null,
   "metadata": {
    "vscode": {
     "languageId": "r"
    }
   },
   "outputs": [],
   "source": [
    "anaemia_agegrp_linear_glm <-\n",
    "glm(anaemic_sev ~ agegrp,\n",
    "    data = helminths_df,\n",
    "    family = binomial)"
   ]
  },
  {
   "cell_type": "markdown",
   "metadata": {},
   "source": [
    "4) Use a likelihood ratio test to test for departure from a linear trend."
   ]
  },
  {
   "cell_type": "markdown",
   "metadata": {},
   "source": []
  }
 ],
 "metadata": {
  "kernelspec": {
   "display_name": "R",
   "language": "R",
   "name": "ir"
  },
  "language_info": {
   "codemirror_mode": "r",
   "file_extension": ".r",
   "mimetype": "text/x-r-source",
   "name": "R",
   "pygments_lexer": "r",
   "version": "4.1.3"
  }
 },
 "nbformat": 4,
 "nbformat_minor": 2
}
