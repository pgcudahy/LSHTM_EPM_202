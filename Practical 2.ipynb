{
 "cells": [
  {
   "cell_type": "markdown",
   "id": "f477b90e",
   "metadata": {},
   "source": [
    "# Aim"
   ]
  },
  {
   "cell_type": "markdown",
   "id": "8b3e2532",
   "metadata": {},
   "source": [
    "The aim of this practical session is to learn how to compute Mantel-Haenzsel summary rate ratios (RRs) and decide whether a summary measure is appropriate."
   ]
  },
  {
   "cell_type": "markdown",
   "id": "4fd9f5bd",
   "metadata": {},
   "source": [
    "Throughout this session we will be analysing the Whitehall dataset. To read in the dataset, type:"
   ]
  },
  {
   "cell_type": "code",
   "execution_count": null,
   "id": "9c688e62",
   "metadata": {},
   "outputs": [],
   "source": [
    "library(tidyverse)"
   ]
  },
  {
   "cell_type": "code",
   "execution_count": null,
   "id": "c78086eb",
   "metadata": {},
   "outputs": [],
   "source": [
    "library(haven)"
   ]
  },
  {
   "cell_type": "code",
   "execution_count": null,
   "id": "78b4c58a",
   "metadata": {},
   "outputs": [],
   "source": [
    "whitehall_df <- read_dta(\"Data_files-20211113/WHITEHALL.dta\")"
   ]
  },
  {
   "cell_type": "markdown",
   "id": "a3e9f15c",
   "metadata": {},
   "source": [
    "# Defining follow-up information\n"
   ]
  },
  {
   "cell_type": "markdown",
   "id": "f8872bc7",
   "metadata": {},
   "source": [
    "Remember from Practical 1, before we are able to analyse follow-up data we must first define the dates of entry and exit into the study and the outcome (or ‘failure’) variable."
   ]
  },
  {
   "cell_type": "markdown",
   "id": "a6d3c2a4",
   "metadata": {},
   "source": [
    "The outcome is the overall mortality all, whereas the time variables are timein and timeout. Both of these are expressed in days, so we need to set the scale to be 365.25 days to produce analyses in terms of person-years. Type:"
   ]
  },
  {
   "cell_type": "code",
   "execution_count": null,
   "id": "fece4555",
   "metadata": {},
   "outputs": [],
   "source": [
    "whitehall_df_2 <- whitehall_df %>%\n",
    "    mutate(followup_time = as.numeric(difftime(whitehall_df$timeout, \n",
    "                                               whitehall_df$timein, \n",
    "                                               units = \"days\")) / 365.25)"
   ]
  },
  {
   "cell_type": "markdown",
   "id": "4908eaa0",
   "metadata": {},
   "source": [
    "# Stratum-specific rates"
   ]
  },
  {
   "cell_type": "markdown",
   "id": "cd247aad",
   "metadata": {},
   "source": [
    "To investigate how overall mortality varies according to age at entry to the study, we will recode age at entry into suitable groups,"
   ]
  },
  {
   "cell_type": "code",
   "execution_count": null,
   "id": "e5429586",
   "metadata": {},
   "outputs": [],
   "source": [
    "whitehall_df_3 <- whitehall_df_2 %>%\n",
    "    mutate(agecat = as.factor(case_when(agein < 45 ~ 0,\n",
    "                              agein < 50 ~ 1,\n",
    "                              agein < 55 ~ 2,\n",
    "                              agein < 60 ~ 3,\n",
    "                              agein < 65 ~ 4,\n",
    "                              agein < 70 ~ 5,\n",
    "                              TRUE ~ 999)))"
   ]
  },
  {
   "cell_type": "markdown",
   "id": "e8ed4c12",
   "metadata": {},
   "source": [
    "We can use the `summarise` command to check the distribution of agecat. Type:"
   ]
  },
  {
   "cell_type": "code",
   "execution_count": null,
   "id": "865b83f4",
   "metadata": {},
   "outputs": [],
   "source": [
    "whitehall_df_3 %>%\n",
    "    group_by(agecat) %>%\n",
    "    summarise(n = n()) %>%\n",
    "    mutate(percent = n / sum(n) * 100) %>%\n",
    "    mutate(cum = cumsum(percent))"
   ]
  },
  {
   "cell_type": "markdown",
   "id": "90c27440",
   "metadata": {},
   "source": [
    "Now, to examine how mortality rates change with age at entry we can use `Surv` from the `survival` package, and `SurvRate` from the `biostat3` package. Type:"
   ]
  },
  {
   "cell_type": "code",
   "execution_count": null,
   "id": "74408fcd",
   "metadata": {},
   "outputs": [],
   "source": [
    "library(survival)\n",
    "library(biostat3)\n"
   ]
  },
  {
   "cell_type": "code",
   "execution_count": null,
   "id": "895015c3",
   "metadata": {},
   "outputs": [],
   "source": [
    "survRate(Surv(followup_time/1000, all) ~ agecat, \n",
    "         data=whitehall_df_3)"
   ]
  },
  {
   "cell_type": "markdown",
   "id": "9b02b55a",
   "metadata": {},
   "source": [
    "The rates increase quite dramatically with each age category. This is best displayed in a graph. To produce a graph displaying the mortality trend with age at entry, use `ggplot`. However, if the rate ratios between successive categories are similar, the differences between successive log(rates) should be constant, therefore if we plot the rates on a log scale we should see a linear relationship with age. Type:"
   ]
  },
  {
   "cell_type": "code",
   "execution_count": null,
   "id": "ccbb12a6",
   "metadata": {},
   "outputs": [],
   "source": [
    "survRate(Surv(followup_time/1000, all) ~ agecat, \n",
    "         data=whitehall_df_3) %>%\n",
    "    #Put the data into ggplot\n",
    "    ggplot(aes(x = agecat, y = rate)) +\n",
    "    #Plot the points\n",
    "    geom_point() +\n",
    "    #Add in error bars\n",
    "    geom_errorbar(aes(ymin=lower, ymax=upper)) +\n",
    "    #Transform the y axis into logarithmic\n",
    "    scale_y_continuous(trans='log2') +\n",
    "    #Specify x-axis label names\n",
    "    scale_x_discrete(labels=seq(40,65,5))"
   ]
  },
  {
   "cell_type": "markdown",
   "id": "0722725d",
   "metadata": {},
   "source": [
    "We can see that the trend in rates across age is approximately linear on the log scale. This indicates that the rate ratio from one age group to the next is similar."
   ]
  },
  {
   "cell_type": "markdown",
   "id": "0e736e3b",
   "metadata": {},
   "source": [
    "## Comparison between groups: rate ratios"
   ]
  },
  {
   "cell_type": "markdown",
   "id": "b3390c67",
   "metadata": {},
   "source": [
    "To obtain rate ratios for the effect of age at entry with the youngest age group as the baseline we will use the `Surv` and `survRate`."
   ]
  },
  {
   "cell_type": "code",
   "execution_count": null,
   "id": "1bf2d848",
   "metadata": {},
   "outputs": [],
   "source": [
    "survRate(Surv(followup_time/1000, all) ~ agecat, data=whitehall_df_3) %>%\n",
    "    filter(agecat == 0)"
   ]
  },
  {
   "cell_type": "code",
   "execution_count": null,
   "id": "a65631b9",
   "metadata": {},
   "outputs": [],
   "source": [
    "#Get the rate for agecat of 0\n",
    "agecat_0 <- survRate(Surv(followup_time/1000, all) ~ agecat, data=whitehall_df_3) %>%\n",
    "    filter(agecat == 0) %>%\n",
    "    purrr::pluck(\"rate\")\n",
    "\n",
    "#Get the rate for agecat of 1\n",
    "agecat_1 <- survRate(Surv(followup_time/1000, all) ~ agecat, data=whitehall_df_3) %>%\n",
    "    filter(agecat == 1) %>%\n",
    "    purrr::pluck(\"rate\")\n",
    "\n",
    "#Get the ratio\n",
    "agecat_1 / agecat_0"
   ]
  },
  {
   "cell_type": "code",
   "execution_count": null,
   "id": "ce7c2df8",
   "metadata": {},
   "outputs": [],
   "source": [
    "#Get the rate for agecat of 0\n",
    "agecat_0 <- survRate(Surv(followup_time/1000, all) ~ agecat, data=whitehall_df_3) %>%\n",
    "    filter(agecat == 0) %>%\n",
    "    purrr::pluck(\"rate\")\n",
    "\n",
    "#Get the rate for agecat of 2\n",
    "agecat_2 <- survRate(Surv(followup_time/1000, all) ~ agecat, data=whitehall_df_3) %>%\n",
    "    filter(agecat == 2) %>%\n",
    "    purrr::pluck(\"rate\")\n",
    "\n",
    "#Get the ratio\n",
    "agecat_2 / agecat_0"
   ]
  },
  {
   "cell_type": "code",
   "execution_count": null,
   "id": "51606d0b",
   "metadata": {},
   "outputs": [],
   "source": [
    "#Get the rate for agecat of 0\n",
    "agecat_0 <- survRate(Surv(followup_time/1000, all) ~ agecat, data=whitehall_df_3) %>%\n",
    "    filter(agecat == 0) %>%\n",
    "    purrr::pluck(\"rate\")\n",
    "\n",
    "#Get the rate for agecat of 3\n",
    "agecat_3 <- survRate(Surv(followup_time/1000, all) ~ agecat, data=whitehall_df_3) %>%\n",
    "    filter(agecat == 3) %>%\n",
    "    purrr::pluck(\"rate\")\n",
    "\n",
    "#Get the ratio\n",
    "agecat_3 / agecat_0"
   ]
  },
  {
   "cell_type": "code",
   "execution_count": null,
   "id": "56c9ce48",
   "metadata": {},
   "outputs": [],
   "source": [
    "#Get the rate for agecat of 0\n",
    "agecat_0 <- survRate(Surv(followup_time/1000, all) ~ agecat, data=whitehall_df_3) %>%\n",
    "    filter(agecat == 0) %>%\n",
    "    purrr::pluck(\"rate\")\n",
    "\n",
    "#Get the rate for agecat of 4\n",
    "agecat_4 <- survRate(Surv(followup_time/1000, all) ~ agecat, data=whitehall_df_3) %>%\n",
    "    filter(agecat == 4) %>%\n",
    "    purrr::pluck(\"rate\")\n",
    "\n",
    "#Get the ratio\n",
    "agecat_4 / agecat_0"
   ]
  },
  {
   "cell_type": "code",
   "execution_count": null,
   "id": "387226e9",
   "metadata": {},
   "outputs": [],
   "source": [
    "#Get the rate for agecat of 0\n",
    "agecat_0 <- survRate(Surv(followup_time/1000, all) ~ agecat, data=whitehall_df_3) %>%\n",
    "    filter(agecat == 0) %>%\n",
    "    purrr::pluck(\"rate\")\n",
    "\n",
    "#Get the rate for agecat of 5\n",
    "agecat_5 <- survRate(Surv(followup_time/1000, all) ~ agecat, data=whitehall_df_3) %>%\n",
    "    filter(agecat == 5) %>%\n",
    "    purrr::pluck(\"rate\")\n",
    "\n",
    "#Get the ratio\n",
    "agecat_5 / agecat_0"
   ]
  },
  {
   "cell_type": "markdown",
   "id": "de6ee4db",
   "metadata": {},
   "source": [
    "It is clear that the rate ratios for consecutive age-groups versus the youngest age-group (baseline) increase with age.\n",
    "\n",
    "The rate for the 45-49-year age-group is 1.17 times that of the 40-44 year age-group; \n",
    "\n",
    "The rate for the 50-54-year age-group is 2.77 times that of the 40-44 year age-group; \n",
    "\n",
    "The rate for the 55-59-year age-group is 4.58 times that of the 40-44 year age-group; and so on."
   ]
  },
  {
   "cell_type": "markdown",
   "id": "97a40d9a",
   "metadata": {},
   "source": [
    "## Stratified estimates for the exposure of interest"
   ]
  },
  {
   "cell_type": "markdown",
   "id": "76448d65",
   "metadata": {},
   "source": [
    "Let’s say the main exposure of interest is grade of employment (coded: 1 = high grade, 2 = low grade). We will examine the all-cause mortality rates for low and high grades of employment, then estimate the rate ratio for low-grade employees versus high-grade employees."
   ]
  },
  {
   "cell_type": "code",
   "execution_count": null,
   "id": "dc9b7c67",
   "metadata": {},
   "outputs": [],
   "source": [
    "survRate(Surv(followup_time/1000, all) ~ grade, \n",
    "         data=whitehall_df_3)"
   ]
  },
  {
   "cell_type": "code",
   "execution_count": null,
   "id": "a6221122",
   "metadata": {},
   "outputs": [],
   "source": [
    "#Get the rate for grade of 1\n",
    "grade_1 <- survRate(Surv(followup_time/1000, all) ~ grade, \n",
    "                    data=whitehall_df_3) %>%\n",
    "    filter(grade == 1) %>%\n",
    "    purrr::pluck(\"rate\")\n",
    "\n",
    "#Get the rate for grade of 2\n",
    "grade_2 <- survRate(Surv(followup_time/1000, all) ~ grade, \n",
    "                    data=whitehall_df_3) %>%\n",
    "    filter(grade == 2) %>%\n",
    "    purrr::pluck(\"rate\")\n",
    "\n",
    "#Get the ratio\n",
    "grade_2 / grade_1"
   ]
  },
  {
   "cell_type": "markdown",
   "id": "ff8adbf3",
   "metadata": {},
   "source": [
    "To assess for potential confounding or effect modification by age at entry on the effect of employment grade use stmh with grade, stratified by agecat. Type:"
   ]
  },
  {
   "cell_type": "code",
   "execution_count": null,
   "id": "2f9a641d",
   "metadata": {},
   "outputs": [],
   "source": [
    "#Get the rate for grade of 1\n",
    "grade_1 <- survRate(Surv(followup_time/1000, all) ~ grade + agecat, data=whitehall_df_3) %>%\n",
    "    filter(grade == 1) %>%\n",
    "    purrr::pluck(\"rate\")\n",
    "\n",
    "#Get the rate for grade of 2\n",
    "grade_2 <- survRate(Surv(followup_time/1000, all) ~ grade + agecat, data=whitehall_df_3) %>%\n",
    "    filter(grade == 2) %>%\n",
    "    purrr::pluck(\"rate\")\n",
    "\n",
    "#Get the ratios\n",
    "tibble(survRate(Surv(followup_time/1000, all) ~ grade + agecat, data=whitehall_df_3) %>%\n",
    "       filter(grade == 1) %>% \n",
    "       dplyr::select(\"agecat\"), \n",
    "       \"rate ratio\" = grade_2 / grade_1)"
   ]
  },
  {
   "cell_type": "markdown",
   "id": "525249ce",
   "metadata": {},
   "source": [
    "R can't give us rate ratios but can do odds ratios with `epiDisplay`'s `cc` for crude odds ratios and `mhor` for adjusted"
   ]
  },
  {
   "cell_type": "code",
   "execution_count": null,
   "id": "ba20c7df",
   "metadata": {},
   "outputs": [],
   "source": [
    "library(epiDisplay)"
   ]
  },
  {
   "cell_type": "code",
   "execution_count": null,
   "id": "a7c0c87f",
   "metadata": {},
   "outputs": [],
   "source": [
    "cc(whitehall_df_3$all, whitehall_df_3$grade,\n",
    "              graph = FALSE)"
   ]
  },
  {
   "cell_type": "code",
   "execution_count": null,
   "id": "a7451f75",
   "metadata": {},
   "outputs": [],
   "source": [
    "mhor(whitehall_df_3$all, \n",
    "     whitehall_df_3$grade,\n",
    "     whitehall_df_3$agecat, design = \"cohort\",\n",
    "     graph = FALSE)"
   ]
  },
  {
   "cell_type": "markdown",
   "id": "a635a452",
   "metadata": {},
   "source": [
    "#### To examine whether the crude OR estimate for low grade, OR=2.66, is confounded by age at entry, we will examine the age-specific estimates. First we will assess whether there is any effect modification (also called ‘interaction’). The null hypothesis is ‘no effect modification’ and the large p-value (P=0.71) does not provide any evidence against the null hypothesis. Also, the values of the age-specific ORs are quite similar (they range from 1.2 to 3.57 with no evidence of a trend) therefore it is appropriate to summarise them using the Mantel-Haenszel estimate, OR=1.56 (95% CI 1.20 to 2.03). \n",
    "\n",
    "#### However, the results do show that the crude estimate of the effect of grade is strongly confounded by age at entry (ORcrude = 2.66, compared to RRM-H = 1.56)."
   ]
  },
  {
   "cell_type": "markdown",
   "id": "7d3cec31",
   "metadata": {},
   "source": [
    "# Review exercise"
   ]
  },
  {
   "cell_type": "markdown",
   "id": "b5bcc2c2",
   "metadata": {},
   "source": [
    "### 1) In order to analyse CHD mortality, set the time and the CHD mortality outcome variables with stset (remember that the time variables are timein and timeout, the outcome is chd, the identifier is id, and the scale should be set to years). Use the tab command on the chd variable to check that the number of deaths from CHD corresponds with the number given in the stset output."
   ]
  },
  {
   "cell_type": "markdown",
   "id": "5738963d",
   "metadata": {},
   "source": [
    " This is not needed in R"
   ]
  },
  {
   "cell_type": "markdown",
   "id": "12d3db71",
   "metadata": {},
   "source": [
    "### 2) Recode age at entry into 5-year age-groups and investigate how CHD mortality varies according to age at entry to the study using strate."
   ]
  },
  {
   "cell_type": "code",
   "execution_count": null,
   "id": "f0386177",
   "metadata": {},
   "outputs": [],
   "source": [
    "survRate(Surv(followup_time/1000, chd) ~ agecat, \n",
    "         data=whitehall_df_3)"
   ]
  },
  {
   "cell_type": "markdown",
   "id": "7b96ab1e",
   "metadata": {},
   "source": [
    "Rates increase dramatically in older age brackets"
   ]
  },
  {
   "cell_type": "markdown",
   "id": "a9eba1e0",
   "metadata": {},
   "source": [
    "### 3) Examine the CHD mortality rates for low and high grades of employment. Use the stmh command to estimate the rate ratio for low-grade employees versus high-grade employees."
   ]
  },
  {
   "cell_type": "code",
   "execution_count": null,
   "id": "0c561a25",
   "metadata": {},
   "outputs": [],
   "source": [
    "survRate(Surv(followup_time/1000, chd) ~ grade, \n",
    "         data=whitehall_df_3)"
   ]
  },
  {
   "cell_type": "markdown",
   "id": "87d389c6",
   "metadata": {},
   "source": [
    "Rates for low-grade employees are almost double that for high-grade"
   ]
  },
  {
   "cell_type": "markdown",
   "id": "e6fe34d7",
   "metadata": {},
   "source": [
    "### 4) Use stmh to examine the effect of grade, stratified by age at entry:"
   ]
  },
  {
   "cell_type": "markdown",
   "id": "3a0209e1",
   "metadata": {},
   "source": [
    "Use `epiDisplay`'s `cc` for unadjusted and `mhor` for adjusted odds ratios"
   ]
  },
  {
   "cell_type": "code",
   "execution_count": null,
   "id": "2148a181",
   "metadata": {},
   "outputs": [],
   "source": [
    "cc(whitehall_df_3$chd, whitehall_df_3$grade,\n",
    "   t"
   ]
  },
  {
   "cell_type": "code",
   "execution_count": null,
   "id": "b141bcf0",
   "metadata": {},
   "outputs": [],
   "source": [
    "mhor(whitehall_df_3$chd, \n",
    "     whitehall_df_3$grade,\n",
    "     whitehall_df_3$agecat, design = \"cohort\",\n",
    "     graph = FALSE)"
   ]
  },
  {
   "cell_type": "markdown",
   "id": "c8078465",
   "metadata": {},
   "source": [
    "#### Is there any evidence of interaction between employment grade and age at entry? "
   ]
  },
  {
   "cell_type": "markdown",
   "id": "c3da132a",
   "metadata": {},
   "source": [
    "The crude OR of 1.87 is higher than the adjusted of OR 1.39 so perhaps some confounding."
   ]
  },
  {
   "cell_type": "markdown",
   "id": "8fa7c6b4",
   "metadata": {},
   "source": [
    "#### Examine the result of the test for interaction. Is the effect of grade confounded by age at entry?"
   ]
  },
  {
   "cell_type": "markdown",
   "id": "dee700ff",
   "metadata": {},
   "source": [
    "There is no clear trend and not strong evidence of confounding by age. "
   ]
  }
 ],
 "metadata": {
  "kernelspec": {
   "display_name": "R",
   "language": "R",
   "name": "ir"
  },
  "language_info": {
   "codemirror_mode": "r",
   "file_extension": ".r",
   "mimetype": "text/x-r-source",
   "name": "R",
   "pygments_lexer": "r",
   "version": "4.0.4"
  }
 },
 "nbformat": 4,
 "nbformat_minor": 5
}
