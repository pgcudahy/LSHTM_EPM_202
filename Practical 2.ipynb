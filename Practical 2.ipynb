{
 "cells": [
  {
   "cell_type": "markdown",
   "id": "f477b90e",
   "metadata": {},
   "source": [
    "# Aim"
   ]
  },
  {
   "cell_type": "markdown",
   "id": "8b3e2532",
   "metadata": {},
   "source": [
    "The aim of this practical session is to learn how to compute Mantel-Haenzsel summary rate ratios (RRs) and decide whether a summary measure is appropriate."
   ]
  },
  {
   "cell_type": "markdown",
   "id": "4fd9f5bd",
   "metadata": {},
   "source": [
    "Throughout this session we will be analysing the Whitehall dataset. To read in the dataset, type:"
   ]
  },
  {
   "cell_type": "code",
   "execution_count": 1,
   "id": "9c688e62",
   "metadata": {},
   "outputs": [
    {
     "name": "stderr",
     "output_type": "stream",
     "text": [
      "── \u001b[1mAttaching packages\u001b[22m ───────────────────────────────────────────────────────────────────────────────────────────────────────────────────────────────────────────────────── tidyverse 1.3.1 ──\n",
      "\n",
      "\u001b[32m✔\u001b[39m \u001b[34mggplot2\u001b[39m 3.3.5     \u001b[32m✔\u001b[39m \u001b[34mpurrr  \u001b[39m 0.3.4\n",
      "\u001b[32m✔\u001b[39m \u001b[34mtibble \u001b[39m 3.1.6     \u001b[32m✔\u001b[39m \u001b[34mdplyr  \u001b[39m 1.0.7\n",
      "\u001b[32m✔\u001b[39m \u001b[34mtidyr  \u001b[39m 1.1.4     \u001b[32m✔\u001b[39m \u001b[34mstringr\u001b[39m 1.4.0\n",
      "\u001b[32m✔\u001b[39m \u001b[34mreadr  \u001b[39m 2.1.0     \u001b[32m✔\u001b[39m \u001b[34mforcats\u001b[39m 0.5.1\n",
      "\n",
      "── \u001b[1mConflicts\u001b[22m ──────────────────────────────────────────────────────────────────────────────────────────────────────────────────────────────────────────────────────── tidyverse_conflicts() ──\n",
      "\u001b[31m✖\u001b[39m \u001b[34mdplyr\u001b[39m::\u001b[32mfilter()\u001b[39m masks \u001b[34mstats\u001b[39m::filter()\n",
      "\u001b[31m✖\u001b[39m \u001b[34mdplyr\u001b[39m::\u001b[32mlag()\u001b[39m    masks \u001b[34mstats\u001b[39m::lag()\n",
      "\n"
     ]
    }
   ],
   "source": [
    "library(tidyverse)"
   ]
  },
  {
   "cell_type": "code",
   "execution_count": 2,
   "id": "c78086eb",
   "metadata": {},
   "outputs": [],
   "source": [
    "library(haven)"
   ]
  },
  {
   "cell_type": "code",
   "execution_count": 3,
   "id": "78b4c58a",
   "metadata": {},
   "outputs": [],
   "source": [
    "whitehall_df <- read_dta(\"Data_files-20211113/WHITEHALL.dta\")"
   ]
  },
  {
   "cell_type": "markdown",
   "id": "a3e9f15c",
   "metadata": {},
   "source": [
    "# Defining follow-up information\n"
   ]
  },
  {
   "cell_type": "markdown",
   "id": "f8872bc7",
   "metadata": {},
   "source": [
    "Remember from Practical 1, before we are able to analyse follow-up data we must first define the dates of entry and exit into the study and the outcome (or ‘failure’) variable."
   ]
  },
  {
   "cell_type": "markdown",
   "id": "a6d3c2a4",
   "metadata": {},
   "source": [
    "The outcome is the overall mortality all, whereas the time variables are timein and timeout. Both of these are expressed in days, so we need to set the scale to be 365.25 days to produce analyses in terms of person-years. Type:"
   ]
  },
  {
   "cell_type": "code",
   "execution_count": 4,
   "id": "fece4555",
   "metadata": {},
   "outputs": [],
   "source": [
    "whitehall_df_2 <- whitehall_df %>%\n",
    "    mutate(followup_time = as.numeric(difftime(whitehall_df$timeout, \n",
    "                                               whitehall_df$timein, \n",
    "                                               units = \"days\")) / 365.25)"
   ]
  },
  {
   "cell_type": "markdown",
   "id": "4908eaa0",
   "metadata": {},
   "source": [
    "# Stratum-specific rates"
   ]
  },
  {
   "cell_type": "markdown",
   "id": "cd247aad",
   "metadata": {},
   "source": [
    "To investigate how overall mortality varies according to age at entry to the study, we will recode age at entry into suitable groups,"
   ]
  },
  {
   "cell_type": "code",
   "execution_count": 5,
   "id": "e5429586",
   "metadata": {},
   "outputs": [],
   "source": [
    "whitehall_df_3 <- whitehall_df_2 %>%\n",
    "    mutate(agecat = as.factor(case_when(agein < 45 ~ 0,\n",
    "                              agein < 50 ~ 1,\n",
    "                              agein < 55 ~ 2,\n",
    "                              agein < 60 ~ 3,\n",
    "                              agein < 65 ~ 4,\n",
    "                              agein < 70 ~ 5,\n",
    "                              TRUE ~ 999)))"
   ]
  },
  {
   "cell_type": "markdown",
   "id": "e8ed4c12",
   "metadata": {},
   "source": [
    "We can use the `summarise` command to check the distribution of agecat. Type:"
   ]
  },
  {
   "cell_type": "code",
   "execution_count": 6,
   "id": "865b83f4",
   "metadata": {},
   "outputs": [
    {
     "data": {
      "text/html": [
       "<table class=\"dataframe\">\n",
       "<caption>A tibble: 6 × 4</caption>\n",
       "<thead>\n",
       "\t<tr><th scope=col>agecat</th><th scope=col>n</th><th scope=col>percent</th><th scope=col>cum</th></tr>\n",
       "\t<tr><th scope=col>&lt;fct&gt;</th><th scope=col>&lt;int&gt;</th><th scope=col>&lt;dbl&gt;</th><th scope=col>&lt;dbl&gt;</th></tr>\n",
       "</thead>\n",
       "<tbody>\n",
       "\t<tr><td>0</td><td>277</td><td>16.517591</td><td> 16.51759</td></tr>\n",
       "\t<tr><td>1</td><td>445</td><td>26.535480</td><td> 43.05307</td></tr>\n",
       "\t<tr><td>2</td><td>362</td><td>21.586166</td><td> 64.63924</td></tr>\n",
       "\t<tr><td>3</td><td>340</td><td>20.274299</td><td> 84.91354</td></tr>\n",
       "\t<tr><td>4</td><td>215</td><td>12.820513</td><td> 97.73405</td></tr>\n",
       "\t<tr><td>5</td><td> 38</td><td> 2.265951</td><td>100.00000</td></tr>\n",
       "</tbody>\n",
       "</table>\n"
      ],
      "text/latex": [
       "A tibble: 6 × 4\n",
       "\\begin{tabular}{llll}\n",
       " agecat & n & percent & cum\\\\\n",
       " <fct> & <int> & <dbl> & <dbl>\\\\\n",
       "\\hline\n",
       "\t 0 & 277 & 16.517591 &  16.51759\\\\\n",
       "\t 1 & 445 & 26.535480 &  43.05307\\\\\n",
       "\t 2 & 362 & 21.586166 &  64.63924\\\\\n",
       "\t 3 & 340 & 20.274299 &  84.91354\\\\\n",
       "\t 4 & 215 & 12.820513 &  97.73405\\\\\n",
       "\t 5 &  38 &  2.265951 & 100.00000\\\\\n",
       "\\end{tabular}\n"
      ],
      "text/markdown": [
       "\n",
       "A tibble: 6 × 4\n",
       "\n",
       "| agecat &lt;fct&gt; | n &lt;int&gt; | percent &lt;dbl&gt; | cum &lt;dbl&gt; |\n",
       "|---|---|---|---|\n",
       "| 0 | 277 | 16.517591 |  16.51759 |\n",
       "| 1 | 445 | 26.535480 |  43.05307 |\n",
       "| 2 | 362 | 21.586166 |  64.63924 |\n",
       "| 3 | 340 | 20.274299 |  84.91354 |\n",
       "| 4 | 215 | 12.820513 |  97.73405 |\n",
       "| 5 |  38 |  2.265951 | 100.00000 |\n",
       "\n"
      ],
      "text/plain": [
       "  agecat n   percent   cum      \n",
       "1 0      277 16.517591  16.51759\n",
       "2 1      445 26.535480  43.05307\n",
       "3 2      362 21.586166  64.63924\n",
       "4 3      340 20.274299  84.91354\n",
       "5 4      215 12.820513  97.73405\n",
       "6 5       38  2.265951 100.00000"
      ]
     },
     "metadata": {},
     "output_type": "display_data"
    }
   ],
   "source": [
    "whitehall_df_3 %>%\n",
    "    group_by(agecat) %>%\n",
    "    summarise(n = n()) %>%\n",
    "    mutate(percent = n / sum(n) * 100) %>%\n",
    "    mutate(cum = cumsum(percent))"
   ]
  },
  {
   "cell_type": "markdown",
   "id": "90c27440",
   "metadata": {},
   "source": [
    "Now, to examine how mortality rates change with age at entry we can use `Surv` from the `survival` package, and `SurvRate` from the `biostat3` package. Type:"
   ]
  },
  {
   "cell_type": "code",
   "execution_count": 7,
   "id": "74408fcd",
   "metadata": {},
   "outputs": [
    {
     "name": "stderr",
     "output_type": "stream",
     "text": [
      "Loading required package: MASS\n",
      "\n",
      "\n",
      "Attaching package: ‘MASS’\n",
      "\n",
      "\n",
      "The following object is masked from ‘package:dplyr’:\n",
      "\n",
      "    select\n",
      "\n",
      "\n",
      "\n",
      "Attaching package: ‘biostat3’\n",
      "\n",
      "\n",
      "The following object is masked from ‘package:survival’:\n",
      "\n",
      "    colon\n",
      "\n",
      "\n"
     ]
    }
   ],
   "source": [
    "library(survival)\n",
    "library(biostat3)\n"
   ]
  },
  {
   "cell_type": "code",
   "execution_count": 8,
   "id": "895015c3",
   "metadata": {},
   "outputs": [
    {
     "data": {
      "text/html": [
       "<table class=\"dataframe\">\n",
       "<caption>A data.frame: 6 × 6</caption>\n",
       "<thead>\n",
       "\t<tr><th></th><th scope=col>agecat</th><th scope=col>tstop</th><th scope=col>event</th><th scope=col>rate</th><th scope=col>lower</th><th scope=col>upper</th></tr>\n",
       "\t<tr><th></th><th scope=col>&lt;fct&gt;</th><th scope=col>&lt;dbl&gt;</th><th scope=col>&lt;dbl&gt;</th><th scope=col>&lt;dbl&gt;</th><th scope=col>&lt;dbl&gt;</th><th scope=col>&lt;dbl&gt;</th></tr>\n",
       "</thead>\n",
       "<tbody>\n",
       "\t<tr><th scope=row>agecat=0</th><td>0</td><td>4.9186177</td><td> 24</td><td> 4.879420</td><td> 3.126336</td><td>  7.260190</td></tr>\n",
       "\t<tr><th scope=row>agecat=1</th><td>1</td><td>7.8548937</td><td> 45</td><td> 5.728913</td><td> 4.178708</td><td>  7.665736</td></tr>\n",
       "\t<tr><th scope=row>agecat=2</th><td>2</td><td>6.0597504</td><td> 82</td><td>13.531910</td><td>10.762330</td><td> 16.796669</td></tr>\n",
       "\t<tr><th scope=row>agecat=3</th><td>3</td><td>5.2820143</td><td>118</td><td>22.339962</td><td>18.491377</td><td> 26.753340</td></tr>\n",
       "\t<tr><th scope=row>agecat=4</th><td>4</td><td>3.0948473</td><td>101</td><td>32.634890</td><td>26.581654</td><td> 39.654349</td></tr>\n",
       "\t<tr><th scope=row>agecat=5</th><td>5</td><td>0.3952472</td><td> 33</td><td>83.492055</td><td>57.472089</td><td>117.253887</td></tr>\n",
       "</tbody>\n",
       "</table>\n"
      ],
      "text/latex": [
       "A data.frame: 6 × 6\n",
       "\\begin{tabular}{r|llllll}\n",
       "  & agecat & tstop & event & rate & lower & upper\\\\\n",
       "  & <fct> & <dbl> & <dbl> & <dbl> & <dbl> & <dbl>\\\\\n",
       "\\hline\n",
       "\tagecat=0 & 0 & 4.9186177 &  24 &  4.879420 &  3.126336 &   7.260190\\\\\n",
       "\tagecat=1 & 1 & 7.8548937 &  45 &  5.728913 &  4.178708 &   7.665736\\\\\n",
       "\tagecat=2 & 2 & 6.0597504 &  82 & 13.531910 & 10.762330 &  16.796669\\\\\n",
       "\tagecat=3 & 3 & 5.2820143 & 118 & 22.339962 & 18.491377 &  26.753340\\\\\n",
       "\tagecat=4 & 4 & 3.0948473 & 101 & 32.634890 & 26.581654 &  39.654349\\\\\n",
       "\tagecat=5 & 5 & 0.3952472 &  33 & 83.492055 & 57.472089 & 117.253887\\\\\n",
       "\\end{tabular}\n"
      ],
      "text/markdown": [
       "\n",
       "A data.frame: 6 × 6\n",
       "\n",
       "| <!--/--> | agecat &lt;fct&gt; | tstop &lt;dbl&gt; | event &lt;dbl&gt; | rate &lt;dbl&gt; | lower &lt;dbl&gt; | upper &lt;dbl&gt; |\n",
       "|---|---|---|---|---|---|---|\n",
       "| agecat=0 | 0 | 4.9186177 |  24 |  4.879420 |  3.126336 |   7.260190 |\n",
       "| agecat=1 | 1 | 7.8548937 |  45 |  5.728913 |  4.178708 |   7.665736 |\n",
       "| agecat=2 | 2 | 6.0597504 |  82 | 13.531910 | 10.762330 |  16.796669 |\n",
       "| agecat=3 | 3 | 5.2820143 | 118 | 22.339962 | 18.491377 |  26.753340 |\n",
       "| agecat=4 | 4 | 3.0948473 | 101 | 32.634890 | 26.581654 |  39.654349 |\n",
       "| agecat=5 | 5 | 0.3952472 |  33 | 83.492055 | 57.472089 | 117.253887 |\n",
       "\n"
      ],
      "text/plain": [
       "         agecat tstop     event rate      lower     upper     \n",
       "agecat=0 0      4.9186177  24    4.879420  3.126336   7.260190\n",
       "agecat=1 1      7.8548937  45    5.728913  4.178708   7.665736\n",
       "agecat=2 2      6.0597504  82   13.531910 10.762330  16.796669\n",
       "agecat=3 3      5.2820143 118   22.339962 18.491377  26.753340\n",
       "agecat=4 4      3.0948473 101   32.634890 26.581654  39.654349\n",
       "agecat=5 5      0.3952472  33   83.492055 57.472089 117.253887"
      ]
     },
     "metadata": {},
     "output_type": "display_data"
    }
   ],
   "source": [
    "survRate(Surv(followup_time/1000, all) ~ agecat, \n",
    "         data=whitehall_df_3)"
   ]
  },
  {
   "cell_type": "markdown",
   "id": "e3fc0983",
   "metadata": {},
   "source": [
    "The rates increase quite dramatically with each age category. This is best displayed in a graph. To produce a graph displaying the mortality trend with age at entry, use `ggplot`. However, if the rate ratios between successive categories are similar, the differences between successive log(rates) should be constant, therefore if we plot the rates on a log scale we should see a linear relationship with age. Type:"
   ]
  },
  {
   "cell_type": "code",
   "execution_count": 9,
   "id": "01bd87ef",
   "metadata": {},
   "outputs": [
    {
     "data": {
      "image/png": "[encoded data removed]",
      "text/plain": [
       "plot without title"
      ]
     },
     "metadata": {
      "image/png": {
       "height": 420,
       "width": 420
      }
     },
     "output_type": "display_data"
    }
   ],
   "source": [
    "survRate(Surv(followup_time/1000, all) ~ agecat, \n",
    "         data=whitehall_df_3) %>%\n",
    "    #Put the data into ggplot\n",
    "    ggplot(aes(x = agecat, y = rate)) +\n",
    "    #Plot the points\n",
    "    geom_point() +\n",
    "    #Add in error bars\n",
    "    geom_errorbar(aes(ymin=lower, ymax=upper)) +\n",
    "    #Transform the y axis into logarithmic\n",
    "    scale_y_continuous(trans='log2') +\n",
    "    #Specify x-axis label names\n",
    "    scale_x_discrete(labels=seq(40,65,5))"
   ]
  },
  {
   "cell_type": "markdown",
   "id": "0a0cc81a",
   "metadata": {},
   "source": [
    "We can see that the trend in rates across age is approximately linear on the log scale. This indicates that the rate ratio from one age group to the next is similar."
   ]
  },
  {
   "cell_type": "markdown",
   "id": "d6ea1779",
   "metadata": {},
   "source": [
    "## Comparison between groups: rate ratios"
   ]
  },
  {
   "cell_type": "markdown",
   "id": "065ede82",
   "metadata": {},
   "source": [
    "To obtain rate ratios for the effect of age at entry with the youngest age group as the baseline we will use the `Surv` and `survRate`."
   ]
  },
  {
   "cell_type": "code",
   "execution_count": 10,
   "id": "7cb295c0",
   "metadata": {},
   "outputs": [
    {
     "data": {
      "text/html": [
       "<table class=\"dataframe\">\n",
       "<caption>A data.frame: 1 × 6</caption>\n",
       "<thead>\n",
       "\t<tr><th></th><th scope=col>agecat</th><th scope=col>tstop</th><th scope=col>event</th><th scope=col>rate</th><th scope=col>lower</th><th scope=col>upper</th></tr>\n",
       "\t<tr><th></th><th scope=col>&lt;fct&gt;</th><th scope=col>&lt;dbl&gt;</th><th scope=col>&lt;dbl&gt;</th><th scope=col>&lt;dbl&gt;</th><th scope=col>&lt;dbl&gt;</th><th scope=col>&lt;dbl&gt;</th></tr>\n",
       "</thead>\n",
       "<tbody>\n",
       "\t<tr><th scope=row>agecat=0</th><td>0</td><td>4.918618</td><td>24</td><td>4.87942</td><td>3.126336</td><td>7.26019</td></tr>\n",
       "</tbody>\n",
       "</table>\n"
      ],
      "text/latex": [
       "A data.frame: 1 × 6\n",
       "\\begin{tabular}{r|llllll}\n",
       "  & agecat & tstop & event & rate & lower & upper\\\\\n",
       "  & <fct> & <dbl> & <dbl> & <dbl> & <dbl> & <dbl>\\\\\n",
       "\\hline\n",
       "\tagecat=0 & 0 & 4.918618 & 24 & 4.87942 & 3.126336 & 7.26019\\\\\n",
       "\\end{tabular}\n"
      ],
      "text/markdown": [
       "\n",
       "A data.frame: 1 × 6\n",
       "\n",
       "| <!--/--> | agecat &lt;fct&gt; | tstop &lt;dbl&gt; | event &lt;dbl&gt; | rate &lt;dbl&gt; | lower &lt;dbl&gt; | upper &lt;dbl&gt; |\n",
       "|---|---|---|---|---|---|---|\n",
       "| agecat=0 | 0 | 4.918618 | 24 | 4.87942 | 3.126336 | 7.26019 |\n",
       "\n"
      ],
      "text/plain": [
       "         agecat tstop    event rate    lower    upper  \n",
       "agecat=0 0      4.918618 24    4.87942 3.126336 7.26019"
      ]
     },
     "metadata": {},
     "output_type": "display_data"
    }
   ],
   "source": [
    "survRate(Surv(followup_time/1000, all) ~ agecat, data=whitehall_df_3) %>%\n",
    "    filter(agecat == 0)"
   ]
  },
  {
   "cell_type": "code",
   "execution_count": 11,
   "id": "2f212e45",
   "metadata": {},
   "outputs": [
    {
     "data": {
      "text/html": [
       "1.17409713202152"
      ],
      "text/latex": [
       "1.17409713202152"
      ],
      "text/markdown": [
       "1.17409713202152"
      ],
      "text/plain": [
       "[1] 1.174097"
      ]
     },
     "metadata": {},
     "output_type": "display_data"
    }
   ],
   "source": [
    "#Get the rate for agecat of 0\n",
    "agecat_0 <- survRate(Surv(followup_time/1000, all) ~ agecat, data=whitehall_df_3) %>%\n",
    "    filter(agecat == 0) %>%\n",
    "    purrr::pluck(\"rate\")\n",
    "\n",
    "#Get the rate for agecat of 1\n",
    "agecat_1 <- survRate(Surv(followup_time/1000, all) ~ agecat, data=whitehall_df_3) %>%\n",
    "    filter(agecat == 1) %>%\n",
    "    purrr::pluck(\"rate\")\n",
    "\n",
    "#Get the ratio\n",
    "agecat_1 / agecat_0"
   ]
  },
  {
   "cell_type": "code",
   "execution_count": 12,
   "id": "5347a587",
   "metadata": {},
   "outputs": [
    {
     "data": {
      "text/html": [
       "2.77326227190796"
      ],
      "text/latex": [
       "2.77326227190796"
      ],
      "text/markdown": [
       "2.77326227190796"
      ],
      "text/plain": [
       "[1] 2.773262"
      ]
     },
     "metadata": {},
     "output_type": "display_data"
    }
   ],
   "source": [
    "#Get the rate for agecat of 0\n",
    "agecat_0 <- survRate(Surv(followup_time/1000, all) ~ agecat, data=whitehall_df_3) %>%\n",
    "    filter(agecat == 0) %>%\n",
    "    purrr::pluck(\"rate\")\n",
    "\n",
    "#Get the rate for agecat of 2\n",
    "agecat_2 <- survRate(Surv(followup_time/1000, all) ~ agecat, data=whitehall_df_3) %>%\n",
    "    filter(agecat == 2) %>%\n",
    "    purrr::pluck(\"rate\")\n",
    "\n",
    "#Get the ratio\n",
    "agecat_2 / agecat_0"
   ]
  },
  {
   "cell_type": "code",
   "execution_count": 13,
   "id": "27fd4521",
   "metadata": {},
   "outputs": [
    {
     "data": {
      "text/html": [
       "4.57840557125664"
      ],
      "text/latex": [
       "4.57840557125664"
      ],
      "text/markdown": [
       "4.57840557125664"
      ],
      "text/plain": [
       "[1] 4.578406"
      ]
     },
     "metadata": {},
     "output_type": "display_data"
    }
   ],
   "source": [
    "#Get the rate for agecat of 0\n",
    "agecat_0 <- survRate(Surv(followup_time/1000, all) ~ agecat, data=whitehall_df_3) %>%\n",
    "    filter(agecat == 0) %>%\n",
    "    purrr::pluck(\"rate\")\n",
    "\n",
    "#Get the rate for agecat of 3\n",
    "agecat_3 <- survRate(Surv(followup_time/1000, all) ~ agecat, data=whitehall_df_3) %>%\n",
    "    filter(agecat == 3) %>%\n",
    "    purrr::pluck(\"rate\")\n",
    "\n",
    "#Get the ratio\n",
    "agecat_3 / agecat_0"
   ]
  },
  {
   "cell_type": "code",
   "execution_count": 14,
   "id": "22add603",
   "metadata": {},
   "outputs": [
    {
     "data": {
      "text/html": [
       "6.68827275387611"
      ],
      "text/latex": [
       "6.68827275387611"
      ],
      "text/markdown": [
       "6.68827275387611"
      ],
      "text/plain": [
       "[1] 6.688273"
      ]
     },
     "metadata": {},
     "output_type": "display_data"
    }
   ],
   "source": [
    "#Get the rate for agecat of 0\n",
    "agecat_0 <- survRate(Surv(followup_time/1000, all) ~ agecat, data=whitehall_df_3) %>%\n",
    "    filter(agecat == 0) %>%\n",
    "    purrr::pluck(\"rate\")\n",
    "\n",
    "#Get the rate for agecat of 4\n",
    "agecat_4 <- survRate(Surv(followup_time/1000, all) ~ agecat, data=whitehall_df_3) %>%\n",
    "    filter(agecat == 4) %>%\n",
    "    purrr::pluck(\"rate\")\n",
    "\n",
    "#Get the ratio\n",
    "agecat_4 / agecat_0"
   ]
  },
  {
   "cell_type": "code",
   "execution_count": 15,
   "id": "0a0527c5",
   "metadata": {},
   "outputs": [
    {
     "data": {
      "text/html": [
       "17.1110624280987"
      ],
      "text/latex": [
       "17.1110624280987"
      ],
      "text/markdown": [
       "17.1110624280987"
      ],
      "text/plain": [
       "[1] 17.11106"
      ]
     },
     "metadata": {},
     "output_type": "display_data"
    }
   ],
   "source": [
    "#Get the rate for agecat of 0\n",
    "agecat_0 <- survRate(Surv(followup_time/1000, all) ~ agecat, data=whitehall_df_3) %>%\n",
    "    filter(agecat == 0) %>%\n",
    "    purrr::pluck(\"rate\")\n",
    "\n",
    "#Get the rate for agecat of 5\n",
    "agecat_5 <- survRate(Surv(followup_time/1000, all) ~ agecat, data=whitehall_df_3) %>%\n",
    "    filter(agecat == 5) %>%\n",
    "    purrr::pluck(\"rate\")\n",
    "\n",
    "#Get the ratio\n",
    "agecat_5 / agecat_0"
   ]
  },
  {
   "cell_type": "markdown",
   "id": "8b9aea7c",
   "metadata": {},
   "source": [
    "It is clear that the rate ratios for consecutive age-groups versus the youngest age-group (baseline) increase with age.\n",
    "\n",
    "The rate for the 45-49-year age-group is 1.17 times that of the 40-44 year age-group; \n",
    "\n",
    "The rate for the 50-54-year age-group is 2.77 times that of the 40-44 year age-group; \n",
    "\n",
    "The rate for the 55-59-year age-group is 4.58 times that of the 40-44 year age-group; and so on."
   ]
  },
  {
   "cell_type": "markdown",
   "id": "2bacb24e",
   "metadata": {},
   "source": [
    "## Stratified estimates for the exposure of interest"
   ]
  },
  {
   "cell_type": "markdown",
   "id": "f1877412",
   "metadata": {},
   "source": [
    "Let’s say the main exposure of interest is grade of employment (coded: 1 = high grade, 2 = low grade). We will examine the all-cause mortality rates for low and high grades of employment, then estimate the rate ratio for low-grade employees versus high-grade employees."
   ]
  },
  {
   "cell_type": "code",
   "execution_count": 16,
   "id": "c0f2ec20",
   "metadata": {
    "scrolled": true
   },
   "outputs": [
    {
     "data": {
      "text/html": [
       "<table class=\"dataframe\">\n",
       "<caption>A data.frame: 2 × 6</caption>\n",
       "<thead>\n",
       "\t<tr><th></th><th scope=col>grade</th><th scope=col>tstop</th><th scope=col>event</th><th scope=col>rate</th><th scope=col>lower</th><th scope=col>upper</th></tr>\n",
       "\t<tr><th></th><th scope=col>&lt;dbl&gt;</th><th scope=col>&lt;dbl&gt;</th><th scope=col>&lt;dbl&gt;</th><th scope=col>&lt;dbl&gt;</th><th scope=col>&lt;dbl&gt;</th><th scope=col>&lt;dbl&gt;</th></tr>\n",
       "</thead>\n",
       "<tbody>\n",
       "\t<tr><th scope=row>grade=1</th><td>1</td><td>20.339787</td><td>221</td><td>10.8654</td><td> 9.480013</td><td>12.39630</td></tr>\n",
       "\t<tr><th scope=row>grade=2</th><td>2</td><td> 7.265584</td><td>182</td><td>25.0496</td><td>21.542406</td><td>28.96505</td></tr>\n",
       "</tbody>\n",
       "</table>\n"
      ],
      "text/latex": [
       "A data.frame: 2 × 6\n",
       "\\begin{tabular}{r|llllll}\n",
       "  & grade & tstop & event & rate & lower & upper\\\\\n",
       "  & <dbl> & <dbl> & <dbl> & <dbl> & <dbl> & <dbl>\\\\\n",
       "\\hline\n",
       "\tgrade=1 & 1 & 20.339787 & 221 & 10.8654 &  9.480013 & 12.39630\\\\\n",
       "\tgrade=2 & 2 &  7.265584 & 182 & 25.0496 & 21.542406 & 28.96505\\\\\n",
       "\\end{tabular}\n"
      ],
      "text/markdown": [
       "\n",
       "A data.frame: 2 × 6\n",
       "\n",
       "| <!--/--> | grade &lt;dbl&gt; | tstop &lt;dbl&gt; | event &lt;dbl&gt; | rate &lt;dbl&gt; | lower &lt;dbl&gt; | upper &lt;dbl&gt; |\n",
       "|---|---|---|---|---|---|---|\n",
       "| grade=1 | 1 | 20.339787 | 221 | 10.8654 |  9.480013 | 12.39630 |\n",
       "| grade=2 | 2 |  7.265584 | 182 | 25.0496 | 21.542406 | 28.96505 |\n",
       "\n"
      ],
      "text/plain": [
       "        grade tstop     event rate    lower     upper   \n",
       "grade=1 1     20.339787 221   10.8654  9.480013 12.39630\n",
       "grade=2 2      7.265584 182   25.0496 21.542406 28.96505"
      ]
     },
     "metadata": {},
     "output_type": "display_data"
    }
   ],
   "source": [
    "survRate(Surv(followup_time/1000, all) ~ grade, \n",
    "         data=whitehall_df_3)"
   ]
  },
  {
   "cell_type": "code",
   "execution_count": 17,
   "id": "0d4ed9d1",
   "metadata": {},
   "outputs": [
    {
     "data": {
      "text/html": [
       "2.30544628736853"
      ],
      "text/latex": [
       "2.30544628736853"
      ],
      "text/markdown": [
       "2.30544628736853"
      ],
      "text/plain": [
       "[1] 2.305446"
      ]
     },
     "metadata": {},
     "output_type": "display_data"
    }
   ],
   "source": [
    "#Get the rate for grade of 1\n",
    "grade_1 <- survRate(Surv(followup_time/1000, all) ~ grade, \n",
    "                    data=whitehall_df_3) %>%\n",
    "    filter(grade == 1) %>%\n",
    "    purrr::pluck(\"rate\")\n",
    "\n",
    "#Get the rate for grade of 2\n",
    "grade_2 <- survRate(Surv(followup_time/1000, all) ~ grade, \n",
    "                    data=whitehall_df_3) %>%\n",
    "    filter(grade == 2) %>%\n",
    "    purrr::pluck(\"rate\")\n",
    "\n",
    "#Get the ratio\n",
    "grade_2 / grade_1"
   ]
  },
  {
   "cell_type": "markdown",
   "id": "8e959bc3",
   "metadata": {},
   "source": [
    "To assess for potential confounding or effect modification by age at entry on the effect of employment grade use stmh with grade, stratified by agecat. Type:"
   ]
  },
  {
   "cell_type": "code",
   "execution_count": 18,
   "id": "167b717c",
   "metadata": {},
   "outputs": [
    {
     "data": {
      "text/html": [
       "<table class=\"dataframe\">\n",
       "<caption>A tibble: 6 × 2</caption>\n",
       "<thead>\n",
       "\t<tr><th scope=col>agecat</th><th scope=col>rate ratio</th></tr>\n",
       "\t<tr><th scope=col>&lt;fct&gt;</th><th scope=col>&lt;dbl&gt;</th></tr>\n",
       "</thead>\n",
       "<tbody>\n",
       "\t<tr><td>0</td><td>1.219251</td></tr>\n",
       "\t<tr><td>1</td><td>1.359850</td></tr>\n",
       "\t<tr><td>2</td><td>1.920887</td></tr>\n",
       "\t<tr><td>3</td><td>1.433275</td></tr>\n",
       "\t<tr><td>4</td><td>1.213287</td></tr>\n",
       "\t<tr><td>5</td><td>1.399100</td></tr>\n",
       "</tbody>\n",
       "</table>\n"
      ],
      "text/latex": [
       "A tibble: 6 × 2\n",
       "\\begin{tabular}{ll}\n",
       " agecat & rate ratio\\\\\n",
       " <fct> & <dbl>\\\\\n",
       "\\hline\n",
       "\t 0 & 1.219251\\\\\n",
       "\t 1 & 1.359850\\\\\n",
       "\t 2 & 1.920887\\\\\n",
       "\t 3 & 1.433275\\\\\n",
       "\t 4 & 1.213287\\\\\n",
       "\t 5 & 1.399100\\\\\n",
       "\\end{tabular}\n"
      ],
      "text/markdown": [
       "\n",
       "A tibble: 6 × 2\n",
       "\n",
       "| agecat &lt;fct&gt; | rate ratio &lt;dbl&gt; |\n",
       "|---|---|\n",
       "| 0 | 1.219251 |\n",
       "| 1 | 1.359850 |\n",
       "| 2 | 1.920887 |\n",
       "| 3 | 1.433275 |\n",
       "| 4 | 1.213287 |\n",
       "| 5 | 1.399100 |\n",
       "\n"
      ],
      "text/plain": [
       "  agecat rate ratio\n",
       "1 0      1.219251  \n",
       "2 1      1.359850  \n",
       "3 2      1.920887  \n",
       "4 3      1.433275  \n",
       "5 4      1.213287  \n",
       "6 5      1.399100  "
      ]
     },
     "metadata": {},
     "output_type": "display_data"
    }
   ],
   "source": [
    "#Get the rate for grade of 1\n",
    "grade_1 <- survRate(Surv(followup_time/1000, all) ~ grade + agecat, data=whitehall_df_3) %>%\n",
    "    filter(grade == 1) %>%\n",
    "    purrr::pluck(\"rate\")\n",
    "\n",
    "#Get the rate for grade of 2\n",
    "grade_2 <- survRate(Surv(followup_time/1000, all) ~ grade + agecat, data=whitehall_df_3) %>%\n",
    "    filter(grade == 2) %>%\n",
    "    purrr::pluck(\"rate\")\n",
    "\n",
    "#Get the ratios\n",
    "tibble(survRate(Surv(followup_time/1000, all) ~ grade + agecat, data=whitehall_df_3) %>%\n",
    "       filter(grade == 1) %>% \n",
    "       dplyr::select(\"agecat\"), \n",
    "       \"rate ratio\" = grade_2 / grade_1)"
   ]
  },
  {
   "cell_type": "markdown",
   "id": "8b774f45",
   "metadata": {},
   "source": [
    "R can't give us rate ratios but can do odds ratios with `epiDisplay`'s `cc` for crude odds ratios and `mhor` for adjusted"
   ]
  },
  {
   "cell_type": "code",
   "execution_count": 19,
   "id": "cf73195b",
   "metadata": {},
   "outputs": [
    {
     "name": "stderr",
     "output_type": "stream",
     "text": [
      "Loading required package: foreign\n",
      "\n",
      "Loading required package: nnet\n",
      "\n",
      "\n",
      "Attaching package: ‘epiDisplay’\n",
      "\n",
      "\n",
      "The following object is masked from ‘package:ggplot2’:\n",
      "\n",
      "    alpha\n",
      "\n",
      "\n"
     ]
    }
   ],
   "source": [
    "library(epiDisplay)"
   ]
  },
  {
   "cell_type": "code",
   "execution_count": 20,
   "id": "7ca1d4e0",
   "metadata": {},
   "outputs": [
    {
     "data": {
      "text/plain": [
       "\n",
       "                  whitehall_df_3$grade\n",
       "whitehall_df_3$all    1    2 Total\n",
       "             0      973  301  1274\n",
       "             1      221  182   403\n",
       "             Total 1194  483  1677\n",
       "\n",
       "OR =  2.66 \n",
       "95% CI =  2.1, 3.37  \n",
       "Chi-squared = 69.24, 1 d.f., P value = 0\n",
       "Fisher's exact test (2-sided) P value = 0 \n"
      ]
     },
     "metadata": {},
     "output_type": "display_data"
    }
   ],
   "source": [
    "cc(whitehall_df_3$all, whitehall_df_3$grade,\n",
    "              graph = FALSE)"
   ]
  },
  {
   "cell_type": "code",
   "execution_count": 21,
   "id": "6366fcdc",
   "metadata": {},
   "outputs": [
    {
     "name": "stdout",
     "output_type": "stream",
     "text": [
      "\n",
      "Stratified analysis by  Var3 \n",
      "               OR lower lim. upper lim.  P value\n",
      "Var3 0       1.20      0.283       3.90 0.760993\n",
      "Var3 1       1.37      0.577       3.00 0.412133\n",
      "Var3 2       2.16      1.216       3.79 0.005531\n",
      "Var3 3       1.52      0.936       2.47 0.077315\n",
      "Var3 4       1.26      0.711       2.25 0.412540\n",
      "Var3 5       3.57      0.241      40.76 0.222687\n",
      "M-H combined 1.56      1.200       2.03 0.000833\n",
      "\n",
      "M-H Chi2(1) = 11.17 , P value = 0.001 \n",
      "Homogeneity test, chi-squared 5 d.f. = 2.97 , P value = 0.705 \n",
      "\n"
     ]
    }
   ],
   "source": [
    "mhor(whitehall_df_3$all, \n",
    "     whitehall_df_3$grade,\n",
    "     whitehall_df_3$agecat, design = \"cohort\",\n",
    "     graph = FALSE)"
   ]
  },
  {
   "cell_type": "markdown",
   "id": "a8ea0e22",
   "metadata": {},
   "source": [
    "#### To examine whether the crude OR estimate for low grade, OR=2.66, is confounded by age at entry, we will examine the age-specific estimates. First we will assess whether there is any effect modification (also called ‘interaction’). The null hypothesis is ‘no effect modification’ and the large p-value (P=0.71) does not provide any evidence against the null hypothesis. Also, the values of the age-specific ORs are quite similar (they range from 1.2 to 3.57 with no evidence of a trend) therefore it is appropriate to summarise them using the Mantel-Haenszel estimate, OR=1.56 (95% CI 1.20 to 2.03). \n",
    "\n",
    "#### However, the results do show that the crude estimate of the effect of grade is strongly confounded by age at entry (ORcrude = 2.66, compared to RRM-H = 1.56)."
   ]
  },
  {
   "cell_type": "markdown",
   "id": "58274e22",
   "metadata": {},
   "source": [
    "# Review exercise"
   ]
  },
  {
   "cell_type": "markdown",
   "id": "cf002785",
   "metadata": {},
   "source": [
    "### 1) In order to analyse CHD mortality, set the time and the CHD mortality outcome variables with stset (remember that the time variables are timein and timeout, the outcome is chd, the identifier is id, and the scale should be set to years). Use the tab command on the chd variable to check that the number of deaths from CHD corresponds with the number given in the stset output."
   ]
  },
  {
   "cell_type": "markdown",
   "id": "0558b538",
   "metadata": {},
   "source": [
    " This is not needed in R"
   ]
  },
  {
   "cell_type": "markdown",
   "id": "42fb8ec5",
   "metadata": {},
   "source": [
    "### 2) Recode age at entry into 5-year age-groups and investigate how CHD mortality varies according to age at entry to the study using strate."
   ]
  },
  {
   "cell_type": "code",
   "execution_count": 22,
   "id": "9500e116",
   "metadata": {},
   "outputs": [
    {
     "data": {
      "text/html": [
       "<table class=\"dataframe\">\n",
       "<caption>A data.frame: 6 × 6</caption>\n",
       "<thead>\n",
       "\t<tr><th></th><th scope=col>agecat</th><th scope=col>tstop</th><th scope=col>event</th><th scope=col>rate</th><th scope=col>lower</th><th scope=col>upper</th></tr>\n",
       "\t<tr><th></th><th scope=col>&lt;fct&gt;</th><th scope=col>&lt;dbl&gt;</th><th scope=col>&lt;dbl&gt;</th><th scope=col>&lt;dbl&gt;</th><th scope=col>&lt;dbl&gt;</th><th scope=col>&lt;dbl&gt;</th></tr>\n",
       "</thead>\n",
       "<tbody>\n",
       "\t<tr><th scope=row>agecat=0</th><td>0</td><td>4.9186177</td><td>11</td><td> 2.236401</td><td> 1.116403</td><td> 4.001539</td></tr>\n",
       "\t<tr><th scope=row>agecat=1</th><td>1</td><td>7.8548937</td><td>16</td><td> 2.036947</td><td> 1.164291</td><td> 3.307874</td></tr>\n",
       "\t<tr><th scope=row>agecat=2</th><td>2</td><td>6.0597504</td><td>34</td><td> 5.610792</td><td> 3.885637</td><td> 7.840520</td></tr>\n",
       "\t<tr><th scope=row>agecat=3</th><td>3</td><td>5.2820143</td><td>50</td><td> 9.466086</td><td> 7.025911</td><td>12.479854</td></tr>\n",
       "\t<tr><th scope=row>agecat=4</th><td>4</td><td>3.0948473</td><td>32</td><td>10.339767</td><td> 7.072393</td><td>14.596666</td></tr>\n",
       "\t<tr><th scope=row>agecat=5</th><td>5</td><td>0.3952472</td><td>11</td><td>27.830685</td><td>13.892978</td><td>49.796783</td></tr>\n",
       "</tbody>\n",
       "</table>\n"
      ],
      "text/latex": [
       "A data.frame: 6 × 6\n",
       "\\begin{tabular}{r|llllll}\n",
       "  & agecat & tstop & event & rate & lower & upper\\\\\n",
       "  & <fct> & <dbl> & <dbl> & <dbl> & <dbl> & <dbl>\\\\\n",
       "\\hline\n",
       "\tagecat=0 & 0 & 4.9186177 & 11 &  2.236401 &  1.116403 &  4.001539\\\\\n",
       "\tagecat=1 & 1 & 7.8548937 & 16 &  2.036947 &  1.164291 &  3.307874\\\\\n",
       "\tagecat=2 & 2 & 6.0597504 & 34 &  5.610792 &  3.885637 &  7.840520\\\\\n",
       "\tagecat=3 & 3 & 5.2820143 & 50 &  9.466086 &  7.025911 & 12.479854\\\\\n",
       "\tagecat=4 & 4 & 3.0948473 & 32 & 10.339767 &  7.072393 & 14.596666\\\\\n",
       "\tagecat=5 & 5 & 0.3952472 & 11 & 27.830685 & 13.892978 & 49.796783\\\\\n",
       "\\end{tabular}\n"
      ],
      "text/markdown": [
       "\n",
       "A data.frame: 6 × 6\n",
       "\n",
       "| <!--/--> | agecat &lt;fct&gt; | tstop &lt;dbl&gt; | event &lt;dbl&gt; | rate &lt;dbl&gt; | lower &lt;dbl&gt; | upper &lt;dbl&gt; |\n",
       "|---|---|---|---|---|---|---|\n",
       "| agecat=0 | 0 | 4.9186177 | 11 |  2.236401 |  1.116403 |  4.001539 |\n",
       "| agecat=1 | 1 | 7.8548937 | 16 |  2.036947 |  1.164291 |  3.307874 |\n",
       "| agecat=2 | 2 | 6.0597504 | 34 |  5.610792 |  3.885637 |  7.840520 |\n",
       "| agecat=3 | 3 | 5.2820143 | 50 |  9.466086 |  7.025911 | 12.479854 |\n",
       "| agecat=4 | 4 | 3.0948473 | 32 | 10.339767 |  7.072393 | 14.596666 |\n",
       "| agecat=5 | 5 | 0.3952472 | 11 | 27.830685 | 13.892978 | 49.796783 |\n",
       "\n"
      ],
      "text/plain": [
       "         agecat tstop     event rate      lower     upper    \n",
       "agecat=0 0      4.9186177 11     2.236401  1.116403  4.001539\n",
       "agecat=1 1      7.8548937 16     2.036947  1.164291  3.307874\n",
       "agecat=2 2      6.0597504 34     5.610792  3.885637  7.840520\n",
       "agecat=3 3      5.2820143 50     9.466086  7.025911 12.479854\n",
       "agecat=4 4      3.0948473 32    10.339767  7.072393 14.596666\n",
       "agecat=5 5      0.3952472 11    27.830685 13.892978 49.796783"
      ]
     },
     "metadata": {},
     "output_type": "display_data"
    }
   ],
   "source": [
    "survRate(Surv(followup_time/1000, chd) ~ agecat, \n",
    "         data=whitehall_df_3)"
   ]
  },
  {
   "cell_type": "markdown",
   "id": "0eed7dad",
   "metadata": {},
   "source": [
    "Rates increase dramatically in older age brackets"
   ]
  },
  {
   "cell_type": "markdown",
   "id": "7590ef35",
   "metadata": {},
   "source": [
    "### 3) Examine the CHD mortality rates for low and high grades of employment. Use the stmh command to estimate the rate ratio for low-grade employees versus high-grade employees."
   ]
  },
  {
   "cell_type": "code",
   "execution_count": 23,
   "id": "aeea8b4a",
   "metadata": {},
   "outputs": [
    {
     "data": {
      "text/html": [
       "<table class=\"dataframe\">\n",
       "<caption>A data.frame: 2 × 6</caption>\n",
       "<thead>\n",
       "\t<tr><th></th><th scope=col>grade</th><th scope=col>tstop</th><th scope=col>event</th><th scope=col>rate</th><th scope=col>lower</th><th scope=col>upper</th></tr>\n",
       "\t<tr><th></th><th scope=col>&lt;dbl&gt;</th><th scope=col>&lt;dbl&gt;</th><th scope=col>&lt;dbl&gt;</th><th scope=col>&lt;dbl&gt;</th><th scope=col>&lt;dbl&gt;</th><th scope=col>&lt;dbl&gt;</th></tr>\n",
       "</thead>\n",
       "<tbody>\n",
       "\t<tr><th scope=row>grade=1</th><td>1</td><td>20.339787</td><td>90</td><td>4.424825</td><td>3.558082</td><td> 5.438861</td></tr>\n",
       "\t<tr><th scope=row>grade=2</th><td>2</td><td> 7.265584</td><td>64</td><td>8.808652</td><td>6.783736</td><td>11.248452</td></tr>\n",
       "</tbody>\n",
       "</table>\n"
      ],
      "text/latex": [
       "A data.frame: 2 × 6\n",
       "\\begin{tabular}{r|llllll}\n",
       "  & grade & tstop & event & rate & lower & upper\\\\\n",
       "  & <dbl> & <dbl> & <dbl> & <dbl> & <dbl> & <dbl>\\\\\n",
       "\\hline\n",
       "\tgrade=1 & 1 & 20.339787 & 90 & 4.424825 & 3.558082 &  5.438861\\\\\n",
       "\tgrade=2 & 2 &  7.265584 & 64 & 8.808652 & 6.783736 & 11.248452\\\\\n",
       "\\end{tabular}\n"
      ],
      "text/markdown": [
       "\n",
       "A data.frame: 2 × 6\n",
       "\n",
       "| <!--/--> | grade &lt;dbl&gt; | tstop &lt;dbl&gt; | event &lt;dbl&gt; | rate &lt;dbl&gt; | lower &lt;dbl&gt; | upper &lt;dbl&gt; |\n",
       "|---|---|---|---|---|---|---|\n",
       "| grade=1 | 1 | 20.339787 | 90 | 4.424825 | 3.558082 |  5.438861 |\n",
       "| grade=2 | 2 |  7.265584 | 64 | 8.808652 | 6.783736 | 11.248452 |\n",
       "\n"
      ],
      "text/plain": [
       "        grade tstop     event rate     lower    upper    \n",
       "grade=1 1     20.339787 90    4.424825 3.558082  5.438861\n",
       "grade=2 2      7.265584 64    8.808652 6.783736 11.248452"
      ]
     },
     "metadata": {},
     "output_type": "display_data"
    }
   ],
   "source": [
    "survRate(Surv(followup_time/1000, chd) ~ grade, \n",
    "         data=whitehall_df_3)"
   ]
  },
  {
   "cell_type": "markdown",
   "id": "970e0560",
   "metadata": {},
   "source": [
    "Rates for low-grade employees are almost double that for high-grade"
   ]
  },
  {
   "cell_type": "markdown",
   "id": "c521b7df",
   "metadata": {},
   "source": [
    "### 4) Use stmh to examine the effect of grade, stratified by age at entry:"
   ]
  },
  {
   "cell_type": "code",
   "execution_count": 24,
   "id": "145d5936",
   "metadata": {},
   "outputs": [
    {
     "data": {
      "text/plain": [
       "\n",
       "                  whitehall_df_3$grade\n",
       "whitehall_df_3$chd    1    2 Total\n",
       "             0     1104  419  1523\n",
       "             1       90   64   154\n",
       "             Total 1194  483  1677\n",
       "\n",
       "OR =  1.87 \n",
       "95% CI =  1.33, 2.63  \n",
       "Chi-squared = 13.46, 1 d.f., P value = 0\n",
       "Fisher's exact test (2-sided) P value = 0 \n"
      ]
     },
     "metadata": {},
     "output_type": "display_data"
    }
   ],
   "source": [
    "cc(whitehall_df_3$chd, whitehall_df_3$grade,\n",
    "              graph = FALSE)"
   ]
  },
  {
   "cell_type": "code",
   "execution_count": 25,
   "id": "d4fd599f",
   "metadata": {},
   "outputs": [
    {
     "name": "stdout",
     "output_type": "stream",
     "text": [
      "\n",
      "Stratified analysis by  Var3 \n",
      "                OR lower lim. upper lim. P value\n",
      "Var3 0       2.312     0.3781      10.20  0.2013\n",
      "Var3 1       1.072     0.1913       4.03  1.0000\n",
      "Var3 2       2.355     1.0463       5.18  0.0341\n",
      "Var3 3       1.425     0.7363       2.73  0.2686\n",
      "Var3 4       0.579     0.2499       1.32  0.1790\n",
      "Var3 5       0.474     0.0635       3.95  0.3902\n",
      "M-H combined 1.232     0.8610       1.76  0.2388\n",
      "\n",
      "M-H Chi2(1) = 1.39 , P value = 0.239 \n",
      "Homogeneity test, chi-squared 5 d.f. = 9.13 , P value = 0.104 \n",
      "\n"
     ]
    }
   ],
   "source": [
    "mhor(whitehall_df_3$chd, \n",
    "     whitehall_df_3$grade,\n",
    "     whitehall_df_3$agecat, design = \"cohort\",\n",
    "     graph = FALSE)"
   ]
  },
  {
   "cell_type": "markdown",
   "id": "1687a09f",
   "metadata": {},
   "source": [
    "#### Is there any evidence of interaction between employment grade and age at entry? "
   ]
  },
  {
   "cell_type": "markdown",
   "id": "9e5171cc",
   "metadata": {},
   "source": [
    "The crude OR of 1.87 is higher than the adjusted of OR 1.39 so perhaps some confounding."
   ]
  },
  {
   "cell_type": "markdown",
   "id": "de9c9317",
   "metadata": {},
   "source": [
    "#### Examine the result of the test for interaction. Is the effect of grade confounded by age at entry?"
   ]
  },
  {
   "cell_type": "markdown",
   "id": "1fe71735",
   "metadata": {},
   "source": [
    "There is no clear trend and not strong evidence of confounding by age. "
   ]
  }
 ],
 "metadata": {
  "kernelspec": {
   "display_name": "R",
   "language": "R",
   "name": "ir"
  },
  "language_info": {
   "codemirror_mode": "r",
   "file_extension": ".r",
   "mimetype": "text/x-r-source",
   "name": "R",
   "pygments_lexer": "r",
   "version": "4.0.4"
  }
 },
 "nbformat": 4,
 "nbformat_minor": 5
}
